{
 "cells": [
  {
   "cell_type": "markdown",
   "metadata": {},
   "source": [
    "## CNN logistic\n"
   ]
  },
  {
   "cell_type": "markdown",
   "metadata": {},
   "source": [
    "Only photos with max 960 in axis X and Y\n",
    "\n",
    "MSE \n",
    "\n"
   ]
  },
  {
   "cell_type": "code",
   "execution_count": 1,
   "metadata": {},
   "outputs": [],
   "source": [
    "# !pip install keras"
   ]
  },
  {
   "cell_type": "code",
   "execution_count": 2,
   "metadata": {},
   "outputs": [],
   "source": [
    "from tensorflow.keras import Sequential, Input, layers\n",
    "from keras.callbacks import EarlyStopping\n",
    "import pandas as pd\n",
    "import numpy as np\n",
    "import os\n",
    "from tensorflow.keras.preprocessing.image import load_img, img_to_array\n",
    "import matplotlib.pyplot as plt"
   ]
  },
  {
   "cell_type": "code",
   "execution_count": 3,
   "metadata": {},
   "outputs": [
    {
     "data": {
      "text/html": [
       "<div>\n",
       "<style scoped>\n",
       "    .dataframe tbody tr th:only-of-type {\n",
       "        vertical-align: middle;\n",
       "    }\n",
       "\n",
       "    .dataframe tbody tr th {\n",
       "        vertical-align: top;\n",
       "    }\n",
       "\n",
       "    .dataframe thead th {\n",
       "        text-align: right;\n",
       "    }\n",
       "</style>\n",
       "<table border=\"1\" class=\"dataframe\">\n",
       "  <thead>\n",
       "    <tr style=\"text-align: right;\">\n",
       "      <th></th>\n",
       "      <th>row_id</th>\n",
       "      <th>Motor axis 0</th>\n",
       "      <th>Motor axis 1</th>\n",
       "      <th>Motor axis 2</th>\n",
       "      <th>Array shape (axis 0)</th>\n",
       "      <th>Array shape (axis 1)</th>\n",
       "      <th>Array shape (axis 2)</th>\n",
       "      <th>Voxel spacing</th>\n",
       "      <th>Number of motors</th>\n",
       "    </tr>\n",
       "  </thead>\n",
       "  <tbody>\n",
       "    <tr>\n",
       "      <th>count</th>\n",
       "      <td>599.000000</td>\n",
       "      <td>599.000000</td>\n",
       "      <td>599.000000</td>\n",
       "      <td>599.000000</td>\n",
       "      <td>599.000000</td>\n",
       "      <td>599.000000</td>\n",
       "      <td>599.000000</td>\n",
       "      <td>599.000000</td>\n",
       "      <td>599.000000</td>\n",
       "    </tr>\n",
       "    <tr>\n",
       "      <th>mean</th>\n",
       "      <td>370.559265</td>\n",
       "      <td>71.956594</td>\n",
       "      <td>258.968280</td>\n",
       "      <td>247.873122</td>\n",
       "      <td>412.510851</td>\n",
       "      <td>955.130217</td>\n",
       "      <td>955.181970</td>\n",
       "      <td>14.919699</td>\n",
       "      <td>0.522538</td>\n",
       "    </tr>\n",
       "    <tr>\n",
       "      <th>std</th>\n",
       "      <td>213.831043</td>\n",
       "      <td>79.521214</td>\n",
       "      <td>284.648696</td>\n",
       "      <td>276.867706</td>\n",
       "      <td>188.618812</td>\n",
       "      <td>70.874328</td>\n",
       "      <td>107.751581</td>\n",
       "      <td>1.984829</td>\n",
       "      <td>0.499909</td>\n",
       "    </tr>\n",
       "    <tr>\n",
       "      <th>min</th>\n",
       "      <td>0.000000</td>\n",
       "      <td>-1.000000</td>\n",
       "      <td>-1.000000</td>\n",
       "      <td>-1.000000</td>\n",
       "      <td>300.000000</td>\n",
       "      <td>924.000000</td>\n",
       "      <td>924.000000</td>\n",
       "      <td>6.500000</td>\n",
       "      <td>0.000000</td>\n",
       "    </tr>\n",
       "    <tr>\n",
       "      <th>25%</th>\n",
       "      <td>191.500000</td>\n",
       "      <td>-1.000000</td>\n",
       "      <td>-1.000000</td>\n",
       "      <td>-1.000000</td>\n",
       "      <td>300.000000</td>\n",
       "      <td>928.000000</td>\n",
       "      <td>928.000000</td>\n",
       "      <td>13.100000</td>\n",
       "      <td>0.000000</td>\n",
       "    </tr>\n",
       "    <tr>\n",
       "      <th>50%</th>\n",
       "      <td>367.000000</td>\n",
       "      <td>43.000000</td>\n",
       "      <td>158.000000</td>\n",
       "      <td>140.000000</td>\n",
       "      <td>300.000000</td>\n",
       "      <td>960.000000</td>\n",
       "      <td>928.000000</td>\n",
       "      <td>15.600000</td>\n",
       "      <td>1.000000</td>\n",
       "    </tr>\n",
       "    <tr>\n",
       "      <th>75%</th>\n",
       "      <td>560.500000</td>\n",
       "      <td>143.000000</td>\n",
       "      <td>519.000000</td>\n",
       "      <td>491.500000</td>\n",
       "      <td>500.000000</td>\n",
       "      <td>960.000000</td>\n",
       "      <td>956.000000</td>\n",
       "      <td>16.100000</td>\n",
       "      <td>1.000000</td>\n",
       "    </tr>\n",
       "    <tr>\n",
       "      <th>max</th>\n",
       "      <td>736.000000</td>\n",
       "      <td>364.000000</td>\n",
       "      <td>904.000000</td>\n",
       "      <td>896.000000</td>\n",
       "      <td>800.000000</td>\n",
       "      <td>1912.000000</td>\n",
       "      <td>1847.000000</td>\n",
       "      <td>19.700000</td>\n",
       "      <td>1.000000</td>\n",
       "    </tr>\n",
       "  </tbody>\n",
       "</table>\n",
       "</div>"
      ],
      "text/plain": [
       "           row_id  Motor axis 0  Motor axis 1  Motor axis 2  \\\n",
       "count  599.000000    599.000000    599.000000    599.000000   \n",
       "mean   370.559265     71.956594    258.968280    247.873122   \n",
       "std    213.831043     79.521214    284.648696    276.867706   \n",
       "min      0.000000     -1.000000     -1.000000     -1.000000   \n",
       "25%    191.500000     -1.000000     -1.000000     -1.000000   \n",
       "50%    367.000000     43.000000    158.000000    140.000000   \n",
       "75%    560.500000    143.000000    519.000000    491.500000   \n",
       "max    736.000000    364.000000    904.000000    896.000000   \n",
       "\n",
       "       Array shape (axis 0)  Array shape (axis 1)  Array shape (axis 2)  \\\n",
       "count            599.000000            599.000000            599.000000   \n",
       "mean             412.510851            955.130217            955.181970   \n",
       "std              188.618812             70.874328            107.751581   \n",
       "min              300.000000            924.000000            924.000000   \n",
       "25%              300.000000            928.000000            928.000000   \n",
       "50%              300.000000            960.000000            928.000000   \n",
       "75%              500.000000            960.000000            956.000000   \n",
       "max              800.000000           1912.000000           1847.000000   \n",
       "\n",
       "       Voxel spacing  Number of motors  \n",
       "count     599.000000        599.000000  \n",
       "mean       14.919699          0.522538  \n",
       "std         1.984829          0.499909  \n",
       "min         6.500000          0.000000  \n",
       "25%        13.100000          0.000000  \n",
       "50%        15.600000          1.000000  \n",
       "75%        16.100000          1.000000  \n",
       "max        19.700000          1.000000  "
      ]
     },
     "execution_count": 3,
     "metadata": {},
     "output_type": "execute_result"
    }
   ],
   "source": [
    "train_label_csv= '/Users/wm/code/mc-will/bacterial_motor/BYU_Locating-Bacterial_Flagellar_Motors_2025/data/train_labels.csv'\n",
    "df_train_label_csv = pd.read_csv (train_label_csv).copy()\n",
    "\n",
    "# Sorting only motors 1 or 0\n",
    "df_train_label_csv= df_train_label_csv[df_train_label_csv['Number of motors']<=1]\n",
    "\n",
    "df_train_label_csv.head(3)\n",
    "# Describe the CSV\n",
    "df_train_label_csv.describe()"
   ]
  },
  {
   "cell_type": "code",
   "execution_count": 4,
   "metadata": {},
   "outputs": [],
   "source": [
    "\"\"\"\n",
    "Function look the foto 72 in each 'tomo'\n",
    "* Img size is too heavy at 960*960 pixel, so se test on 256*256\n",
    "\n",
    "\"\"\"\n",
    "def load_from_each_tomo(parent_folder,\n",
    "                        # img_size=(960, 960),\n",
    "                        img_size=(256,256),\n",
    "                        # img_size=(128, 128),\n",
    "                        ):\n",
    "\n",
    "    slices = []\n",
    "    # select the column of 'tomo_id' with only 1/0 Motors\n",
    "    tomo_ids = df_train_label_csv['tomo_id']\n",
    "    # print (tomo_ids)\n",
    "\n",
    "    # Loop to look each foto per Tomo_id\n",
    "    for id in tomo_ids:\n",
    "        # make the path btw parent_path and tomo_id\n",
    "        tomo_path = os.path.join(parent_folder, id)\n",
    "        # print(tomo_path)\n",
    "\n",
    "        # Check if it is a real directory\n",
    "        if os.path.isdir(tomo_path):\n",
    "            # make a liste of all the photo per tomo\n",
    "            all_slices = sorted([f for f in os.listdir(tomo_path)])\n",
    "            # print(' all slices:',len(all_slices), type(all_slices), all_slices)\n",
    "\n",
    "            number = 72 ### mean where the best photo is\n",
    "\n",
    "            slice_path =os.path.join(tomo_path, all_slices[number])\n",
    "            # load the img from slice_path with same size , in 1 chanel = W/B\n",
    "            img = load_img(slice_path,\n",
    "                           target_size=img_size,\n",
    "                           color_mode='grayscale',\n",
    "                           )\n",
    "            # Normalization btw 0/1 divide by 255\n",
    "            img_array = img_to_array(img) / 255\n",
    "\n",
    "            # append to the slice list\n",
    "            slices.append(img_array)\n",
    "\n",
    "    # return un array to be used\n",
    "    return np.array(slices)\n",
    "\n",
    "path= '/Users/wm/code/mc-will/bacterial_motor/BYU_Locating-Bacterial_Flagellar_Motors_2025/data/pictures_raw/train'\n",
    "X =load_from_each_tomo(path, )\n"
   ]
  },
  {
   "cell_type": "code",
   "execution_count": 5,
   "metadata": {},
   "outputs": [],
   "source": [
    "def init_model_cnnlog(X):\n",
    "    model = Sequential()\n",
    "    model.add(Input(shape= X.shape[1:]))\n",
    "\n",
    "    model.add(layers.Conv2D(32, (3, 3),\n",
    "                            padding='same',\n",
    "                            activation=\"relu\"))\n",
    "    model.add(layers.MaxPool2D(pool_size=(2, 2)))\n",
    "    #\n",
    "    model.add(layers.Conv2D(64, (3, 3),\n",
    "                            padding='same',\n",
    "                            activation=\"relu\"))\n",
    "    model.add(layers.MaxPool2D(pool_size=(2, 2)))\n",
    "\n",
    "    model.add(layers.Flatten())\n",
    "\n",
    "    model.add(layers.Dense(256,activation= 'relu'))\n",
    "\n",
    "    model.add(layers.Dense(1, activation='sigmoid'))\n",
    "    return model\n",
    "model = init_model_cnnlog(X)"
   ]
  },
  {
   "cell_type": "code",
   "execution_count": 6,
   "metadata": {},
   "outputs": [],
   "source": [
    "def init_model_cnnlog(X):\n",
    "    model = Sequential()\n",
    "    model.add(Input(shape= X.shape[1:]))\n",
    "\n",
    "    model.add(layers.Conv2D(32, (3, 3),\n",
    "                            padding='same',\n",
    "                            activation=\"relu\"))\n",
    "    model.add(layers.MaxPool2D(pool_size=(2, 2)))\n",
    "    #\n",
    "    model.add(layers.Conv2D(64, (3, 3),\n",
    "                            padding='same',\n",
    "                            activation=\"relu\"))\n",
    "    model.add(layers.MaxPool2D(pool_size=(2, 2)))\n",
    "\n",
    "    model.add(layers.Flatten())\n",
    "\n",
    "    model.add(layers.Dense(256,activation= 'relu'))\n",
    "\n",
    "    model.add(layers.Dense(1, activation='sigmoid'))\n",
    "    return model\n",
    "model = init_model_cnnlog(X)"
   ]
  },
  {
   "cell_type": "code",
   "execution_count": 7,
   "metadata": {},
   "outputs": [],
   "source": [
    "def init_model_cnnlog(X):\n",
    "    model = Sequential()\n",
    "    model.add(Input(shape= X.shape[1:]))\n",
    "\n",
    "    model.add(layers.Conv2D(32, (3, 3),\n",
    "                            padding='same',\n",
    "                            activation=\"relu\"))\n",
    "    model.add(layers.MaxPool2D(pool_size=(2, 2)))\n",
    "    #\n",
    "    model.add(layers.Conv2D(64, (3, 3),\n",
    "                            padding='same',\n",
    "                            activation=\"relu\"))\n",
    "    model.add(layers.MaxPool2D(pool_size=(2, 2)))\n",
    "\n",
    "    model.add(layers.Flatten())\n",
    "\n",
    "    model.add(layers.Dense(256,activation= 'relu'))\n",
    "\n",
    "    model.add(layers.Dense(1, activation='sigmoid'))\n",
    "    return model\n",
    "model = init_model_cnnlog(X)"
   ]
  },
  {
   "cell_type": "code",
   "execution_count": 8,
   "metadata": {},
   "outputs": [],
   "source": [
    "def init_model_cnnlog(X):\n",
    "    model = Sequential()\n",
    "    model.add(Input(shape= X.shape[1:]))\n",
    "\n",
    "    model.add(layers.Conv2D(32, (3, 3),\n",
    "                            padding='same',\n",
    "                            activation=\"relu\"))\n",
    "    model.add(layers.MaxPool2D(pool_size=(2, 2)))\n",
    "    #\n",
    "    model.add(layers.Conv2D(64, (3, 3),\n",
    "                            padding='same',\n",
    "                            activation=\"relu\"))\n",
    "    model.add(layers.MaxPool2D(pool_size=(2, 2)))\n",
    "\n",
    "    model.add(layers.Flatten())\n",
    "\n",
    "    model.add(layers.Dense(256,activation= 'relu'))\n",
    "\n",
    "    model.add(layers.Dense(1, activation='sigmoid'))\n",
    "    return model\n",
    "model = init_model_cnnlog(X)"
   ]
  },
  {
   "cell_type": "code",
   "execution_count": 9,
   "metadata": {},
   "outputs": [],
   "source": [
    "# selection of y= 1 or 0 Motors\n",
    "y= df_train_label_csv['Number of motors']"
   ]
  },
  {
   "cell_type": "code",
   "execution_count": 10,
   "metadata": {},
   "outputs": [],
   "source": [
    "def init_model_cnnlog(X):\n",
    "    model = Sequential()\n",
    "    model.add(Input(shape= X.shape[1:]))\n",
    "\n",
    "    model.add(layers.Conv2D(32, (3, 3),\n",
    "                            padding='same',\n",
    "                            activation=\"relu\"))\n",
    "    model.add(layers.MaxPool2D(pool_size=(2, 2)))\n",
    "    #\n",
    "    model.add(layers.Conv2D(64, (3, 3),\n",
    "                            padding='same',\n",
    "                            activation=\"relu\"))\n",
    "    model.add(layers.MaxPool2D(pool_size=(2, 2)))\n",
    "\n",
    "    model.add(layers.Flatten())\n",
    "\n",
    "    model.add(layers.Dense(256,activation= 'relu'))\n",
    "\n",
    "    model.add(layers.Dense(1, activation='sigmoid'))\n",
    "    return model\n",
    "model = init_model_cnnlog(X)"
   ]
  },
  {
   "cell_type": "code",
   "execution_count": 11,
   "metadata": {},
   "outputs": [],
   "source": [
    "def model_compiled(model):\n",
    "    model.compile(loss= 'binary_crossentropy',\n",
    "                  optimizer = 'adam',\n",
    "                #   metrics=['mse', 'F1Score'],\n",
    "                  metrics=['accuracy',\n",
    "                           'F1Score',\n",
    "                           'recall',\n",
    "                           'precision'],\n",
    "                  )\n",
    "    return model\n",
    "model_compi = model_compiled(model)"
   ]
  },
  {
   "cell_type": "code",
   "execution_count": 12,
   "metadata": {},
   "outputs": [
    {
     "data": {
      "text/plain": [
       "<keras.src.callbacks.history.History at 0x139360bb0>"
      ]
     },
     "execution_count": 12,
     "metadata": {},
     "output_type": "execute_result"
    }
   ],
   "source": [
    "# validation_data = (X_val_trans,y_val)\n",
    "\n",
    "def model_train (model, X_train_processed, y_train, batch_size=16 ,epochs=50):\n",
    "    verbose=0\n",
    "    validation_split=0.2\n",
    "    es = EarlyStopping(patience=5,\n",
    "                       restore_best_weights=True)\n",
    "\n",
    "    history = model.fit(X_train_processed,\n",
    "                        y_train,\n",
    "                        batch_size=batch_size,\n",
    "                        epochs=epochs,\n",
    "                        validation_split=validation_split,\n",
    "                        callbacks=[es],\n",
    "                        verbose=verbose)\n",
    "    return history\n",
    "history = model_train(model_compi, X,y)\n",
    "history"
   ]
  },
  {
   "cell_type": "code",
   "execution_count": 19,
   "metadata": {},
   "outputs": [
    {
     "data": {
      "text/plain": [
       "{'F1Score': [0.6887052059173584,\n",
       "  0.6894664168357849,\n",
       "  0.6894664168357849,\n",
       "  0.6980608105659485,\n",
       "  0.6970953941345215,\n",
       "  0.6970953941345215,\n",
       "  0.696132481098175,\n",
       "  0.699999988079071,\n",
       "  0.7009735107421875,\n",
       "  0.7009735107421875],\n",
       " 'accuracy': [0.555323600769043,\n",
       "  0.6701461672782898,\n",
       "  0.7494781017303467,\n",
       "  0.7724425792694092,\n",
       "  0.7891440391540527,\n",
       "  0.8371607661247253,\n",
       "  0.8747390508651733,\n",
       "  0.8997912406921387,\n",
       "  0.8288100361824036,\n",
       "  0.924843430519104],\n",
       " 'loss': [2.9088685512542725,\n",
       "  0.6075689196586609,\n",
       "  0.5362335443496704,\n",
       "  0.5041172504425049,\n",
       "  0.4506177306175232,\n",
       "  0.37817659974098206,\n",
       "  0.25774621963500977,\n",
       "  0.27791285514831543,\n",
       "  0.40019360184669495,\n",
       "  0.20137813687324524],\n",
       " 'precision': [0.5719557404518127,\n",
       "  0.6654929518699646,\n",
       "  0.7291666865348816,\n",
       "  0.761904776096344,\n",
       "  0.7725631594657898,\n",
       "  0.8175182342529297,\n",
       "  0.8664122223854065,\n",
       "  0.88345867395401,\n",
       "  0.8079710006713867,\n",
       "  0.9029850959777832],\n",
       " 'recall': [0.6150793433189392,\n",
       "  0.75,\n",
       "  0.8333333134651184,\n",
       "  0.8253968358039856,\n",
       "  0.8492063283920288,\n",
       "  0.8888888955116272,\n",
       "  0.9007936716079712,\n",
       "  0.932539701461792,\n",
       "  0.8849206566810608,\n",
       "  0.9603174328804016],\n",
       " 'val_F1Score': [0.6740331053733826,\n",
       "  0.6740331053733826,\n",
       "  0.6740331053733826,\n",
       "  0.6777777671813965,\n",
       "  0.6740331053733826,\n",
       "  0.6777777671813965,\n",
       "  0.6740331053733826,\n",
       "  0.6777777671813965,\n",
       "  0.6777777671813965,\n",
       "  0.6777777671813965],\n",
       " 'val_accuracy': [0.5166666507720947,\n",
       "  0.6666666865348816,\n",
       "  0.8166666626930237,\n",
       "  0.7666666507720947,\n",
       "  0.7916666865348816,\n",
       "  0.75,\n",
       "  0.8083333373069763,\n",
       "  0.8083333373069763,\n",
       "  0.7833333611488342,\n",
       "  0.800000011920929],\n",
       " 'val_loss': [0.6574344038963318,\n",
       "  0.5545088052749634,\n",
       "  0.4670676290988922,\n",
       "  0.47017428278923035,\n",
       "  0.4497624635696411,\n",
       "  0.4510801136493683,\n",
       "  0.4793968200683594,\n",
       "  0.46232712268829346,\n",
       "  0.45782968401908875,\n",
       "  0.6023319959640503],\n",
       " 'val_precision': [1.0,\n",
       "  0.8181818127632141,\n",
       "  0.7599999904632568,\n",
       "  0.746268630027771,\n",
       "  0.7571428418159485,\n",
       "  0.7540983557701111,\n",
       "  0.779411792755127,\n",
       "  0.75,\n",
       "  0.7611940503120422,\n",
       "  0.7341772317886353],\n",
       " 'val_recall': [0.04918032884597778,\n",
       "  0.44262295961380005,\n",
       "  0.9344262480735779,\n",
       "  0.8196721076965332,\n",
       "  0.868852436542511,\n",
       "  0.7540983557701111,\n",
       "  0.868852436542511,\n",
       "  0.9344262480735779,\n",
       "  0.8360655903816223,\n",
       "  0.9508196711540222]}"
      ]
     },
     "execution_count": 19,
     "metadata": {},
     "output_type": "execute_result"
    }
   ],
   "source": [
    "history.history\n"
   ]
  },
  {
   "cell_type": "code",
   "execution_count": 22,
   "metadata": {},
   "outputs": [
    {
     "data": {
      "image/png": "[encoded data removed]",
      "text/plain": [
       "<Figure size 640x480 with 1 Axes>"
      ]
     },
     "metadata": {},
     "output_type": "display_data"
    }
   ],
   "source": [
    "# plt.plot(history.history['loss'], c='r');\n",
    "# plt.plot(history.history['mse'],c='b');\n",
    "# plt.plot(history.history['val_loss'],c='g');\n",
    "plt.plot(history.history['F1Score']);\n",
    "plt.plot(history.history['recall'], c='r');\n",
    "plt.plot(history.history['accuracy'], c='g');\n"
   ]
  },
  {
   "cell_type": "code",
   "execution_count": 21,
   "metadata": {},
   "outputs": [
    {
     "data": {
      "text/html": [
       "<pre style=\"white-space:pre;overflow-x:auto;line-height:normal;font-family:Menlo,'DejaVu Sans Mono',consolas,'Courier New',monospace\"><span style=\"font-weight: bold\">Model: \"sequential_4\"</span>\n",
       "</pre>\n"
      ],
      "text/plain": [
       "\u001b[1mModel: \"sequential_4\"\u001b[0m\n"
      ]
     },
     "metadata": {},
     "output_type": "display_data"
    },
    {
     "data": {
      "text/html": [
       "<pre style=\"white-space:pre;overflow-x:auto;line-height:normal;font-family:Menlo,'DejaVu Sans Mono',consolas,'Courier New',monospace\">┏━━━━━━━━━━━━━━━━━━━━━━━━━━━━━━━━━┳━━━━━━━━━━━━━━━━━━━━━━━━┳━━━━━━━━━━━━━━━┓\n",
       "┃<span style=\"font-weight: bold\"> Layer (type)                    </span>┃<span style=\"font-weight: bold\"> Output Shape           </span>┃<span style=\"font-weight: bold\">       Param # </span>┃\n",
       "┡━━━━━━━━━━━━━━━━━━━━━━━━━━━━━━━━━╇━━━━━━━━━━━━━━━━━━━━━━━━╇━━━━━━━━━━━━━━━┩\n",
       "│ conv2d_8 (<span style=\"color: #0087ff; text-decoration-color: #0087ff\">Conv2D</span>)               │ (<span style=\"color: #00d7ff; text-decoration-color: #00d7ff\">None</span>, <span style=\"color: #00af00; text-decoration-color: #00af00\">256</span>, <span style=\"color: #00af00; text-decoration-color: #00af00\">256</span>, <span style=\"color: #00af00; text-decoration-color: #00af00\">32</span>)   │           <span style=\"color: #00af00; text-decoration-color: #00af00\">320</span> │\n",
       "├─────────────────────────────────┼────────────────────────┼───────────────┤\n",
       "│ max_pooling2d_8 (<span style=\"color: #0087ff; text-decoration-color: #0087ff\">MaxPooling2D</span>)  │ (<span style=\"color: #00d7ff; text-decoration-color: #00d7ff\">None</span>, <span style=\"color: #00af00; text-decoration-color: #00af00\">128</span>, <span style=\"color: #00af00; text-decoration-color: #00af00\">128</span>, <span style=\"color: #00af00; text-decoration-color: #00af00\">32</span>)   │             <span style=\"color: #00af00; text-decoration-color: #00af00\">0</span> │\n",
       "├─────────────────────────────────┼────────────────────────┼───────────────┤\n",
       "│ conv2d_9 (<span style=\"color: #0087ff; text-decoration-color: #0087ff\">Conv2D</span>)               │ (<span style=\"color: #00d7ff; text-decoration-color: #00d7ff\">None</span>, <span style=\"color: #00af00; text-decoration-color: #00af00\">128</span>, <span style=\"color: #00af00; text-decoration-color: #00af00\">128</span>, <span style=\"color: #00af00; text-decoration-color: #00af00\">64</span>)   │        <span style=\"color: #00af00; text-decoration-color: #00af00\">18,496</span> │\n",
       "├─────────────────────────────────┼────────────────────────┼───────────────┤\n",
       "│ max_pooling2d_9 (<span style=\"color: #0087ff; text-decoration-color: #0087ff\">MaxPooling2D</span>)  │ (<span style=\"color: #00d7ff; text-decoration-color: #00d7ff\">None</span>, <span style=\"color: #00af00; text-decoration-color: #00af00\">64</span>, <span style=\"color: #00af00; text-decoration-color: #00af00\">64</span>, <span style=\"color: #00af00; text-decoration-color: #00af00\">64</span>)     │             <span style=\"color: #00af00; text-decoration-color: #00af00\">0</span> │\n",
       "├─────────────────────────────────┼────────────────────────┼───────────────┤\n",
       "│ flatten_4 (<span style=\"color: #0087ff; text-decoration-color: #0087ff\">Flatten</span>)             │ (<span style=\"color: #00d7ff; text-decoration-color: #00d7ff\">None</span>, <span style=\"color: #00af00; text-decoration-color: #00af00\">262144</span>)         │             <span style=\"color: #00af00; text-decoration-color: #00af00\">0</span> │\n",
       "├─────────────────────────────────┼────────────────────────┼───────────────┤\n",
       "│ dense_8 (<span style=\"color: #0087ff; text-decoration-color: #0087ff\">Dense</span>)                 │ (<span style=\"color: #00d7ff; text-decoration-color: #00d7ff\">None</span>, <span style=\"color: #00af00; text-decoration-color: #00af00\">256</span>)            │    <span style=\"color: #00af00; text-decoration-color: #00af00\">67,109,120</span> │\n",
       "├─────────────────────────────────┼────────────────────────┼───────────────┤\n",
       "│ dense_9 (<span style=\"color: #0087ff; text-decoration-color: #0087ff\">Dense</span>)                 │ (<span style=\"color: #00d7ff; text-decoration-color: #00d7ff\">None</span>, <span style=\"color: #00af00; text-decoration-color: #00af00\">1</span>)              │           <span style=\"color: #00af00; text-decoration-color: #00af00\">257</span> │\n",
       "└─────────────────────────────────┴────────────────────────┴───────────────┘\n",
       "</pre>\n"
      ],
      "text/plain": [
       "┏━━━━━━━━━━━━━━━━━━━━━━━━━━━━━━━━━┳━━━━━━━━━━━━━━━━━━━━━━━━┳━━━━━━━━━━━━━━━┓\n",
       "┃\u001b[1m \u001b[0m\u001b[1mLayer (type)                   \u001b[0m\u001b[1m \u001b[0m┃\u001b[1m \u001b[0m\u001b[1mOutput Shape          \u001b[0m\u001b[1m \u001b[0m┃\u001b[1m \u001b[0m\u001b[1m      Param #\u001b[0m\u001b[1m \u001b[0m┃\n",
       "┡━━━━━━━━━━━━━━━━━━━━━━━━━━━━━━━━━╇━━━━━━━━━━━━━━━━━━━━━━━━╇━━━━━━━━━━━━━━━┩\n",
       "│ conv2d_8 (\u001b[38;5;33mConv2D\u001b[0m)               │ (\u001b[38;5;45mNone\u001b[0m, \u001b[38;5;34m256\u001b[0m, \u001b[38;5;34m256\u001b[0m, \u001b[38;5;34m32\u001b[0m)   │           \u001b[38;5;34m320\u001b[0m │\n",
       "├─────────────────────────────────┼────────────────────────┼───────────────┤\n",
       "│ max_pooling2d_8 (\u001b[38;5;33mMaxPooling2D\u001b[0m)  │ (\u001b[38;5;45mNone\u001b[0m, \u001b[38;5;34m128\u001b[0m, \u001b[38;5;34m128\u001b[0m, \u001b[38;5;34m32\u001b[0m)   │             \u001b[38;5;34m0\u001b[0m │\n",
       "├─────────────────────────────────┼────────────────────────┼───────────────┤\n",
       "│ conv2d_9 (\u001b[38;5;33mConv2D\u001b[0m)               │ (\u001b[38;5;45mNone\u001b[0m, \u001b[38;5;34m128\u001b[0m, \u001b[38;5;34m128\u001b[0m, \u001b[38;5;34m64\u001b[0m)   │        \u001b[38;5;34m18,496\u001b[0m │\n",
       "├─────────────────────────────────┼────────────────────────┼───────────────┤\n",
       "│ max_pooling2d_9 (\u001b[38;5;33mMaxPooling2D\u001b[0m)  │ (\u001b[38;5;45mNone\u001b[0m, \u001b[38;5;34m64\u001b[0m, \u001b[38;5;34m64\u001b[0m, \u001b[38;5;34m64\u001b[0m)     │             \u001b[38;5;34m0\u001b[0m │\n",
       "├─────────────────────────────────┼────────────────────────┼───────────────┤\n",
       "│ flatten_4 (\u001b[38;5;33mFlatten\u001b[0m)             │ (\u001b[38;5;45mNone\u001b[0m, \u001b[38;5;34m262144\u001b[0m)         │             \u001b[38;5;34m0\u001b[0m │\n",
       "├─────────────────────────────────┼────────────────────────┼───────────────┤\n",
       "│ dense_8 (\u001b[38;5;33mDense\u001b[0m)                 │ (\u001b[38;5;45mNone\u001b[0m, \u001b[38;5;34m256\u001b[0m)            │    \u001b[38;5;34m67,109,120\u001b[0m │\n",
       "├─────────────────────────────────┼────────────────────────┼───────────────┤\n",
       "│ dense_9 (\u001b[38;5;33mDense\u001b[0m)                 │ (\u001b[38;5;45mNone\u001b[0m, \u001b[38;5;34m1\u001b[0m)              │           \u001b[38;5;34m257\u001b[0m │\n",
       "└─────────────────────────────────┴────────────────────────┴───────────────┘\n"
      ]
     },
     "metadata": {},
     "output_type": "display_data"
    },
    {
     "data": {
      "text/html": [
       "<pre style=\"white-space:pre;overflow-x:auto;line-height:normal;font-family:Menlo,'DejaVu Sans Mono',consolas,'Courier New',monospace\"><span style=\"font-weight: bold\"> Total params: </span><span style=\"color: #00af00; text-decoration-color: #00af00\">201,384,581</span> (768.22 MB)\n",
       "</pre>\n"
      ],
      "text/plain": [
       "\u001b[1m Total params: \u001b[0m\u001b[38;5;34m201,384,581\u001b[0m (768.22 MB)\n"
      ]
     },
     "metadata": {},
     "output_type": "display_data"
    },
    {
     "data": {
      "text/html": [
       "<pre style=\"white-space:pre;overflow-x:auto;line-height:normal;font-family:Menlo,'DejaVu Sans Mono',consolas,'Courier New',monospace\"><span style=\"font-weight: bold\"> Trainable params: </span><span style=\"color: #00af00; text-decoration-color: #00af00\">67,128,193</span> (256.07 MB)\n",
       "</pre>\n"
      ],
      "text/plain": [
       "\u001b[1m Trainable params: \u001b[0m\u001b[38;5;34m67,128,193\u001b[0m (256.07 MB)\n"
      ]
     },
     "metadata": {},
     "output_type": "display_data"
    },
    {
     "data": {
      "text/html": [
       "<pre style=\"white-space:pre;overflow-x:auto;line-height:normal;font-family:Menlo,'DejaVu Sans Mono',consolas,'Courier New',monospace\"><span style=\"font-weight: bold\"> Non-trainable params: </span><span style=\"color: #00af00; text-decoration-color: #00af00\">0</span> (0.00 B)\n",
       "</pre>\n"
      ],
      "text/plain": [
       "\u001b[1m Non-trainable params: \u001b[0m\u001b[38;5;34m0\u001b[0m (0.00 B)\n"
      ]
     },
     "metadata": {},
     "output_type": "display_data"
    },
    {
     "data": {
      "text/html": [
       "<pre style=\"white-space:pre;overflow-x:auto;line-height:normal;font-family:Menlo,'DejaVu Sans Mono',consolas,'Courier New',monospace\"><span style=\"font-weight: bold\"> Optimizer params: </span><span style=\"color: #00af00; text-decoration-color: #00af00\">134,256,388</span> (512.15 MB)\n",
       "</pre>\n"
      ],
      "text/plain": [
       "\u001b[1m Optimizer params: \u001b[0m\u001b[38;5;34m134,256,388\u001b[0m (512.15 MB)\n"
      ]
     },
     "metadata": {},
     "output_type": "display_data"
    }
   ],
   "source": [
    "model.summary()"
   ]
  },
  {
   "cell_type": "code",
   "execution_count": null,
   "metadata": {},
   "outputs": [],
   "source": []
  }
 ],
 "metadata": {
  "kernelspec": {
   "display_name": "bacterial_motor",
   "language": "python",
   "name": "python3"
  },
  "language_info": {
   "codemirror_mode": {
    "name": "ipython",
    "version": 3
   },
   "file_extension": ".py",
   "mimetype": "text/x-python",
   "name": "python",
   "nbconvert_exporter": "python",
   "pygments_lexer": "ipython3",
   "version": "3.10.6"
  }
 },
 "nbformat": 4,
 "nbformat_minor": 2
}
