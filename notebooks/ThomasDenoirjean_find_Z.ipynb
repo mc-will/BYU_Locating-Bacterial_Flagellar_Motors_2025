{
  "nbformat": 4,
  "nbformat_minor": 0,
  "metadata": {
    "colab": {
      "provenance": [],
      "gpuType": "T4"
    },
    "kernelspec": {
      "name": "python3",
      "display_name": "Python 3"
    },
    "language_info": {
      "name": "python"
    },
    "accelerator": "GPU"
  },
  "cells": [
    {
      "cell_type": "code",
      "source": [
        "from google.colab import drive\n",
        "drive.mount('/content/drive')"
      ],
      "metadata": {
        "id": "b10ZodEoQY3U"
      },
      "execution_count": null,
      "outputs": []
    },
    {
      "cell_type": "code",
      "source": [
        "import pandas as pd\n",
        "\n",
        "df = pd.read_csv('./drive/MyDrive/train_labels.csv')\n",
        "df.sample(3)"
      ],
      "metadata": {
        "colab": {
          "base_uri": "https://localhost:8080/",
          "height": 143
        },
        "id": "D3yJ8cyTQZie",
        "outputId": "5dffccbc-e8c9-4624-f06e-58448dd6a14b"
      },
      "execution_count": null,
      "outputs": [
        {
          "output_type": "execute_result",
          "data": {
            "text/plain": [
              "     Unnamed: 0  row_id      tomo_id  Motor_axis_0  Motor_axis_1  \\\n",
              "513         513     405  tomo_8f4d60         120.0         450.0   \n",
              "257         257     681  tomo_e7c195          -1.0          -1.0   \n",
              "99           99     425  tomo_97876d          -1.0          -1.0   \n",
              "\n",
              "     Motor_axis_2  Array_shape_axis_0  Array_shape_axis_1  Array_shape_axis_2  \\\n",
              "513         457.0                 300                 960                 928   \n",
              "257          -1.0                 300                 960                 928   \n",
              "99           -1.0                 800                 928                 960   \n",
              "\n",
              "     Voxel_spacing  Number_of_motors  \n",
              "513           15.6                 1  \n",
              "257           16.8                 0  \n",
              "99            13.1                 0  "
            ],
            "text/html": [
              "\n",
              "  <div id=\"df-62d32fed-3b22-4352-b3e7-f00dd0ba77ca\" class=\"colab-df-container\">\n",
              "    <div>\n",
              "<style scoped>\n",
              "    .dataframe tbody tr th:only-of-type {\n",
              "        vertical-align: middle;\n",
              "    }\n",
              "\n",
              "    .dataframe tbody tr th {\n",
              "        vertical-align: top;\n",
              "    }\n",
              "\n",
              "    .dataframe thead th {\n",
              "        text-align: right;\n",
              "    }\n",
              "</style>\n",
              "<table border=\"1\" class=\"dataframe\">\n",
              "  <thead>\n",
              "    <tr style=\"text-align: right;\">\n",
              "      <th></th>\n",
              "      <th>Unnamed: 0</th>\n",
              "      <th>row_id</th>\n",
              "      <th>tomo_id</th>\n",
              "      <th>Motor_axis_0</th>\n",
              "      <th>Motor_axis_1</th>\n",
              "      <th>Motor_axis_2</th>\n",
              "      <th>Array_shape_axis_0</th>\n",
              "      <th>Array_shape_axis_1</th>\n",
              "      <th>Array_shape_axis_2</th>\n",
              "      <th>Voxel_spacing</th>\n",
              "      <th>Number_of_motors</th>\n",
              "    </tr>\n",
              "  </thead>\n",
              "  <tbody>\n",
              "    <tr>\n",
              "      <th>513</th>\n",
              "      <td>513</td>\n",
              "      <td>405</td>\n",
              "      <td>tomo_8f4d60</td>\n",
              "      <td>120.0</td>\n",
              "      <td>450.0</td>\n",
              "      <td>457.0</td>\n",
              "      <td>300</td>\n",
              "      <td>960</td>\n",
              "      <td>928</td>\n",
              "      <td>15.6</td>\n",
              "      <td>1</td>\n",
              "    </tr>\n",
              "    <tr>\n",
              "      <th>257</th>\n",
              "      <td>257</td>\n",
              "      <td>681</td>\n",
              "      <td>tomo_e7c195</td>\n",
              "      <td>-1.0</td>\n",
              "      <td>-1.0</td>\n",
              "      <td>-1.0</td>\n",
              "      <td>300</td>\n",
              "      <td>960</td>\n",
              "      <td>928</td>\n",
              "      <td>16.8</td>\n",
              "      <td>0</td>\n",
              "    </tr>\n",
              "    <tr>\n",
              "      <th>99</th>\n",
              "      <td>99</td>\n",
              "      <td>425</td>\n",
              "      <td>tomo_97876d</td>\n",
              "      <td>-1.0</td>\n",
              "      <td>-1.0</td>\n",
              "      <td>-1.0</td>\n",
              "      <td>800</td>\n",
              "      <td>928</td>\n",
              "      <td>960</td>\n",
              "      <td>13.1</td>\n",
              "      <td>0</td>\n",
              "    </tr>\n",
              "  </tbody>\n",
              "</table>\n",
              "</div>\n",
              "    <div class=\"colab-df-buttons\">\n",
              "\n",
              "  <div class=\"colab-df-container\">\n",
              "    <button class=\"colab-df-convert\" onclick=\"convertToInteractive('df-62d32fed-3b22-4352-b3e7-f00dd0ba77ca')\"\n",
              "            title=\"Convert this dataframe to an interactive table.\"\n",
              "            style=\"display:none;\">\n",
              "\n",
              "  <svg xmlns=\"http://www.w3.org/2000/svg\" height=\"24px\" viewBox=\"0 -960 960 960\">\n",
              "    <path d=\"M120-120v-720h720v720H120Zm60-500h600v-160H180v160Zm220 220h160v-160H400v160Zm0 220h160v-160H400v160ZM180-400h160v-160H180v160Zm440 0h160v-160H620v160ZM180-180h160v-160H180v160Zm440 0h160v-160H620v160Z\"/>\n",
              "  </svg>\n",
              "    </button>\n",
              "\n",
              "  <style>\n",
              "    .colab-df-container {\n",
              "      display:flex;\n",
              "      gap: 12px;\n",
              "    }\n",
              "\n",
              "    .colab-df-convert {\n",
              "      background-color: #E8F0FE;\n",
              "      border: none;\n",
              "      border-radius: 50%;\n",
              "      cursor: pointer;\n",
              "      display: none;\n",
              "      fill: #1967D2;\n",
              "      height: 32px;\n",
              "      padding: 0 0 0 0;\n",
              "      width: 32px;\n",
              "    }\n",
              "\n",
              "    .colab-df-convert:hover {\n",
              "      background-color: #E2EBFA;\n",
              "      box-shadow: 0px 1px 2px rgba(60, 64, 67, 0.3), 0px 1px 3px 1px rgba(60, 64, 67, 0.15);\n",
              "      fill: #174EA6;\n",
              "    }\n",
              "\n",
              "    .colab-df-buttons div {\n",
              "      margin-bottom: 4px;\n",
              "    }\n",
              "\n",
              "    [theme=dark] .colab-df-convert {\n",
              "      background-color: #3B4455;\n",
              "      fill: #D2E3FC;\n",
              "    }\n",
              "\n",
              "    [theme=dark] .colab-df-convert:hover {\n",
              "      background-color: #434B5C;\n",
              "      box-shadow: 0px 1px 3px 1px rgba(0, 0, 0, 0.15);\n",
              "      filter: drop-shadow(0px 1px 2px rgba(0, 0, 0, 0.3));\n",
              "      fill: #FFFFFF;\n",
              "    }\n",
              "  </style>\n",
              "\n",
              "    <script>\n",
              "      const buttonEl =\n",
              "        document.querySelector('#df-62d32fed-3b22-4352-b3e7-f00dd0ba77ca button.colab-df-convert');\n",
              "      buttonEl.style.display =\n",
              "        google.colab.kernel.accessAllowed ? 'block' : 'none';\n",
              "\n",
              "      async function convertToInteractive(key) {\n",
              "        const element = document.querySelector('#df-62d32fed-3b22-4352-b3e7-f00dd0ba77ca');\n",
              "        const dataTable =\n",
              "          await google.colab.kernel.invokeFunction('convertToInteractive',\n",
              "                                                    [key], {});\n",
              "        if (!dataTable) return;\n",
              "\n",
              "        const docLinkHtml = 'Like what you see? Visit the ' +\n",
              "          '<a target=\"_blank\" href=https://colab.research.google.com/notebooks/data_table.ipynb>data table notebook</a>'\n",
              "          + ' to learn more about interactive tables.';\n",
              "        element.innerHTML = '';\n",
              "        dataTable['output_type'] = 'display_data';\n",
              "        await google.colab.output.renderOutput(dataTable, element);\n",
              "        const docLink = document.createElement('div');\n",
              "        docLink.innerHTML = docLinkHtml;\n",
              "        element.appendChild(docLink);\n",
              "      }\n",
              "    </script>\n",
              "  </div>\n",
              "\n",
              "\n",
              "    <div id=\"df-a33ae81f-c3cd-40b3-80f7-2884a6b7b942\">\n",
              "      <button class=\"colab-df-quickchart\" onclick=\"quickchart('df-a33ae81f-c3cd-40b3-80f7-2884a6b7b942')\"\n",
              "                title=\"Suggest charts\"\n",
              "                style=\"display:none;\">\n",
              "\n",
              "<svg xmlns=\"http://www.w3.org/2000/svg\" height=\"24px\"viewBox=\"0 0 24 24\"\n",
              "     width=\"24px\">\n",
              "    <g>\n",
              "        <path d=\"M19 3H5c-1.1 0-2 .9-2 2v14c0 1.1.9 2 2 2h14c1.1 0 2-.9 2-2V5c0-1.1-.9-2-2-2zM9 17H7v-7h2v7zm4 0h-2V7h2v10zm4 0h-2v-4h2v4z\"/>\n",
              "    </g>\n",
              "</svg>\n",
              "      </button>\n",
              "\n",
              "<style>\n",
              "  .colab-df-quickchart {\n",
              "      --bg-color: #E8F0FE;\n",
              "      --fill-color: #1967D2;\n",
              "      --hover-bg-color: #E2EBFA;\n",
              "      --hover-fill-color: #174EA6;\n",
              "      --disabled-fill-color: #AAA;\n",
              "      --disabled-bg-color: #DDD;\n",
              "  }\n",
              "\n",
              "  [theme=dark] .colab-df-quickchart {\n",
              "      --bg-color: #3B4455;\n",
              "      --fill-color: #D2E3FC;\n",
              "      --hover-bg-color: #434B5C;\n",
              "      --hover-fill-color: #FFFFFF;\n",
              "      --disabled-bg-color: #3B4455;\n",
              "      --disabled-fill-color: #666;\n",
              "  }\n",
              "\n",
              "  .colab-df-quickchart {\n",
              "    background-color: var(--bg-color);\n",
              "    border: none;\n",
              "    border-radius: 50%;\n",
              "    cursor: pointer;\n",
              "    display: none;\n",
              "    fill: var(--fill-color);\n",
              "    height: 32px;\n",
              "    padding: 0;\n",
              "    width: 32px;\n",
              "  }\n",
              "\n",
              "  .colab-df-quickchart:hover {\n",
              "    background-color: var(--hover-bg-color);\n",
              "    box-shadow: 0 1px 2px rgba(60, 64, 67, 0.3), 0 1px 3px 1px rgba(60, 64, 67, 0.15);\n",
              "    fill: var(--button-hover-fill-color);\n",
              "  }\n",
              "\n",
              "  .colab-df-quickchart-complete:disabled,\n",
              "  .colab-df-quickchart-complete:disabled:hover {\n",
              "    background-color: var(--disabled-bg-color);\n",
              "    fill: var(--disabled-fill-color);\n",
              "    box-shadow: none;\n",
              "  }\n",
              "\n",
              "  .colab-df-spinner {\n",
              "    border: 2px solid var(--fill-color);\n",
              "    border-color: transparent;\n",
              "    border-bottom-color: var(--fill-color);\n",
              "    animation:\n",
              "      spin 1s steps(1) infinite;\n",
              "  }\n",
              "\n",
              "  @keyframes spin {\n",
              "    0% {\n",
              "      border-color: transparent;\n",
              "      border-bottom-color: var(--fill-color);\n",
              "      border-left-color: var(--fill-color);\n",
              "    }\n",
              "    20% {\n",
              "      border-color: transparent;\n",
              "      border-left-color: var(--fill-color);\n",
              "      border-top-color: var(--fill-color);\n",
              "    }\n",
              "    30% {\n",
              "      border-color: transparent;\n",
              "      border-left-color: var(--fill-color);\n",
              "      border-top-color: var(--fill-color);\n",
              "      border-right-color: var(--fill-color);\n",
              "    }\n",
              "    40% {\n",
              "      border-color: transparent;\n",
              "      border-right-color: var(--fill-color);\n",
              "      border-top-color: var(--fill-color);\n",
              "    }\n",
              "    60% {\n",
              "      border-color: transparent;\n",
              "      border-right-color: var(--fill-color);\n",
              "    }\n",
              "    80% {\n",
              "      border-color: transparent;\n",
              "      border-right-color: var(--fill-color);\n",
              "      border-bottom-color: var(--fill-color);\n",
              "    }\n",
              "    90% {\n",
              "      border-color: transparent;\n",
              "      border-bottom-color: var(--fill-color);\n",
              "    }\n",
              "  }\n",
              "</style>\n",
              "\n",
              "      <script>\n",
              "        async function quickchart(key) {\n",
              "          const quickchartButtonEl =\n",
              "            document.querySelector('#' + key + ' button');\n",
              "          quickchartButtonEl.disabled = true;  // To prevent multiple clicks.\n",
              "          quickchartButtonEl.classList.add('colab-df-spinner');\n",
              "          try {\n",
              "            const charts = await google.colab.kernel.invokeFunction(\n",
              "                'suggestCharts', [key], {});\n",
              "          } catch (error) {\n",
              "            console.error('Error during call to suggestCharts:', error);\n",
              "          }\n",
              "          quickchartButtonEl.classList.remove('colab-df-spinner');\n",
              "          quickchartButtonEl.classList.add('colab-df-quickchart-complete');\n",
              "        }\n",
              "        (() => {\n",
              "          let quickchartButtonEl =\n",
              "            document.querySelector('#df-a33ae81f-c3cd-40b3-80f7-2884a6b7b942 button');\n",
              "          quickchartButtonEl.style.display =\n",
              "            google.colab.kernel.accessAllowed ? 'block' : 'none';\n",
              "        })();\n",
              "      </script>\n",
              "    </div>\n",
              "\n",
              "    </div>\n",
              "  </div>\n"
            ],
            "application/vnd.google.colaboratory.intrinsic+json": {
              "type": "dataframe",
              "summary": "{\n  \"name\": \"df\",\n  \"rows\": 3,\n  \"fields\": [\n    {\n      \"column\": \"Unnamed: 0\",\n      \"properties\": {\n        \"dtype\": \"number\",\n        \"std\": 208,\n        \"min\": 99,\n        \"max\": 513,\n        \"num_unique_values\": 3,\n        \"samples\": [\n          513,\n          257,\n          99\n        ],\n        \"semantic_type\": \"\",\n        \"description\": \"\"\n      }\n    },\n    {\n      \"column\": \"row_id\",\n      \"properties\": {\n        \"dtype\": \"number\",\n        \"std\": 153,\n        \"min\": 405,\n        \"max\": 681,\n        \"num_unique_values\": 3,\n        \"samples\": [\n          405,\n          681,\n          425\n        ],\n        \"semantic_type\": \"\",\n        \"description\": \"\"\n      }\n    },\n    {\n      \"column\": \"tomo_id\",\n      \"properties\": {\n        \"dtype\": \"string\",\n        \"num_unique_values\": 3,\n        \"samples\": [\n          \"tomo_8f4d60\",\n          \"tomo_e7c195\",\n          \"tomo_97876d\"\n        ],\n        \"semantic_type\": \"\",\n        \"description\": \"\"\n      }\n    },\n    {\n      \"column\": \"Motor_axis_0\",\n      \"properties\": {\n        \"dtype\": \"number\",\n        \"std\": 69.85938257194472,\n        \"min\": -1.0,\n        \"max\": 120.0,\n        \"num_unique_values\": 2,\n        \"samples\": [\n          -1.0,\n          120.0\n        ],\n        \"semantic_type\": \"\",\n        \"description\": \"\"\n      }\n    },\n    {\n      \"column\": \"Motor_axis_1\",\n      \"properties\": {\n        \"dtype\": \"number\",\n        \"std\": 260.3849714045212,\n        \"min\": -1.0,\n        \"max\": 450.0,\n        \"num_unique_values\": 2,\n        \"samples\": [\n          -1.0,\n          450.0\n        ],\n        \"semantic_type\": \"\",\n        \"description\": \"\"\n      }\n    },\n    {\n      \"column\": \"Motor_axis_2\",\n      \"properties\": {\n        \"dtype\": \"number\",\n        \"std\": 264.42642328884864,\n        \"min\": -1.0,\n        \"max\": 457.0,\n        \"num_unique_values\": 2,\n        \"samples\": [\n          -1.0,\n          457.0\n        ],\n        \"semantic_type\": \"\",\n        \"description\": \"\"\n      }\n    },\n    {\n      \"column\": \"Array_shape_axis_0\",\n      \"properties\": {\n        \"dtype\": \"number\",\n        \"std\": 288,\n        \"min\": 300,\n        \"max\": 800,\n        \"num_unique_values\": 2,\n        \"samples\": [\n          800,\n          300\n        ],\n        \"semantic_type\": \"\",\n        \"description\": \"\"\n      }\n    },\n    {\n      \"column\": \"Array_shape_axis_1\",\n      \"properties\": {\n        \"dtype\": \"number\",\n        \"std\": 18,\n        \"min\": 928,\n        \"max\": 960,\n        \"num_unique_values\": 2,\n        \"samples\": [\n          928,\n          960\n        ],\n        \"semantic_type\": \"\",\n        \"description\": \"\"\n      }\n    },\n    {\n      \"column\": \"Array_shape_axis_2\",\n      \"properties\": {\n        \"dtype\": \"number\",\n        \"std\": 18,\n        \"min\": 928,\n        \"max\": 960,\n        \"num_unique_values\": 2,\n        \"samples\": [\n          960,\n          928\n        ],\n        \"semantic_type\": \"\",\n        \"description\": \"\"\n      }\n    },\n    {\n      \"column\": \"Voxel_spacing\",\n      \"properties\": {\n        \"dtype\": \"number\",\n        \"std\": 1.8876793513023697,\n        \"min\": 13.1,\n        \"max\": 16.8,\n        \"num_unique_values\": 3,\n        \"samples\": [\n          15.6,\n          16.8\n        ],\n        \"semantic_type\": \"\",\n        \"description\": \"\"\n      }\n    },\n    {\n      \"column\": \"Number_of_motors\",\n      \"properties\": {\n        \"dtype\": \"number\",\n        \"std\": 0,\n        \"min\": 0,\n        \"max\": 1,\n        \"num_unique_values\": 2,\n        \"samples\": [\n          0,\n          1\n        ],\n        \"semantic_type\": \"\",\n        \"description\": \"\"\n      }\n    }\n  ]\n}"
            }
          },
          "metadata": {},
          "execution_count": 2
        }
      ]
    },
    {
      "cell_type": "code",
      "source": [
        "import os\n",
        "\n",
        "tomo_ids_list = [id for id in os.listdir('./drive/MyDrive/tomo_adaptequal_1_chunks') if id.startswith('tomo')]"
      ],
      "metadata": {
        "id": "a7m5k4G1RHyk"
      },
      "execution_count": null,
      "outputs": []
    },
    {
      "cell_type": "code",
      "source": [
        "test_tomos = ['tomo_dae195', 'tomo_f2fa4a', 'tomo_cabaa0', 'tomo_f7f28b', 'tomo_ed1c97', 'tomo_ff505c', 'tomo_8f4d60', 'tomo_2aeb29', 'tomo_651ecd', 'tomo_e96200', 'tomo_0d4c9e', 'tomo_2dcd5c', 'tomo_983fce', 'tomo_7b1ee3', 'tomo_8b6795', 'tomo_dcb9b4', 'tomo_e764a7', 'tomo_e26c6b', 'tomo_331130', 'tomo_f8b835', 'tomo_746d88', 'tomo_9cd09e', 'tomo_b9eb9a', 'tomo_cf0875', 'tomo_7cf523', 'tomo_fd41c4', 'tomo_54e1a7', 'tomo_ca472a', 'tomo_6478e5', 'tomo_e9b7f2', 'tomo_247826', 'tomo_675583', 'tomo_f0adfc', 'tomo_378f43', 'tomo_19a313', 'tomo_172f08', 'tomo_f3e449', 'tomo_3b83c7', 'tomo_8c13d9', 'tomo_2c607f', 'tomo_c11e12', 'tomo_412d88', 'tomo_4b124b', 'tomo_38c2a6', 'tomo_ec1314', 'tomo_1c38fd', 'tomo_e63ab4', 'tomo_f07244', 'tomo_210371', 'tomo_d6e3c7', 'tomo_935f8a', 'tomo_a4c52f', 'tomo_a46b26', 'tomo_fadbe2', 'tomo_b28579', 'tomo_35ec84', 'tomo_369cce', 'tomo_6c203d', 'tomo_b80310', 'tomo_640a74', 'tomo_22976c', 'tomo_d21396', 'tomo_ecbc12', 'tomo_040b80', 'tomo_85708b', 'tomo_b98cf6', 'tomo_e1e5d3', 'tomo_138018', 'tomo_3264bc', 'tomo_e50f04', 'tomo_d723cd', 'tomo_2a6ca2', 'tomo_1f0e78', 'tomo_67565e', 'tomo_fd5b38', 'tomo_05b39c', 'tomo_372a5c', 'tomo_c3619a', 'tomo_ba76d8', 'tomo_a67e9f', 'tomo_a6646f', 'tomo_db656f', 'tomo_4102f1', 'tomo_bb5ac1', 'tomo_4ed9de', 'tomo_61e947', 'tomo_1da0da', 'tomo_821255', 'tomo_3e7783', 'tomo_c84b46', 'tomo_974fd4', 'tomo_444829', 'tomo_b50c0f', 'tomo_2a6091', 'tomo_fa5d78', 'tomo_bdd3a0', 'tomo_1c2534', 'tomo_d916dc', 'tomo_bdc097', 'tomo_7036ee', 'tomo_cacb75', 'tomo_5b359d', 'tomo_7fa3b1', 'tomo_049310', 'tomo_dd36c9', 'tomo_e3864f', 'tomo_0a8f05', 'tomo_ff7c20', 'tomo_0fab19', 'tomo_1c75ac', 'tomo_d0699e', 'tomo_1e9980', 'tomo_4ee35e', 'tomo_6943e6', 'tomo_99a3ce']"
      ],
      "metadata": {
        "id": "LDXqd6JnRpFL"
      },
      "execution_count": null,
      "outputs": []
    },
    {
      "cell_type": "code",
      "source": [
        "tomos_train_val = [tomo_id for tomo_id in tomo_ids_list if tomo_id not in test_tomos]"
      ],
      "metadata": {
        "id": "GatJsFDCRpVK"
      },
      "execution_count": null,
      "outputs": []
    },
    {
      "cell_type": "code",
      "source": [
        "val_cut = round(len(tomos_train_val)/5)"
      ],
      "metadata": {
        "id": "8E4-rqNqTftp"
      },
      "execution_count": null,
      "outputs": []
    },
    {
      "cell_type": "code",
      "source": [
        "val_tomos = tomos_train_val[:val_cut]\n",
        "train_tomos = tomos_train_val[val_cut:]"
      ],
      "metadata": {
        "id": "9dBOG1mlSivJ"
      },
      "execution_count": null,
      "outputs": []
    },
    {
      "cell_type": "code",
      "source": [
        "len(test_tomos), len(val_tomos), len(train_tomos)"
      ],
      "metadata": {
        "colab": {
          "base_uri": "https://localhost:8080/"
        },
        "id": "sq548IY4UFws",
        "outputId": "d862f027-e08b-4322-f4ef-b324cdecef21"
      },
      "execution_count": null,
      "outputs": [
        {
          "output_type": "execute_result",
          "data": {
            "text/plain": [
              "(115, 69, 277)"
            ]
          },
          "metadata": {},
          "execution_count": 8
        }
      ]
    },
    {
      "cell_type": "code",
      "source": [
        "lists = [test_tomos, val_tomos, train_tomos]\n",
        "\n",
        "for idx, list_ in enumerate(lists):\n",
        "    filtered = []\n",
        "    for id in list_:\n",
        "        row = df[df['tomo_id'] == id]\n",
        "        if not row.empty and row.iloc[0]['Number_of_motors'] != 0:\n",
        "            filtered.append(id)\n",
        "    lists[idx] = filtered\n",
        "\n",
        "test_tomos_filtered = lists[0]\n",
        "val_tomos_filtered = lists[1]\n",
        "train_tomos_filtered = lists[2]"
      ],
      "metadata": {
        "id": "KNVr_uY7Uq9b"
      },
      "execution_count": null,
      "outputs": []
    },
    {
      "cell_type": "code",
      "source": [
        "len(test_tomos_filtered), len(val_tomos_filtered), len(train_tomos_filtered)"
      ],
      "metadata": {
        "colab": {
          "base_uri": "https://localhost:8080/"
        },
        "id": "gK01NypxahQW",
        "outputId": "4f0139f6-fc2b-43cc-c256-d6bf2eb7eda6"
      },
      "execution_count": null,
      "outputs": [
        {
          "output_type": "execute_result",
          "data": {
            "text/plain": [
              "(60, 49, 210)"
            ]
          },
          "metadata": {},
          "execution_count": 10
        }
      ]
    },
    {
      "cell_type": "code",
      "source": [
        "import os\n",
        "import numpy as np\n",
        "import tensorflow as tf\n",
        "import pandas as pd\n",
        "from tensorflow.keras.utils import load_img, img_to_array\n",
        "\n",
        "def load_tomo_sequence(tomo_path, img_size=(128, 128)):\n",
        "    slices = sorted(os.listdir(tomo_path))\n",
        "    images = []\n",
        "    for s in slices:\n",
        "        img = load_img(os.path.join(tomo_path, s), color_mode='grayscale', target_size=img_size)\n",
        "        arr = img_to_array(img) / 255.0\n",
        "        images.append(arr)\n",
        "    return np.stack(images)  # shape: (n_slices, H, W, C)\n",
        "\n",
        "def build_X_y_image_sequence(tomo_ids, base_dir, df_labels, img_size=(128, 128)):\n",
        "    X = []\n",
        "    y = []\n",
        "    for tomo_id in tomo_ids:\n",
        "        path = os.path.join(base_dir, tomo_id)\n",
        "        X.append(load_tomo_sequence(path, img_size))\n",
        "        y.append(df_labels[df_labels[\"tomo_id\"] == tomo_id][\"Motor_axis_0\"].values[0])\n",
        "    return np.array(X), np.array(y)\n"
      ],
      "metadata": {
        "id": "RbiTH3t31KCY"
      },
      "execution_count": null,
      "outputs": []
    },
    {
      "cell_type": "code",
      "source": [
        "base_dir = \"./drive/MyDrive/tomo_adaptequal_1_chunks\"\n",
        "\n",
        "img_size = (960, 960)  # ou (960, 960) selon ton modèle\n",
        "\n",
        "X_train, y_train = build_X_y_image_sequence(train_tomos_filtered, base_dir, df, img_size)\n",
        "X_val, y_val = build_X_y_image_sequence(val_tomos_filtered, base_dir, df, img_size)\n",
        "X_test, y_test = build_X_y_image_sequence(test_tomos_filtered, base_dir, df, img_size)\n"
      ],
      "metadata": {
        "id": "LSzSggTI7TSR"
      },
      "execution_count": null,
      "outputs": []
    },
    {
      "cell_type": "code",
      "source": [
        "from tensorflow.keras.models import Model\n",
        "from tensorflow.keras.layers import Input, TimeDistributed, Conv2D, MaxPooling2D, Flatten, LSTM, Dense\n",
        "\n",
        "timesteps = X_train.shape[1]\n",
        "height = X_train.shape[2]\n",
        "width = X_train.shape[3]\n",
        "channels = X_train.shape[4]\n",
        "\n",
        "inputs = Input(shape=(timesteps, height, width, channels))\n",
        "\n",
        "# CNN appliqué à chaque image de la séquence\n",
        "x = TimeDistributed(Conv2D(16, (3,3), activation='relu'))(inputs)\n",
        "x = TimeDistributed(MaxPooling2D((2,2)))(x)\n",
        "x = TimeDistributed(Conv2D(32, (3,3), activation='relu'))(x)\n",
        "x = TimeDistributed(MaxPooling2D((2,2)))(x)\n",
        "x = TimeDistributed(Flatten())(x)\n",
        "\n",
        "# LSTM sur les représentations d'images\n",
        "x = LSTM(64)(x)\n",
        "x = Dense(32, activation='relu')(x)\n",
        "outputs = Dense(1)(x)\n",
        "\n",
        "model = Model(inputs, outputs)\n",
        "model.compile(optimizer='adam', loss='mse', metrics=['mae'])\n",
        "\n",
        "model.summary()\n",
        "model.fit(X_train, y_train, validation_data=(X_val, y_val), epochs=20, batch_size=4)\n"
      ],
      "metadata": {
        "id": "jM-nREvB8nBp"
      },
      "execution_count": null,
      "outputs": []
    }
  ]
}