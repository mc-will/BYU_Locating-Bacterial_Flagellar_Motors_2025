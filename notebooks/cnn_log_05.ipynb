{
 "cells": [
  {
   "cell_type": "code",
   "execution_count": 1,
   "metadata": {},
   "outputs": [
    {
     "name": "stderr",
     "output_type": "stream",
     "text": [
      "/Users/wm/.pyenv/versions/3.10.6/envs/byu/lib/python3.10/site-packages/tensorflow_addons/utils/tfa_eol_msg.py:23: UserWarning: \n",
      "\n",
      "TensorFlow Addons (TFA) has ended development and introduction of new features.\n",
      "TFA has entered a minimal maintenance and release mode until a planned end of life in May 2024.\n",
      "Please modify downstream libraries to take dependencies from other repositories in our TensorFlow community (e.g. Keras, Keras-CV, and Keras-NLP). \n",
      "\n",
      "For more information see: https://github.com/tensorflow/addons/issues/2807 \n",
      "\n",
      "  warnings.warn(\n",
      "/Users/wm/.pyenv/versions/3.10.6/envs/byu/lib/python3.10/site-packages/tensorflow_addons/utils/ensure_tf_install.py:53: UserWarning: Tensorflow Addons supports using Python ops for all Tensorflow versions above or equal to 2.13.0 and strictly below 2.16.0 (nightly versions are not supported). \n",
      " The versions of TensorFlow you are currently using is 2.10.0 and is not supported. \n",
      "Some things might work, some things might not.\n",
      "If you were to encounter a bug, do not file an issue.\n",
      "If you want to make sure you're using a tested and supported configuration, either change the TensorFlow version or the TensorFlow Addons's version. \n",
      "You can find the compatibility matrix in TensorFlow Addon's readme:\n",
      "https://github.com/tensorflow/addons\n",
      "  warnings.warn(\n"
     ]
    },
    {
     "name": "stdout",
     "output_type": "stream",
     "text": [
      "\u001b[34m\n",
      "Loading TensorFlow...\u001b[0m\n"
     ]
    }
   ],
   "source": [
    "import sys\n",
    "sys.path.append('../src')\n",
    "\n",
    "import os\n",
    "import pandas as pd\n",
    "import numpy as np\n",
    "import matplotlib.pyplot as plt\n",
    "from pathlib import Path\n",
    "from PIL import Image\n",
    "from sklearn.model_selection import train_test_split\n",
    "from tensorflow.keras import Sequential, Input, layers\n",
    "from keras.callbacks import EarlyStopping\n",
    "from tensorflow.keras.preprocessing.image import load_img, img_to_array\n",
    "from tensorflow_addons.metrics import FBetaScore\n",
    "from tensorflow.keras.applications import DenseNet121\n",
    "from tensorflow.keras.layers import GlobalAveragePooling2D, Dense, Dropout, Input, Lambda\n",
    "from tensorflow.keras.models import Model\n",
    "from tensorflow.keras.optimizers import Adam\n",
    "from tensorflow.keras.metrics import Recall, Precision\n",
    "import tensorflow as tf\n",
    "# from tensorflow.keras.metrics import Recall, Precision\n",
    "\n",
    "from utils.data import get_best_slice, select_tomo_ids, get_csv_from_bq\n",
    "from utils.render_motor_position import get_motor_coordinates, get_slice_file_path\n",
    "from ml_logic.interface import train_classification"
   ]
  },
  {
   "cell_type": "code",
   "execution_count": 2,
   "metadata": {},
   "outputs": [],
   "source": [
    "# path_tomos= '/Users/wm/code/mc-will/bacterial_motor/BYU_Locating-Bacterial_Flagellar_Motors_2025/data/pictures_raw/train'\n",
    "path_light= '/Volumes/DiskMorgane/light_data'\n",
    "# path_heavy= '/Volumes/DiskMorgane/bach_32/bach_1'\n",
    "path_train_csv= '../data/csv_raw/train_labels.csv'\n",
    "\n",
    "\n",
    "df = pd.read_csv(path_train_csv).copy()"
   ]
  },
  {
   "cell_type": "code",
   "execution_count": 3,
   "metadata": {},
   "outputs": [],
   "source": [
    "# position du motor en 32 photos\n",
    "df['motor_place'] = np.where( df['Motor_axis_0'] < 0,-1,(df['Motor_axis_0'] / df['Array_shape_axis_0'] * 32).astype(int))\n",
    "# group by tomo_id\n",
    "df = df.groupby('tomo_id').first().reset_index()\n"
   ]
  },
  {
   "cell_type": "code",
   "execution_count": 4,
   "metadata": {},
   "outputs": [],
   "source": [
    "\n",
    "tomo_ids = ['tomo_00e047', 'tomo_0fe63f', 'tomo_1e9980']\n",
    "df = df[df['tomo_id'].isin(tomo_ids)]\n"
   ]
  },
  {
   "cell_type": "code",
   "execution_count": 5,
   "metadata": {},
   "outputs": [
    {
     "data": {
      "text/html": [
       "<div>\n",
       "<style scoped>\n",
       "    .dataframe tbody tr th:only-of-type {\n",
       "        vertical-align: middle;\n",
       "    }\n",
       "\n",
       "    .dataframe tbody tr th {\n",
       "        vertical-align: top;\n",
       "    }\n",
       "\n",
       "    .dataframe thead th {\n",
       "        text-align: right;\n",
       "    }\n",
       "</style>\n",
       "<table border=\"1\" class=\"dataframe\">\n",
       "  <thead>\n",
       "    <tr style=\"text-align: right;\">\n",
       "      <th></th>\n",
       "      <th>tomo_id</th>\n",
       "      <th>Unnamed: 0</th>\n",
       "      <th>row_id</th>\n",
       "      <th>Motor_axis_0</th>\n",
       "      <th>Motor_axis_1</th>\n",
       "      <th>Motor_axis_2</th>\n",
       "      <th>Array_shape_axis_0</th>\n",
       "      <th>Array_shape_axis_1</th>\n",
       "      <th>Array_shape_axis_2</th>\n",
       "      <th>Voxel_spacing</th>\n",
       "      <th>Number_of_motors</th>\n",
       "      <th>motor_place</th>\n",
       "    </tr>\n",
       "  </thead>\n",
       "  <tbody>\n",
       "    <tr>\n",
       "      <th>0</th>\n",
       "      <td>tomo_00e047</td>\n",
       "      <td>338</td>\n",
       "      <td>1</td>\n",
       "      <td>169.0</td>\n",
       "      <td>546.0</td>\n",
       "      <td>603.0</td>\n",
       "      <td>300</td>\n",
       "      <td>959</td>\n",
       "      <td>928</td>\n",
       "      <td>15.6</td>\n",
       "      <td>1</td>\n",
       "      <td>0</td>\n",
       "    </tr>\n",
       "    <tr>\n",
       "      <th>1</th>\n",
       "      <td>tomo_00e047</td>\n",
       "      <td>338</td>\n",
       "      <td>1</td>\n",
       "      <td>169.0</td>\n",
       "      <td>546.0</td>\n",
       "      <td>603.0</td>\n",
       "      <td>300</td>\n",
       "      <td>959</td>\n",
       "      <td>928</td>\n",
       "      <td>15.6</td>\n",
       "      <td>1</td>\n",
       "      <td>0</td>\n",
       "    </tr>\n",
       "    <tr>\n",
       "      <th>2</th>\n",
       "      <td>tomo_00e047</td>\n",
       "      <td>338</td>\n",
       "      <td>1</td>\n",
       "      <td>169.0</td>\n",
       "      <td>546.0</td>\n",
       "      <td>603.0</td>\n",
       "      <td>300</td>\n",
       "      <td>959</td>\n",
       "      <td>928</td>\n",
       "      <td>15.6</td>\n",
       "      <td>1</td>\n",
       "      <td>0</td>\n",
       "    </tr>\n",
       "    <tr>\n",
       "      <th>3</th>\n",
       "      <td>tomo_00e047</td>\n",
       "      <td>338</td>\n",
       "      <td>1</td>\n",
       "      <td>169.0</td>\n",
       "      <td>546.0</td>\n",
       "      <td>603.0</td>\n",
       "      <td>300</td>\n",
       "      <td>959</td>\n",
       "      <td>928</td>\n",
       "      <td>15.6</td>\n",
       "      <td>1</td>\n",
       "      <td>0</td>\n",
       "    </tr>\n",
       "    <tr>\n",
       "      <th>4</th>\n",
       "      <td>tomo_00e047</td>\n",
       "      <td>338</td>\n",
       "      <td>1</td>\n",
       "      <td>169.0</td>\n",
       "      <td>546.0</td>\n",
       "      <td>603.0</td>\n",
       "      <td>300</td>\n",
       "      <td>959</td>\n",
       "      <td>928</td>\n",
       "      <td>15.6</td>\n",
       "      <td>1</td>\n",
       "      <td>0</td>\n",
       "    </tr>\n",
       "    <tr>\n",
       "      <th>...</th>\n",
       "      <td>...</td>\n",
       "      <td>...</td>\n",
       "      <td>...</td>\n",
       "      <td>...</td>\n",
       "      <td>...</td>\n",
       "      <td>...</td>\n",
       "      <td>...</td>\n",
       "      <td>...</td>\n",
       "      <td>...</td>\n",
       "      <td>...</td>\n",
       "      <td>...</td>\n",
       "      <td>...</td>\n",
       "    </tr>\n",
       "    <tr>\n",
       "      <th>91</th>\n",
       "      <td>tomo_1e9980</td>\n",
       "      <td>172</td>\n",
       "      <td>85</td>\n",
       "      <td>-1.0</td>\n",
       "      <td>-1.0</td>\n",
       "      <td>-1.0</td>\n",
       "      <td>300</td>\n",
       "      <td>960</td>\n",
       "      <td>928</td>\n",
       "      <td>16.8</td>\n",
       "      <td>0</td>\n",
       "      <td>0</td>\n",
       "    </tr>\n",
       "    <tr>\n",
       "      <th>92</th>\n",
       "      <td>tomo_1e9980</td>\n",
       "      <td>172</td>\n",
       "      <td>85</td>\n",
       "      <td>-1.0</td>\n",
       "      <td>-1.0</td>\n",
       "      <td>-1.0</td>\n",
       "      <td>300</td>\n",
       "      <td>960</td>\n",
       "      <td>928</td>\n",
       "      <td>16.8</td>\n",
       "      <td>0</td>\n",
       "      <td>0</td>\n",
       "    </tr>\n",
       "    <tr>\n",
       "      <th>93</th>\n",
       "      <td>tomo_1e9980</td>\n",
       "      <td>172</td>\n",
       "      <td>85</td>\n",
       "      <td>-1.0</td>\n",
       "      <td>-1.0</td>\n",
       "      <td>-1.0</td>\n",
       "      <td>300</td>\n",
       "      <td>960</td>\n",
       "      <td>928</td>\n",
       "      <td>16.8</td>\n",
       "      <td>0</td>\n",
       "      <td>0</td>\n",
       "    </tr>\n",
       "    <tr>\n",
       "      <th>94</th>\n",
       "      <td>tomo_1e9980</td>\n",
       "      <td>172</td>\n",
       "      <td>85</td>\n",
       "      <td>-1.0</td>\n",
       "      <td>-1.0</td>\n",
       "      <td>-1.0</td>\n",
       "      <td>300</td>\n",
       "      <td>960</td>\n",
       "      <td>928</td>\n",
       "      <td>16.8</td>\n",
       "      <td>0</td>\n",
       "      <td>0</td>\n",
       "    </tr>\n",
       "    <tr>\n",
       "      <th>95</th>\n",
       "      <td>tomo_1e9980</td>\n",
       "      <td>172</td>\n",
       "      <td>85</td>\n",
       "      <td>-1.0</td>\n",
       "      <td>-1.0</td>\n",
       "      <td>-1.0</td>\n",
       "      <td>300</td>\n",
       "      <td>960</td>\n",
       "      <td>928</td>\n",
       "      <td>16.8</td>\n",
       "      <td>0</td>\n",
       "      <td>0</td>\n",
       "    </tr>\n",
       "  </tbody>\n",
       "</table>\n",
       "<p>96 rows × 12 columns</p>\n",
       "</div>"
      ],
      "text/plain": [
       "        tomo_id  Unnamed: 0  row_id  Motor_axis_0  Motor_axis_1  Motor_axis_2  \\\n",
       "0   tomo_00e047         338       1         169.0         546.0         603.0   \n",
       "1   tomo_00e047         338       1         169.0         546.0         603.0   \n",
       "2   tomo_00e047         338       1         169.0         546.0         603.0   \n",
       "3   tomo_00e047         338       1         169.0         546.0         603.0   \n",
       "4   tomo_00e047         338       1         169.0         546.0         603.0   \n",
       "..          ...         ...     ...           ...           ...           ...   \n",
       "91  tomo_1e9980         172      85          -1.0          -1.0          -1.0   \n",
       "92  tomo_1e9980         172      85          -1.0          -1.0          -1.0   \n",
       "93  tomo_1e9980         172      85          -1.0          -1.0          -1.0   \n",
       "94  tomo_1e9980         172      85          -1.0          -1.0          -1.0   \n",
       "95  tomo_1e9980         172      85          -1.0          -1.0          -1.0   \n",
       "\n",
       "    Array_shape_axis_0  Array_shape_axis_1  Array_shape_axis_2  Voxel_spacing  \\\n",
       "0                  300                 959                 928           15.6   \n",
       "1                  300                 959                 928           15.6   \n",
       "2                  300                 959                 928           15.6   \n",
       "3                  300                 959                 928           15.6   \n",
       "4                  300                 959                 928           15.6   \n",
       "..                 ...                 ...                 ...            ...   \n",
       "91                 300                 960                 928           16.8   \n",
       "92                 300                 960                 928           16.8   \n",
       "93                 300                 960                 928           16.8   \n",
       "94                 300                 960                 928           16.8   \n",
       "95                 300                 960                 928           16.8   \n",
       "\n",
       "    Number_of_motors  motor_place  \n",
       "0                  1            0  \n",
       "1                  1            0  \n",
       "2                  1            0  \n",
       "3                  1            0  \n",
       "4                  1            0  \n",
       "..               ...          ...  \n",
       "91                 0            0  \n",
       "92                 0            0  \n",
       "93                 0            0  \n",
       "94                 0            0  \n",
       "95                 0            0  \n",
       "\n",
       "[96 rows x 12 columns]"
      ]
     },
     "execution_count": 5,
     "metadata": {},
     "output_type": "execute_result"
    }
   ],
   "source": [
    "\n",
    "# put 1 in the line wher teh motor is , 0 if no\n",
    "\n",
    "new_files = []\n",
    "\n",
    "for _, file in df.iterrows():\n",
    "    # Crear 32 copias de la fila\n",
    "    for i in range(32):\n",
    "        new_file = file.copy()\n",
    "        new_file['motor_place'] = 1 if i == int(file['motor_place']) else 0\n",
    "        new_files.append(new_file)\n",
    "\n",
    "df = pd.DataFrame(new_files)\n",
    "df.reset_index(drop=True, inplace=True)\n",
    "df\n"
   ]
  },
  {
   "cell_type": "code",
   "execution_count": 6,
   "metadata": {},
   "outputs": [
    {
     "name": "stderr",
     "output_type": "stream",
     "text": [
      "Processing tomos from DataFrame: 100%|██████████| 3/3 [00:03<00:00,  1.26s/it]\n"
     ]
    },
    {
     "name": "stdout",
     "output_type": "stream",
     "text": [
      "✅ Final array shape: (96, 512, 512, 1)\n"
     ]
    }
   ],
   "source": [
    "import os\n",
    "import numpy as np\n",
    "import cv2\n",
    "import pandas as pd\n",
    "from tqdm import tqdm\n",
    "\n",
    "def load_tomos_from_df(path_light_data, df, size=512, num_tomos=648, id_column='tomo_id'):\n",
    "    \"\"\"\n",
    "    Loads images from 'tomo_*' folders specified in a DataFrame.\n",
    "\n",
    "    Parameters:\n",
    "    - path_light_data: Base path where 'tomo_*' folders are located\n",
    "    - df: DataFrame containing tomo IDs\n",
    "    - size: Desired image size (default is 512x512)\n",
    "    - num_tomos: Number of tomos to load (from the DataFrame rows)\n",
    "    - id_column: Name of the column in df containing folder names (e.g., 'tomo_00e047')\n",
    "\n",
    "    Returns:\n",
    "    - NumPy array with shape (num_tomos * 32, size, size, 1)\n",
    "    \"\"\"\n",
    "    all_images = []\n",
    "\n",
    "    # Get tomo IDs from the DataFrame\n",
    "    tomo_ids = df[id_column].head(num_tomos).tolist()\n",
    "\n",
    "    for tomo_id in tqdm(tomo_ids, desc=\"Processing tomos from DataFrame\"):\n",
    "        tomo_path = os.path.join(path_light_data, tomo_id)\n",
    "\n",
    "        if not os.path.exists(tomo_path):\n",
    "            print(f\"⚠️ Folder not found: {tomo_path}\")\n",
    "            continue\n",
    "\n",
    "        # Read up to 32 valid images\n",
    "        image_files = sorted([\n",
    "            f for f in os.listdir(tomo_path)\n",
    "            if f.lower().endswith(('.png', '.jpg')) and not f.startswith(\"._\")\n",
    "        ])[:32]\n",
    "\n",
    "        for img_file in image_files:\n",
    "            img_path = os.path.join(tomo_path, img_file)\n",
    "            img = cv2.imread(img_path, cv2.IMREAD_GRAYSCALE)\n",
    "            if img is None:\n",
    "                print(f\"⚠️ Could not read {img_path}\")\n",
    "                continue\n",
    "            img_resized = cv2.resize(img, (size, size))\n",
    "            img_expanded = np.expand_dims(img_resized, axis=-1)\n",
    "            all_images.append(img_expanded)\n",
    "\n",
    "    array_final = np.stack(all_images, axis=0)  # (num_tomos*32, size, size, 1)\n",
    "    print(\"✅ Final array shape:\", array_final.shape)\n",
    "    return array_final\n",
    "\n",
    "# Example usage:\n",
    "X = load_tomos_from_df(path_light,\n",
    "                       df=df,\n",
    "                       num_tomos=648,\n",
    "                       id_column='tomo_id'\n",
    "                       )\n"
   ]
  },
  {
   "cell_type": "code",
   "execution_count": 7,
   "metadata": {},
   "outputs": [],
   "source": [
    "y= df['motor_place']"
   ]
  },
  {
   "cell_type": "code",
   "execution_count": 8,
   "metadata": {},
   "outputs": [],
   "source": [
    "random_state=42\n",
    "\n",
    "X_train, X_test, y_train, y_test = train_test_split(X, y,\n",
    "                                                    test_size=0.05,\n",
    "                                                    random_state=random_state)\n",
    "\n",
    "X_train, X_val, y_train, y_val = train_test_split(X_train, y_train,\n",
    "                                                  test_size=0.2,\n",
    "                                                  random_state=random_state)"
   ]
  },
  {
   "cell_type": "code",
   "execution_count": 9,
   "metadata": {},
   "outputs": [],
   "source": [
    "\n",
    "from PIL import Image\n",
    "from sklearn.model_selection import train_test_split\n",
    "from tensorflow.keras import Sequential, Input, layers\n",
    "from keras.callbacks import EarlyStopping\n",
    "from tensorflow.keras.preprocessing.image import load_img, img_to_array\n",
    "from tensorflow_addons.metrics import FBetaScore\n",
    "from tensorflow.keras.applications import DenseNet121\n",
    "from tensorflow.keras.layers import GlobalAveragePooling2D, Dense, Dropout, Input, Lambda\n",
    "from tensorflow.keras.models import Model\n",
    "from tensorflow.keras.optimizers import Adam\n",
    "from tensorflow.keras.metrics import Precision, Recall\n",
    "import tensorflow as tf\n",
    "# from tensorflow.keras.metrics import Recall, Precision\n",
    "\n",
    "\n",
    "def init_model_densenet(X):\n",
    "    original_input_shape = X.shape[1:]\n",
    "\n",
    "    #  force input to 3 channel if it's grey (1 canal)\n",
    "    if original_input_shape[-1] == 1:\n",
    "        base_input_shape = original_input_shape[:-1] + (3,)\n",
    "    else:\n",
    "        base_input_shape = original_input_shape\n",
    "\n",
    "    # load DenseNet121 without last classify layer\n",
    "    base_model = DenseNet121(include_top=False,\n",
    "                             weights='imagenet',\n",
    "                             input_shape=base_input_shape\n",
    "                             )\n",
    "    base_model.trainable = False\n",
    "\n",
    "    # Input layer\n",
    "    inputs = Input(shape=original_input_shape)\n",
    "\n",
    "    # convert in RGB if need it,\n",
    "    if original_input_shape[-1] == 1:\n",
    "        x = Lambda(lambda x: tf.image.grayscale_to_rgb(x))(inputs)\n",
    "    else:\n",
    "        x = inputs\n",
    "\n",
    "    x = base_model(x, training=False)\n",
    "    x = GlobalAveragePooling2D()(x)\n",
    "    x = Dropout(0.5)(x)\n",
    "    x = Dense(128, activation='relu')(x)\n",
    "    x = Dropout(0.3)(x)\n",
    "    outputs = Dense(1, activation='sigmoid')(x)\n",
    "\n",
    "    model = Model(inputs, outputs)\n",
    "\n",
    "    model.compile(\n",
    "        loss='binary_crossentropy',\n",
    "        optimizer=Adam(learning_rate=1e-4),\n",
    "        metrics=[\n",
    "            'accuracy',\n",
    "            # FBetaScore(num_classes=1,\n",
    "            #            beta=2.0),\n",
    "            Recall(),\n",
    "            Precision(),\n",
    "        ]\n",
    "    )\n",
    "\n",
    "    return model\n",
    "\n",
    "\n",
    "def model_train (model, X_train_processed, y_train, batch_size=16 ,epochs=5):\n",
    "    verbose=1\n",
    "    validation_split=0.1\n",
    "    es = EarlyStopping(patience=3,\n",
    "                       restore_best_weights=True)\n",
    "\n",
    "    history = model.fit(X_train_processed,\n",
    "                        y_train,\n",
    "                        batch_size=batch_size,\n",
    "                        epochs=epochs,\n",
    "                        # validation_split=validation_split,\n",
    "                        validation_data=(X_val, y_val),\n",
    "                        callbacks=[es],\n",
    "                        verbose=verbose)\n",
    "    return history\n"
   ]
  },
  {
   "cell_type": "code",
   "execution_count": 10,
   "metadata": {},
   "outputs": [],
   "source": [
    "model = init_model_densenet(X_train)"
   ]
  },
  {
   "cell_type": "code",
   "execution_count": 11,
   "metadata": {},
   "outputs": [
    {
     "name": "stdout",
     "output_type": "stream",
     "text": [
      "Epoch 1/5\n"
     ]
    },
    {
     "name": "stderr",
     "output_type": "stream",
     "text": [
      "2025-06-09 17:25:36.966116: W tensorflow/core/platform/profile_utils/cpu_utils.cc:128] Failed to get CPU frequency: 0 Hz\n"
     ]
    },
    {
     "name": "stdout",
     "output_type": "stream",
     "text": [
      "5/5 [==============================] - 15s 3s/step - loss: 0.3458 - accuracy: 0.9167 - recall: 0.0000e+00 - precision: 0.0000e+00 - val_loss: 1.5755e-04 - val_accuracy: 1.0000 - val_recall: 0.0000e+00 - val_precision: 0.0000e+00\n",
      "Epoch 2/5\n",
      "5/5 [==============================] - 11s 2s/step - loss: 0.3530 - accuracy: 0.9583 - recall: 0.0000e+00 - precision: 0.0000e+00 - val_loss: 7.7460e-05 - val_accuracy: 1.0000 - val_recall: 0.0000e+00 - val_precision: 0.0000e+00\n",
      "Epoch 3/5\n",
      "5/5 [==============================] - 11s 2s/step - loss: 0.4384 - accuracy: 0.9444 - recall: 0.0000e+00 - precision: 0.0000e+00 - val_loss: 5.7582e-05 - val_accuracy: 1.0000 - val_recall: 0.0000e+00 - val_precision: 0.0000e+00\n",
      "Epoch 4/5\n",
      "5/5 [==============================] - 12s 2s/step - loss: 0.4190 - accuracy: 0.9583 - recall: 0.0000e+00 - precision: 0.0000e+00 - val_loss: 5.2129e-05 - val_accuracy: 1.0000 - val_recall: 0.0000e+00 - val_precision: 0.0000e+00\n",
      "Epoch 5/5\n",
      "5/5 [==============================] - 12s 2s/step - loss: 0.1303 - accuracy: 0.9722 - recall: 0.5000 - precision: 0.5000 - val_loss: 5.2023e-05 - val_accuracy: 1.0000 - val_recall: 0.0000e+00 - val_precision: 0.0000e+00\n"
     ]
    },
    {
     "data": {
      "text/plain": [
       "<keras.callbacks.History at 0x34227b490>"
      ]
     },
     "execution_count": 11,
     "metadata": {},
     "output_type": "execute_result"
    }
   ],
   "source": [
    "\n",
    "history = model_train(model, X_train,y_train)\n",
    "history"
   ]
  },
  {
   "cell_type": "code",
   "execution_count": 12,
   "metadata": {},
   "outputs": [
    {
     "data": {
      "image/png": "[encoded data removed]",
      "text/plain": [
       "<Figure size 640x480 with 1 Axes>"
      ]
     },
     "metadata": {},
     "output_type": "display_data"
    }
   ],
   "source": [
    "def plot_training_metrics(history):\n",
    "    \"\"\"\n",
    "   plot the metrics, even if there is not one of them into 'history'\n",
    "    \"\"\"\n",
    "    history_dict = history.history\n",
    "    plotted = False\n",
    "\n",
    "    def safe_plot(metric_name, color, linestyle='-'):\n",
    "        nonlocal plotted\n",
    "        if metric_name in history_dict:\n",
    "            label = metric_name.replace('_', ' ')\n",
    "            plt.plot(history_dict[metric_name], c=color, linestyle=linestyle, label=label)\n",
    "            plotted = True\n",
    "\n",
    "    # fbeta\n",
    "    safe_plot('fbeta_score', 'r')\n",
    "    safe_plot('val_fbeta_score', 'r', '--')\n",
    "\n",
    "    # recall\n",
    "    safe_plot('recall', 'g')\n",
    "    safe_plot('val_recall', 'g', '--')\n",
    "    safe_plot('recall_1', 'g')  # alternativa por si usa nombre automático\n",
    "    safe_plot('val_recall_1', 'g', '--')\n",
    "\n",
    "    # accuracy\n",
    "    safe_plot('accuracy', 'black')\n",
    "    safe_plot('val_accuracy', 'black', '--')\n",
    "\n",
    "    # precision\n",
    "    safe_plot('precision', 'blue')\n",
    "    safe_plot('val_precision', 'blue', '--')\n",
    "\n",
    "    if plotted:\n",
    "        plt.title(\"Training Metrics\")\n",
    "        plt.xlabel(\"Epoch\")\n",
    "        plt.ylabel(\"Metric Value\")\n",
    "        plt.legend()\n",
    "        plt.grid(True)\n",
    "        plt.show()\n",
    "    else:\n",
    "        print(\"⚠️ No se encontró ninguna métrica conocida para graficar.\")\n",
    "\n",
    "plot_training_metrics(history)"
   ]
  },
  {
   "cell_type": "code",
   "execution_count": 13,
   "metadata": {},
   "outputs": [
    {
     "name": "stdout",
     "output_type": "stream",
     "text": [
      "1/1 [==============================] - 1s 642ms/step - loss: 6.3106e-05 - accuracy: 1.0000 - recall: 0.0000e+00 - precision: 0.0000e+00\n"
     ]
    },
    {
     "data": {
      "text/plain": [
       "[6.310566095635295e-05, 1.0, 0.0, 0.0]"
      ]
     },
     "execution_count": 13,
     "metadata": {},
     "output_type": "execute_result"
    }
   ],
   "source": [
    "model.evaluate(X_test,y_test)"
   ]
  },
  {
   "cell_type": "code",
   "execution_count": 14,
   "metadata": {},
   "outputs": [
    {
     "name": "stdout",
     "output_type": "stream",
     "text": [
      "1/1 [==============================] - 2s 2s/step\n"
     ]
    },
    {
     "data": {
      "text/plain": [
       "array([[7.8173180e-05],\n",
       "       [1.0626580e-04],\n",
       "       [7.6965705e-05],\n",
       "       [2.2398297e-06],\n",
       "       [5.1870782e-05]], dtype=float32)"
      ]
     },
     "execution_count": 14,
     "metadata": {},
     "output_type": "execute_result"
    }
   ],
   "source": [
    "y_pred= model.predict(X_test )\n",
    "y_pred"
   ]
  },
  {
   "cell_type": "code",
   "execution_count": 16,
   "metadata": {},
   "outputs": [
    {
     "name": "stdout",
     "output_type": "stream",
     "text": [
      "1/1 [==============================] - 3s 3s/step\n",
      "F-beta score ponderado (beta=2) en validación: 1.0000\n"
     ]
    }
   ],
   "source": [
    "from sklearn.metrics import fbeta_score\n",
    "\n",
    "# Obtener predicciones del modelo para el set de validación\n",
    "y_val_pred_prob = model.predict(X_val)\n",
    "y_val_pred = (y_val_pred_prob > 0.5).astype(int)\n",
    "\n",
    "# Calcular F-beta ponderado\n",
    "fbeta = fbeta_score(y_val, y_val_pred, beta=2, average='weighted')\n",
    "# fbeta = fbeta_score(y_val, y_val_pred, beta=2)\n",
    "print(f\"F-beta score ponderado (beta=2) en validación: {fbeta:.4f}\")"
   ]
  },
  {
   "cell_type": "code",
   "execution_count": null,
   "metadata": {},
   "outputs": [],
   "source": []
  },
  {
   "cell_type": "code",
   "execution_count": null,
   "metadata": {},
   "outputs": [],
   "source": []
  }
 ],
 "metadata": {
  "kernelspec": {
   "display_name": "byu",
   "language": "python",
   "name": "python3"
  },
  "language_info": {
   "codemirror_mode": {
    "name": "ipython",
    "version": 3
   },
   "file_extension": ".py",
   "mimetype": "text/x-python",
   "name": "python",
   "nbconvert_exporter": "python",
   "pygments_lexer": "ipython3",
   "version": "3.10.6"
  }
 },
 "nbformat": 4,
 "nbformat_minor": 2
}
