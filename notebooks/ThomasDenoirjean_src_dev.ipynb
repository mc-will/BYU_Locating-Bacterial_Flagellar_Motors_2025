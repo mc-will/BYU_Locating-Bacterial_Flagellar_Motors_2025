{
 "cells": [
  {
   "cell_type": "code",
   "execution_count": 1,
   "id": "937f2b48",
   "metadata": {},
   "outputs": [
    {
     "name": "stderr",
     "output_type": "stream",
     "text": [
      "2025-06-03 18:08:36.500098: I tensorflow/core/platform/cpu_feature_guard.cc:193] This TensorFlow binary is optimized with oneAPI Deep Neural Network Library (oneDNN) to use the following CPU instructions in performance-critical operations:  AVX2 FMA\n",
      "To enable them in other operations, rebuild TensorFlow with the appropriate compiler flags.\n",
      "2025-06-03 18:08:37.266959: W tensorflow/stream_executor/platform/default/dso_loader.cc:64] Could not load dynamic library 'libcudart.so.11.0'; dlerror: libcudart.so.11.0: cannot open shared object file: No such file or directory\n",
      "2025-06-03 18:08:37.266984: I tensorflow/stream_executor/cuda/cudart_stub.cc:29] Ignore above cudart dlerror if you do not have a GPU set up on your machine.\n",
      "2025-06-03 18:08:37.337152: E tensorflow/stream_executor/cuda/cuda_blas.cc:2981] Unable to register cuBLAS factory: Attempting to register factory for plugin cuBLAS when one has already been registered\n",
      "2025-06-03 18:08:38.866664: W tensorflow/stream_executor/platform/default/dso_loader.cc:64] Could not load dynamic library 'libnvinfer.so.7'; dlerror: libnvinfer.so.7: cannot open shared object file: No such file or directory\n",
      "2025-06-03 18:08:38.867093: W tensorflow/stream_executor/platform/default/dso_loader.cc:64] Could not load dynamic library 'libnvinfer_plugin.so.7'; dlerror: libnvinfer_plugin.so.7: cannot open shared object file: No such file or directory\n",
      "2025-06-03 18:08:38.867117: W tensorflow/compiler/tf2tensorrt/utils/py_utils.cc:38] TF-TRT Warning: Cannot dlopen some TensorRT libraries. If you would like to use Nvidia GPU with TensorRT, please make sure the missing libraries mentioned above are installed properly.\n"
     ]
    }
   ],
   "source": [
    "import numpy as np\n",
    "import pandas as pd\n",
    "import os\n",
    "from src.utils.data import select_tomo_ids\n",
    "from tensorflow.keras.preprocessing.image import load_img, img_to_array\n",
    "\n",
    "\n",
    "from keras import Sequential, Input, layers"
   ]
  },
  {
   "cell_type": "code",
   "execution_count": 2,
   "id": "dff19f02",
   "metadata": {},
   "outputs": [],
   "source": [
    "def get_slice_file_path(tomogram_id, z):\n",
    "    '''\n",
    "    accès au chemin d'une slice en fonction de l'identifiant du tomogramme et de l'indice de la slice\n",
    "    Parameters:\n",
    "        tomogram_id (str): l'identifiant du tomogramme\n",
    "        z (int): l'indice de la slice\n",
    "    Returns:\n",
    "        str: le chemin de l'image\n",
    "    '''\n",
    "    tomogrammes_train_dir = './data/pictures_raw/train/'\n",
    "    file_name = f'slice_{str(int(z)).zfill(4)}.jpg'\n",
    "    #print(f'get_slice_file_path: {tomogram_id} {z} {file_name}')\n",
    "    image_path = os.path.join(tomogrammes_train_dir, tomogram_id, file_name)\n",
    "    return image_path\n",
    "\n",
    "def get_motor_coordinates(df, tomogram_id):\n",
    "    '''\n",
    "    Récupération des coordonnées du moteur dans le tomogramme\n",
    "    Parameters:\n",
    "        df (pd.Dataframe): le dataframe des données\n",
    "        tomogram_id (str): l'identifiant du tomogramme\n",
    "    Returns:\n",
    "        tuple: les coordonnées du moteur\n",
    "    '''\n",
    "    df_tomogram = df[df['tomo_id'] == tomogram_id]\n",
    "    x = df_tomogram['Motor_axis_2'].values[0]\n",
    "    y = df_tomogram['Motor_axis_1'].values[0]\n",
    "    z = df_tomogram['Motor_axis_0'].values[0]\n",
    "\n",
    "\n",
    "    ############# MODIFIE !!!!!! #################\n",
    "    numb_motors = df_tomogram['Number_of_motors'].values[0]\n",
    "    #print(f'get_motor_coordinates: {tomogram_id} {x} {y} {z}')\n",
    "    return x, y, z, numb_motors"
   ]
  },
  {
   "cell_type": "code",
   "execution_count": 3,
   "id": "d5b51922",
   "metadata": {},
   "outputs": [
    {
     "data": {
      "text/html": [
       "<div>\n",
       "<style scoped>\n",
       "    .dataframe tbody tr th:only-of-type {\n",
       "        vertical-align: middle;\n",
       "    }\n",
       "\n",
       "    .dataframe tbody tr th {\n",
       "        vertical-align: top;\n",
       "    }\n",
       "\n",
       "    .dataframe thead th {\n",
       "        text-align: right;\n",
       "    }\n",
       "</style>\n",
       "<table border=\"1\" class=\"dataframe\">\n",
       "  <thead>\n",
       "    <tr style=\"text-align: right;\">\n",
       "      <th></th>\n",
       "      <th>x</th>\n",
       "      <th>y</th>\n",
       "      <th>Number_of_motors</th>\n",
       "      <th>picture_source</th>\n",
       "    </tr>\n",
       "  </thead>\n",
       "  <tbody>\n",
       "    <tr>\n",
       "      <th>0</th>\n",
       "      <td>762.0</td>\n",
       "      <td>257.0</td>\n",
       "      <td>1</td>\n",
       "      <td>./data/pictures_raw/train/tomo_05df8a/slice_01...</td>\n",
       "    </tr>\n",
       "    <tr>\n",
       "      <th>1</th>\n",
       "      <td>575.0</td>\n",
       "      <td>587.0</td>\n",
       "      <td>1</td>\n",
       "      <td>./data/pictures_raw/train/tomo_0a8f05/slice_00...</td>\n",
       "    </tr>\n",
       "    <tr>\n",
       "      <th>2</th>\n",
       "      <td>636.0</td>\n",
       "      <td>356.0</td>\n",
       "      <td>1</td>\n",
       "      <td>./data/pictures_raw/train/tomo_0da370/slice_00...</td>\n",
       "    </tr>\n",
       "    <tr>\n",
       "      <th>3</th>\n",
       "      <td>585.0</td>\n",
       "      <td>295.0</td>\n",
       "      <td>1</td>\n",
       "      <td>./data/pictures_raw/train/tomo_101279/slice_01...</td>\n",
       "    </tr>\n",
       "    <tr>\n",
       "      <th>4</th>\n",
       "      <td>658.0</td>\n",
       "      <td>768.0</td>\n",
       "      <td>1</td>\n",
       "      <td>./data/pictures_raw/train/tomo_13484c/slice_01...</td>\n",
       "    </tr>\n",
       "    <tr>\n",
       "      <th>...</th>\n",
       "      <td>...</td>\n",
       "      <td>...</td>\n",
       "      <td>...</td>\n",
       "      <td>...</td>\n",
       "    </tr>\n",
       "    <tr>\n",
       "      <th>300</th>\n",
       "      <td>387.0</td>\n",
       "      <td>469.0</td>\n",
       "      <td>1</td>\n",
       "      <td>./data/pictures_raw/train/tomo_f78e91/slice_00...</td>\n",
       "    </tr>\n",
       "    <tr>\n",
       "      <th>301</th>\n",
       "      <td>115.0</td>\n",
       "      <td>642.0</td>\n",
       "      <td>1</td>\n",
       "      <td>./data/pictures_raw/train/tomo_f871ad/slice_01...</td>\n",
       "    </tr>\n",
       "    <tr>\n",
       "      <th>302</th>\n",
       "      <td>491.0</td>\n",
       "      <td>537.0</td>\n",
       "      <td>1</td>\n",
       "      <td>./data/pictures_raw/train/tomo_fc3c39/slice_01...</td>\n",
       "    </tr>\n",
       "    <tr>\n",
       "      <th>303</th>\n",
       "      <td>313.0</td>\n",
       "      <td>513.0</td>\n",
       "      <td>1</td>\n",
       "      <td>./data/pictures_raw/train/tomo_fc5ae4/slice_00...</td>\n",
       "    </tr>\n",
       "    <tr>\n",
       "      <th>304</th>\n",
       "      <td>627.0</td>\n",
       "      <td>520.0</td>\n",
       "      <td>1</td>\n",
       "      <td>./data/pictures_raw/train/tomo_fd5b38/slice_01...</td>\n",
       "    </tr>\n",
       "  </tbody>\n",
       "</table>\n",
       "<p>305 rows × 4 columns</p>\n",
       "</div>"
      ],
      "text/plain": [
       "         x      y  Number_of_motors  \\\n",
       "0    762.0  257.0                 1   \n",
       "1    575.0  587.0                 1   \n",
       "2    636.0  356.0                 1   \n",
       "3    585.0  295.0                 1   \n",
       "4    658.0  768.0                 1   \n",
       "..     ...    ...               ...   \n",
       "300  387.0  469.0                 1   \n",
       "301  115.0  642.0                 1   \n",
       "302  491.0  537.0                 1   \n",
       "303  313.0  513.0                 1   \n",
       "304  627.0  520.0                 1   \n",
       "\n",
       "                                        picture_source  \n",
       "0    ./data/pictures_raw/train/tomo_05df8a/slice_01...  \n",
       "1    ./data/pictures_raw/train/tomo_0a8f05/slice_00...  \n",
       "2    ./data/pictures_raw/train/tomo_0da370/slice_00...  \n",
       "3    ./data/pictures_raw/train/tomo_101279/slice_01...  \n",
       "4    ./data/pictures_raw/train/tomo_13484c/slice_01...  \n",
       "..                                                 ...  \n",
       "300  ./data/pictures_raw/train/tomo_f78e91/slice_00...  \n",
       "301  ./data/pictures_raw/train/tomo_f871ad/slice_01...  \n",
       "302  ./data/pictures_raw/train/tomo_fc3c39/slice_01...  \n",
       "303  ./data/pictures_raw/train/tomo_fc5ae4/slice_00...  \n",
       "304  ./data/pictures_raw/train/tomo_fd5b38/slice_01...  \n",
       "\n",
       "[305 rows x 4 columns]"
      ]
     },
     "execution_count": 3,
     "metadata": {},
     "output_type": "execute_result"
    }
   ],
   "source": [
    "df = pd.read_csv('../data/csv_raw/train_labels.csv')\n",
    "\n",
    "ids_list = select_tomo_ids(df, number_of_motors=[1])\n",
    "\n",
    "rows = []\n",
    "\n",
    "for id in ids_list:\n",
    "    x, y, z, numb_motors = get_motor_coordinates(df, id)\n",
    "    image_path = get_slice_file_path(id, z)\n",
    "    rows.append([x, y, numb_motors, image_path])\n",
    "\n",
    "df = pd.DataFrame(rows, columns=[\"x\", \"y\", \"Number_of_motors\", \"picture_source\"])\n",
    "df"
   ]
  },
  {
   "cell_type": "code",
   "execution_count": 4,
   "id": "bbc9b6f8",
   "metadata": {},
   "outputs": [],
   "source": [
    "# y = df.Number_of_motors\n",
    "\n",
    "# X = []\n",
    "\n",
    "# for source in df.picture_source:\n",
    "#     best_slice_path = os.path.join(f'.{source}')\n",
    "\n",
    "#     img = load_img(best_slice_path, color_mode='grayscale')\n",
    "#     img_array = img_to_array(img) / 255\n",
    "\n",
    "#     # append to the slice list\n",
    "#     X.append(img_array)\n",
    "\n",
    "# X = np.array(X)\n",
    "\n",
    "\n",
    "X = []\n",
    "\n",
    "for source in df.picture_source:\n",
    "    best_slice_path = os.path.join(f'.{source}')\n",
    "\n",
    "    img = load_img(best_slice_path, color_mode='grayscale', target_size=(128, 128))  # ou autre taille\n",
    "    img_array = img_to_array(img) / 255.0  # shape: (128, 128, 1)\n",
    "\n",
    "    X.append(img_array)\n",
    "\n",
    "X = np.array(X)"
   ]
  },
  {
   "cell_type": "code",
   "execution_count": 5,
   "id": "1a0059fd",
   "metadata": {},
   "outputs": [
    {
     "data": {
      "text/plain": [
       "(305, 128, 128, 1)"
      ]
     },
     "execution_count": 5,
     "metadata": {},
     "output_type": "execute_result"
    }
   ],
   "source": [
    "X.shape"
   ]
  },
  {
   "cell_type": "code",
   "execution_count": 6,
   "id": "9a1ab33d",
   "metadata": {},
   "outputs": [],
   "source": [
    "y = df[['x', 'y']]"
   ]
  },
  {
   "cell_type": "code",
   "execution_count": 7,
   "id": "6a49ad0b",
   "metadata": {},
   "outputs": [],
   "source": [
    "from sklearn.model_selection import train_test_split"
   ]
  },
  {
   "cell_type": "code",
   "execution_count": 8,
   "id": "a2b29af3",
   "metadata": {},
   "outputs": [],
   "source": [
    "X_train, X_test, y_train, y_test = train_test_split(X, y, test_size=0.2, random_state=42)\n",
    "X_train, X_val, y_train, y_val = train_test_split(X_train, y_train, test_size=0.2, random_state=42)"
   ]
  },
  {
   "cell_type": "code",
   "execution_count": 9,
   "id": "1bfbc672",
   "metadata": {},
   "outputs": [
    {
     "data": {
      "text/plain": [
       "(195, 2)"
      ]
     },
     "execution_count": 9,
     "metadata": {},
     "output_type": "execute_result"
    }
   ],
   "source": [
    "y_train.shape"
   ]
  },
  {
   "cell_type": "code",
   "execution_count": 18,
   "id": "de1b4514",
   "metadata": {},
   "outputs": [],
   "source": [
    "\n",
    "def init_model_cnnlog(X):\n",
    "    model = Sequential()\n",
    "    model.add(Input(shape= X.shape[1:]))\n",
    "\n",
    "    model.add(layers.Conv2D(32, (3, 3),\n",
    "                            padding='same',\n",
    "                            activation=\"relu\"))\n",
    "    model.add(layers.Conv2D(32, (3, 3),\n",
    "                            padding='same',\n",
    "                            activation=\"relu\"))\n",
    "    model.add(layers.MaxPool2D(pool_size=(3, 3)))\n",
    "\n",
    "    model.add(layers.Conv2D(64, (3, 3),\n",
    "                            padding='same',\n",
    "                            activation=\"relu\"))\n",
    "    model.add(layers.Conv2D(64, (3, 3),\n",
    "                            padding='same',\n",
    "                            activation=\"relu\"))\n",
    "    model.add(layers.MaxPool2D(pool_size=(2, 2)))\n",
    "\n",
    "    model.add(layers.Conv2D(128, (2, 2),\n",
    "                            padding='same',\n",
    "                            activation=\"relu\"))\n",
    "    model.add(layers.Conv2D(128, (2, 2),\n",
    "                            padding='same',\n",
    "                            activation=\"relu\"))\n",
    "    model.add(layers.Conv2D(128, (2, 2),\n",
    "                            padding='same',\n",
    "                            activation=\"relu\"))\n",
    "    model.add(layers.MaxPool2D(pool_size=(2, 2)))\n",
    "\n",
    "    model.add(layers.Flatten())\n",
    "\n",
    "    model.add(layers.Dense(256,activation= 'relu'))\n",
    "\n",
    "    model.add(layers.Dense(10,activation= 'relu'))\n",
    "\n",
    "    model.add(layers.Dense(2, activation='linear'))\n",
    "    return model\n",
    "\n",
    "\n",
    "model = init_model_cnnlog(X_train)"
   ]
  },
  {
   "cell_type": "code",
   "execution_count": 19,
   "id": "ca828d05",
   "metadata": {},
   "outputs": [],
   "source": [
    "def model_compiled(model):\n",
    "    model.compile(loss= 'mse',\n",
    "                  optimizer = 'adam',\n",
    "                  metrics=['mse'] )\n",
    "    return model\n",
    "model_compi = model_compiled(model)"
   ]
  },
  {
   "cell_type": "code",
   "execution_count": null,
   "id": "5e86b5a7",
   "metadata": {},
   "outputs": [
    {
     "name": "stdout",
     "output_type": "stream",
     "text": [
      "Epoch 1/50\n",
      "7/7 [==============================] - 3s 350ms/step - loss: 210399.7344 - mse: 210399.7344 - val_loss: 74269.2422 - val_mse: 74269.2422\n",
      "Epoch 2/50\n",
      "1/7 [===>..........................] - ETA: 1s - loss: 52830.5312 - mse: 52830.5312"
     ]
    },
    {
     "ename": "KeyboardInterrupt",
     "evalue": "",
     "output_type": "error",
     "traceback": [
      "\u001b[0;31m---------------------------------------------------------------------------\u001b[0m",
      "\u001b[0;31mKeyboardInterrupt\u001b[0m                         Traceback (most recent call last)",
      "Cell \u001b[0;32mIn[75], line 16\u001b[0m\n\u001b[1;32m      7\u001b[0m     history \u001b[38;5;241m=\u001b[39m model\u001b[38;5;241m.\u001b[39mfit(X_train,\n\u001b[1;32m      8\u001b[0m                         y_train,\n\u001b[1;32m      9\u001b[0m                         batch_size\u001b[38;5;241m=\u001b[39mbatch_size,\n\u001b[0;32m   (...)\u001b[0m\n\u001b[1;32m     12\u001b[0m                         callbacks\u001b[38;5;241m=\u001b[39m[es],\n\u001b[1;32m     13\u001b[0m                         verbose\u001b[38;5;241m=\u001b[39mverbose)\n\u001b[1;32m     14\u001b[0m     \u001b[38;5;28;01mreturn\u001b[39;00m history\n\u001b[0;32m---> 16\u001b[0m history \u001b[38;5;241m=\u001b[39m \u001b[43mmodel_train\u001b[49m\u001b[43m(\u001b[49m\u001b[43mmodel_compi\u001b[49m\u001b[43m,\u001b[49m\u001b[43m \u001b[49m\u001b[43mX_train\u001b[49m\u001b[43m,\u001b[49m\u001b[43m \u001b[49m\u001b[43my_train\u001b[49m\u001b[43m)\u001b[49m\n\u001b[1;32m     17\u001b[0m history\n",
      "Cell \u001b[0;32mIn[75], line 7\u001b[0m, in \u001b[0;36mmodel_train\u001b[0;34m(model, X_train, y_train, batch_size, epochs, verbose)\u001b[0m\n\u001b[1;32m      3\u001b[0m \u001b[38;5;28;01mdef\u001b[39;00m\u001b[38;5;250m \u001b[39m\u001b[38;5;21mmodel_train\u001b[39m (model, X_train, y_train, batch_size\u001b[38;5;241m=\u001b[39m\u001b[38;5;241m32\u001b[39m ,epochs\u001b[38;5;241m=\u001b[39m\u001b[38;5;241m50\u001b[39m, verbose\u001b[38;5;241m=\u001b[39m\u001b[38;5;241m1\u001b[39m):\n\u001b[1;32m      4\u001b[0m     es \u001b[38;5;241m=\u001b[39m EarlyStopping(patience\u001b[38;5;241m=\u001b[39m\u001b[38;5;241m5\u001b[39m,\n\u001b[1;32m      5\u001b[0m                        restore_best_weights\u001b[38;5;241m=\u001b[39m\u001b[38;5;28;01mTrue\u001b[39;00m)\n\u001b[0;32m----> 7\u001b[0m     history \u001b[38;5;241m=\u001b[39m \u001b[43mmodel\u001b[49m\u001b[38;5;241;43m.\u001b[39;49m\u001b[43mfit\u001b[49m\u001b[43m(\u001b[49m\u001b[43mX_train\u001b[49m\u001b[43m,\u001b[49m\n\u001b[1;32m      8\u001b[0m \u001b[43m                        \u001b[49m\u001b[43my_train\u001b[49m\u001b[43m,\u001b[49m\n\u001b[1;32m      9\u001b[0m \u001b[43m                        \u001b[49m\u001b[43mbatch_size\u001b[49m\u001b[38;5;241;43m=\u001b[39;49m\u001b[43mbatch_size\u001b[49m\u001b[43m,\u001b[49m\n\u001b[1;32m     10\u001b[0m \u001b[43m                        \u001b[49m\u001b[43mepochs\u001b[49m\u001b[38;5;241;43m=\u001b[39;49m\u001b[43mepochs\u001b[49m\u001b[43m,\u001b[49m\n\u001b[1;32m     11\u001b[0m \u001b[43m                        \u001b[49m\u001b[43mvalidation_data\u001b[49m\u001b[38;5;241;43m=\u001b[39;49m\u001b[43m[\u001b[49m\u001b[43mX_val\u001b[49m\u001b[43m,\u001b[49m\u001b[43m \u001b[49m\u001b[43my_val\u001b[49m\u001b[43m]\u001b[49m\u001b[43m,\u001b[49m\n\u001b[1;32m     12\u001b[0m \u001b[43m                        \u001b[49m\u001b[43mcallbacks\u001b[49m\u001b[38;5;241;43m=\u001b[39;49m\u001b[43m[\u001b[49m\u001b[43mes\u001b[49m\u001b[43m]\u001b[49m\u001b[43m,\u001b[49m\n\u001b[1;32m     13\u001b[0m \u001b[43m                        \u001b[49m\u001b[43mverbose\u001b[49m\u001b[38;5;241;43m=\u001b[39;49m\u001b[43mverbose\u001b[49m\u001b[43m)\u001b[49m\n\u001b[1;32m     14\u001b[0m     \u001b[38;5;28;01mreturn\u001b[39;00m history\n",
      "File \u001b[0;32m~/.pyenv/versions/3.10.6/envs/new_flag_mot/lib/python3.10/site-packages/keras/utils/traceback_utils.py:65\u001b[0m, in \u001b[0;36mfilter_traceback.<locals>.error_handler\u001b[0;34m(*args, **kwargs)\u001b[0m\n\u001b[1;32m     63\u001b[0m filtered_tb \u001b[38;5;241m=\u001b[39m \u001b[38;5;28;01mNone\u001b[39;00m\n\u001b[1;32m     64\u001b[0m \u001b[38;5;28;01mtry\u001b[39;00m:\n\u001b[0;32m---> 65\u001b[0m     \u001b[38;5;28;01mreturn\u001b[39;00m \u001b[43mfn\u001b[49m\u001b[43m(\u001b[49m\u001b[38;5;241;43m*\u001b[39;49m\u001b[43margs\u001b[49m\u001b[43m,\u001b[49m\u001b[43m \u001b[49m\u001b[38;5;241;43m*\u001b[39;49m\u001b[38;5;241;43m*\u001b[39;49m\u001b[43mkwargs\u001b[49m\u001b[43m)\u001b[49m\n\u001b[1;32m     66\u001b[0m \u001b[38;5;28;01mexcept\u001b[39;00m \u001b[38;5;167;01mException\u001b[39;00m \u001b[38;5;28;01mas\u001b[39;00m e:\n\u001b[1;32m     67\u001b[0m     filtered_tb \u001b[38;5;241m=\u001b[39m _process_traceback_frames(e\u001b[38;5;241m.\u001b[39m__traceback__)\n",
      "File \u001b[0;32m~/.pyenv/versions/3.10.6/envs/new_flag_mot/lib/python3.10/site-packages/keras/engine/training.py:1564\u001b[0m, in \u001b[0;36mModel.fit\u001b[0;34m(self, x, y, batch_size, epochs, verbose, callbacks, validation_split, validation_data, shuffle, class_weight, sample_weight, initial_epoch, steps_per_epoch, validation_steps, validation_batch_size, validation_freq, max_queue_size, workers, use_multiprocessing)\u001b[0m\n\u001b[1;32m   1556\u001b[0m \u001b[38;5;28;01mwith\u001b[39;00m tf\u001b[38;5;241m.\u001b[39mprofiler\u001b[38;5;241m.\u001b[39mexperimental\u001b[38;5;241m.\u001b[39mTrace(\n\u001b[1;32m   1557\u001b[0m     \u001b[38;5;124m\"\u001b[39m\u001b[38;5;124mtrain\u001b[39m\u001b[38;5;124m\"\u001b[39m,\n\u001b[1;32m   1558\u001b[0m     epoch_num\u001b[38;5;241m=\u001b[39mepoch,\n\u001b[0;32m   (...)\u001b[0m\n\u001b[1;32m   1561\u001b[0m     _r\u001b[38;5;241m=\u001b[39m\u001b[38;5;241m1\u001b[39m,\n\u001b[1;32m   1562\u001b[0m ):\n\u001b[1;32m   1563\u001b[0m     callbacks\u001b[38;5;241m.\u001b[39mon_train_batch_begin(step)\n\u001b[0;32m-> 1564\u001b[0m     tmp_logs \u001b[38;5;241m=\u001b[39m \u001b[38;5;28;43mself\u001b[39;49m\u001b[38;5;241;43m.\u001b[39;49m\u001b[43mtrain_function\u001b[49m\u001b[43m(\u001b[49m\u001b[43miterator\u001b[49m\u001b[43m)\u001b[49m\n\u001b[1;32m   1565\u001b[0m     \u001b[38;5;28;01mif\u001b[39;00m data_handler\u001b[38;5;241m.\u001b[39mshould_sync:\n\u001b[1;32m   1566\u001b[0m         context\u001b[38;5;241m.\u001b[39masync_wait()\n",
      "File \u001b[0;32m~/.pyenv/versions/3.10.6/envs/new_flag_mot/lib/python3.10/site-packages/tensorflow/python/util/traceback_utils.py:150\u001b[0m, in \u001b[0;36mfilter_traceback.<locals>.error_handler\u001b[0;34m(*args, **kwargs)\u001b[0m\n\u001b[1;32m    148\u001b[0m filtered_tb \u001b[38;5;241m=\u001b[39m \u001b[38;5;28;01mNone\u001b[39;00m\n\u001b[1;32m    149\u001b[0m \u001b[38;5;28;01mtry\u001b[39;00m:\n\u001b[0;32m--> 150\u001b[0m   \u001b[38;5;28;01mreturn\u001b[39;00m \u001b[43mfn\u001b[49m\u001b[43m(\u001b[49m\u001b[38;5;241;43m*\u001b[39;49m\u001b[43margs\u001b[49m\u001b[43m,\u001b[49m\u001b[43m \u001b[49m\u001b[38;5;241;43m*\u001b[39;49m\u001b[38;5;241;43m*\u001b[39;49m\u001b[43mkwargs\u001b[49m\u001b[43m)\u001b[49m\n\u001b[1;32m    151\u001b[0m \u001b[38;5;28;01mexcept\u001b[39;00m \u001b[38;5;167;01mException\u001b[39;00m \u001b[38;5;28;01mas\u001b[39;00m e:\n\u001b[1;32m    152\u001b[0m   filtered_tb \u001b[38;5;241m=\u001b[39m _process_traceback_frames(e\u001b[38;5;241m.\u001b[39m__traceback__)\n",
      "File \u001b[0;32m~/.pyenv/versions/3.10.6/envs/new_flag_mot/lib/python3.10/site-packages/tensorflow/python/eager/def_function.py:915\u001b[0m, in \u001b[0;36mFunction.__call__\u001b[0;34m(self, *args, **kwds)\u001b[0m\n\u001b[1;32m    912\u001b[0m compiler \u001b[38;5;241m=\u001b[39m \u001b[38;5;124m\"\u001b[39m\u001b[38;5;124mxla\u001b[39m\u001b[38;5;124m\"\u001b[39m \u001b[38;5;28;01mif\u001b[39;00m \u001b[38;5;28mself\u001b[39m\u001b[38;5;241m.\u001b[39m_jit_compile \u001b[38;5;28;01melse\u001b[39;00m \u001b[38;5;124m\"\u001b[39m\u001b[38;5;124mnonXla\u001b[39m\u001b[38;5;124m\"\u001b[39m\n\u001b[1;32m    914\u001b[0m \u001b[38;5;28;01mwith\u001b[39;00m OptionalXlaContext(\u001b[38;5;28mself\u001b[39m\u001b[38;5;241m.\u001b[39m_jit_compile):\n\u001b[0;32m--> 915\u001b[0m   result \u001b[38;5;241m=\u001b[39m \u001b[38;5;28;43mself\u001b[39;49m\u001b[38;5;241;43m.\u001b[39;49m\u001b[43m_call\u001b[49m\u001b[43m(\u001b[49m\u001b[38;5;241;43m*\u001b[39;49m\u001b[43margs\u001b[49m\u001b[43m,\u001b[49m\u001b[43m \u001b[49m\u001b[38;5;241;43m*\u001b[39;49m\u001b[38;5;241;43m*\u001b[39;49m\u001b[43mkwds\u001b[49m\u001b[43m)\u001b[49m\n\u001b[1;32m    917\u001b[0m new_tracing_count \u001b[38;5;241m=\u001b[39m \u001b[38;5;28mself\u001b[39m\u001b[38;5;241m.\u001b[39mexperimental_get_tracing_count()\n\u001b[1;32m    918\u001b[0m without_tracing \u001b[38;5;241m=\u001b[39m (tracing_count \u001b[38;5;241m==\u001b[39m new_tracing_count)\n",
      "File \u001b[0;32m~/.pyenv/versions/3.10.6/envs/new_flag_mot/lib/python3.10/site-packages/tensorflow/python/eager/def_function.py:947\u001b[0m, in \u001b[0;36mFunction._call\u001b[0;34m(self, *args, **kwds)\u001b[0m\n\u001b[1;32m    944\u001b[0m   \u001b[38;5;28mself\u001b[39m\u001b[38;5;241m.\u001b[39m_lock\u001b[38;5;241m.\u001b[39mrelease()\n\u001b[1;32m    945\u001b[0m   \u001b[38;5;66;03m# In this case we have created variables on the first call, so we run the\u001b[39;00m\n\u001b[1;32m    946\u001b[0m   \u001b[38;5;66;03m# defunned version which is guaranteed to never create variables.\u001b[39;00m\n\u001b[0;32m--> 947\u001b[0m   \u001b[38;5;28;01mreturn\u001b[39;00m \u001b[38;5;28;43mself\u001b[39;49m\u001b[38;5;241;43m.\u001b[39;49m\u001b[43m_stateless_fn\u001b[49m\u001b[43m(\u001b[49m\u001b[38;5;241;43m*\u001b[39;49m\u001b[43margs\u001b[49m\u001b[43m,\u001b[49m\u001b[43m \u001b[49m\u001b[38;5;241;43m*\u001b[39;49m\u001b[38;5;241;43m*\u001b[39;49m\u001b[43mkwds\u001b[49m\u001b[43m)\u001b[49m  \u001b[38;5;66;03m# pylint: disable=not-callable\u001b[39;00m\n\u001b[1;32m    948\u001b[0m \u001b[38;5;28;01melif\u001b[39;00m \u001b[38;5;28mself\u001b[39m\u001b[38;5;241m.\u001b[39m_stateful_fn \u001b[38;5;129;01mis\u001b[39;00m \u001b[38;5;129;01mnot\u001b[39;00m \u001b[38;5;28;01mNone\u001b[39;00m:\n\u001b[1;32m    949\u001b[0m   \u001b[38;5;66;03m# Release the lock early so that multiple threads can perform the call\u001b[39;00m\n\u001b[1;32m    950\u001b[0m   \u001b[38;5;66;03m# in parallel.\u001b[39;00m\n\u001b[1;32m    951\u001b[0m   \u001b[38;5;28mself\u001b[39m\u001b[38;5;241m.\u001b[39m_lock\u001b[38;5;241m.\u001b[39mrelease()\n",
      "File \u001b[0;32m~/.pyenv/versions/3.10.6/envs/new_flag_mot/lib/python3.10/site-packages/tensorflow/python/eager/function.py:2496\u001b[0m, in \u001b[0;36mFunction.__call__\u001b[0;34m(self, *args, **kwargs)\u001b[0m\n\u001b[1;32m   2493\u001b[0m \u001b[38;5;28;01mwith\u001b[39;00m \u001b[38;5;28mself\u001b[39m\u001b[38;5;241m.\u001b[39m_lock:\n\u001b[1;32m   2494\u001b[0m   (graph_function,\n\u001b[1;32m   2495\u001b[0m    filtered_flat_args) \u001b[38;5;241m=\u001b[39m \u001b[38;5;28mself\u001b[39m\u001b[38;5;241m.\u001b[39m_maybe_define_function(args, kwargs)\n\u001b[0;32m-> 2496\u001b[0m \u001b[38;5;28;01mreturn\u001b[39;00m \u001b[43mgraph_function\u001b[49m\u001b[38;5;241;43m.\u001b[39;49m\u001b[43m_call_flat\u001b[49m\u001b[43m(\u001b[49m\n\u001b[1;32m   2497\u001b[0m \u001b[43m    \u001b[49m\u001b[43mfiltered_flat_args\u001b[49m\u001b[43m,\u001b[49m\u001b[43m \u001b[49m\u001b[43mcaptured_inputs\u001b[49m\u001b[38;5;241;43m=\u001b[39;49m\u001b[43mgraph_function\u001b[49m\u001b[38;5;241;43m.\u001b[39;49m\u001b[43mcaptured_inputs\u001b[49m\u001b[43m)\u001b[49m\n",
      "File \u001b[0;32m~/.pyenv/versions/3.10.6/envs/new_flag_mot/lib/python3.10/site-packages/tensorflow/python/eager/function.py:1862\u001b[0m, in \u001b[0;36mConcreteFunction._call_flat\u001b[0;34m(self, args, captured_inputs, cancellation_manager)\u001b[0m\n\u001b[1;32m   1858\u001b[0m possible_gradient_type \u001b[38;5;241m=\u001b[39m gradients_util\u001b[38;5;241m.\u001b[39mPossibleTapeGradientTypes(args)\n\u001b[1;32m   1859\u001b[0m \u001b[38;5;28;01mif\u001b[39;00m (possible_gradient_type \u001b[38;5;241m==\u001b[39m gradients_util\u001b[38;5;241m.\u001b[39mPOSSIBLE_GRADIENT_TYPES_NONE\n\u001b[1;32m   1860\u001b[0m     \u001b[38;5;129;01mand\u001b[39;00m executing_eagerly):\n\u001b[1;32m   1861\u001b[0m   \u001b[38;5;66;03m# No tape is watching; skip to running the function.\u001b[39;00m\n\u001b[0;32m-> 1862\u001b[0m   \u001b[38;5;28;01mreturn\u001b[39;00m \u001b[38;5;28mself\u001b[39m\u001b[38;5;241m.\u001b[39m_build_call_outputs(\u001b[38;5;28;43mself\u001b[39;49m\u001b[38;5;241;43m.\u001b[39;49m\u001b[43m_inference_function\u001b[49m\u001b[38;5;241;43m.\u001b[39;49m\u001b[43mcall\u001b[49m\u001b[43m(\u001b[49m\n\u001b[1;32m   1863\u001b[0m \u001b[43m      \u001b[49m\u001b[43mctx\u001b[49m\u001b[43m,\u001b[49m\u001b[43m \u001b[49m\u001b[43margs\u001b[49m\u001b[43m,\u001b[49m\u001b[43m \u001b[49m\u001b[43mcancellation_manager\u001b[49m\u001b[38;5;241;43m=\u001b[39;49m\u001b[43mcancellation_manager\u001b[49m\u001b[43m)\u001b[49m)\n\u001b[1;32m   1864\u001b[0m forward_backward \u001b[38;5;241m=\u001b[39m \u001b[38;5;28mself\u001b[39m\u001b[38;5;241m.\u001b[39m_select_forward_and_backward_functions(\n\u001b[1;32m   1865\u001b[0m     args,\n\u001b[1;32m   1866\u001b[0m     possible_gradient_type,\n\u001b[1;32m   1867\u001b[0m     executing_eagerly)\n\u001b[1;32m   1868\u001b[0m forward_function, args_with_tangents \u001b[38;5;241m=\u001b[39m forward_backward\u001b[38;5;241m.\u001b[39mforward()\n",
      "File \u001b[0;32m~/.pyenv/versions/3.10.6/envs/new_flag_mot/lib/python3.10/site-packages/tensorflow/python/eager/function.py:499\u001b[0m, in \u001b[0;36m_EagerDefinedFunction.call\u001b[0;34m(self, ctx, args, cancellation_manager)\u001b[0m\n\u001b[1;32m    497\u001b[0m \u001b[38;5;28;01mwith\u001b[39;00m _InterpolateFunctionError(\u001b[38;5;28mself\u001b[39m):\n\u001b[1;32m    498\u001b[0m   \u001b[38;5;28;01mif\u001b[39;00m cancellation_manager \u001b[38;5;129;01mis\u001b[39;00m \u001b[38;5;28;01mNone\u001b[39;00m:\n\u001b[0;32m--> 499\u001b[0m     outputs \u001b[38;5;241m=\u001b[39m \u001b[43mexecute\u001b[49m\u001b[38;5;241;43m.\u001b[39;49m\u001b[43mexecute\u001b[49m\u001b[43m(\u001b[49m\n\u001b[1;32m    500\u001b[0m \u001b[43m        \u001b[49m\u001b[38;5;28;43mstr\u001b[39;49m\u001b[43m(\u001b[49m\u001b[38;5;28;43mself\u001b[39;49m\u001b[38;5;241;43m.\u001b[39;49m\u001b[43msignature\u001b[49m\u001b[38;5;241;43m.\u001b[39;49m\u001b[43mname\u001b[49m\u001b[43m)\u001b[49m\u001b[43m,\u001b[49m\n\u001b[1;32m    501\u001b[0m \u001b[43m        \u001b[49m\u001b[43mnum_outputs\u001b[49m\u001b[38;5;241;43m=\u001b[39;49m\u001b[38;5;28;43mself\u001b[39;49m\u001b[38;5;241;43m.\u001b[39;49m\u001b[43m_num_outputs\u001b[49m\u001b[43m,\u001b[49m\n\u001b[1;32m    502\u001b[0m \u001b[43m        \u001b[49m\u001b[43minputs\u001b[49m\u001b[38;5;241;43m=\u001b[39;49m\u001b[43margs\u001b[49m\u001b[43m,\u001b[49m\n\u001b[1;32m    503\u001b[0m \u001b[43m        \u001b[49m\u001b[43mattrs\u001b[49m\u001b[38;5;241;43m=\u001b[39;49m\u001b[43mattrs\u001b[49m\u001b[43m,\u001b[49m\n\u001b[1;32m    504\u001b[0m \u001b[43m        \u001b[49m\u001b[43mctx\u001b[49m\u001b[38;5;241;43m=\u001b[39;49m\u001b[43mctx\u001b[49m\u001b[43m)\u001b[49m\n\u001b[1;32m    505\u001b[0m   \u001b[38;5;28;01melse\u001b[39;00m:\n\u001b[1;32m    506\u001b[0m     outputs \u001b[38;5;241m=\u001b[39m execute\u001b[38;5;241m.\u001b[39mexecute_with_cancellation(\n\u001b[1;32m    507\u001b[0m         \u001b[38;5;28mstr\u001b[39m(\u001b[38;5;28mself\u001b[39m\u001b[38;5;241m.\u001b[39msignature\u001b[38;5;241m.\u001b[39mname),\n\u001b[1;32m    508\u001b[0m         num_outputs\u001b[38;5;241m=\u001b[39m\u001b[38;5;28mself\u001b[39m\u001b[38;5;241m.\u001b[39m_num_outputs,\n\u001b[0;32m   (...)\u001b[0m\n\u001b[1;32m    511\u001b[0m         ctx\u001b[38;5;241m=\u001b[39mctx,\n\u001b[1;32m    512\u001b[0m         cancellation_manager\u001b[38;5;241m=\u001b[39mcancellation_manager)\n",
      "File \u001b[0;32m~/.pyenv/versions/3.10.6/envs/new_flag_mot/lib/python3.10/site-packages/tensorflow/python/eager/execute.py:54\u001b[0m, in \u001b[0;36mquick_execute\u001b[0;34m(op_name, num_outputs, inputs, attrs, ctx, name)\u001b[0m\n\u001b[1;32m     52\u001b[0m \u001b[38;5;28;01mtry\u001b[39;00m:\n\u001b[1;32m     53\u001b[0m   ctx\u001b[38;5;241m.\u001b[39mensure_initialized()\n\u001b[0;32m---> 54\u001b[0m   tensors \u001b[38;5;241m=\u001b[39m \u001b[43mpywrap_tfe\u001b[49m\u001b[38;5;241;43m.\u001b[39;49m\u001b[43mTFE_Py_Execute\u001b[49m\u001b[43m(\u001b[49m\u001b[43mctx\u001b[49m\u001b[38;5;241;43m.\u001b[39;49m\u001b[43m_handle\u001b[49m\u001b[43m,\u001b[49m\u001b[43m \u001b[49m\u001b[43mdevice_name\u001b[49m\u001b[43m,\u001b[49m\u001b[43m \u001b[49m\u001b[43mop_name\u001b[49m\u001b[43m,\u001b[49m\n\u001b[1;32m     55\u001b[0m \u001b[43m                                      \u001b[49m\u001b[43minputs\u001b[49m\u001b[43m,\u001b[49m\u001b[43m \u001b[49m\u001b[43mattrs\u001b[49m\u001b[43m,\u001b[49m\u001b[43m \u001b[49m\u001b[43mnum_outputs\u001b[49m\u001b[43m)\u001b[49m\n\u001b[1;32m     56\u001b[0m \u001b[38;5;28;01mexcept\u001b[39;00m core\u001b[38;5;241m.\u001b[39m_NotOkStatusException \u001b[38;5;28;01mas\u001b[39;00m e:\n\u001b[1;32m     57\u001b[0m   \u001b[38;5;28;01mif\u001b[39;00m name \u001b[38;5;129;01mis\u001b[39;00m \u001b[38;5;129;01mnot\u001b[39;00m \u001b[38;5;28;01mNone\u001b[39;00m:\n",
      "\u001b[0;31mKeyboardInterrupt\u001b[0m: "
     ]
    }
   ],
   "source": [
    "\n",
    "\n",
    "def model_train (model, X_train, y_train, batch_size=32 ,epochs=50, verbose=1):\n",
    "    es = EarlyStopping(patience=5,\n",
    "                       restore_best_weights=True)\n",
    "\n",
    "    history = model.fit(X_train,\n",
    "                        y_train,\n",
    "                        batch_size=batch_size,\n",
    "                        epochs=epochs,\n",
    "                        validation_data=[X_val, y_val],\n",
    "                        callbacks=[es],\n",
    "                        verbose=verbose)\n",
    "    return history\n",
    "\n",
    "history = model_train(model_compi, X_train, y_train)\n",
    "history"
   ]
  },
  {
   "cell_type": "code",
   "execution_count": 13,
   "id": "1d852a69",
   "metadata": {},
   "outputs": [],
   "source": [
    "import matplotlib.pyplot as plt\n",
    "\n",
    "def plot_history(history):\n",
    "    fig, ax = plt.subplots(1, 2, figsize=(15,5))\n",
    "    ax[0].set_title('loss')\n",
    "    ax[0].plot(history.epoch, history.history[\"loss\"], label=\"Train loss\")\n",
    "    ax[0].plot(history.epoch, history.history[\"val_loss\"], label=\"Validation loss\")\n",
    "    ax[0].set_ylim(0,10)\n",
    "    ax[1].set_title('mse')\n",
    "    ax[1].plot(history.epoch, history.history[\"mse\"], label=\"Train acc\")\n",
    "    ax[1].plot(history.epoch, history.history[\"val_mse\"], label=\"Validation ,mse\")\n",
    "    ax[1].set_ylim(0,10)\n",
    "    ax[0].legend()\n",
    "    ax[1].legend()"
   ]
  },
  {
   "cell_type": "code",
   "execution_count": 20,
   "id": "2b31d3ad",
   "metadata": {},
   "outputs": [
    {
     "data": {
      "image/png": "[encoded data removed]",
      "text/plain": [
       "<Figure size 1500x500 with 2 Axes>"
      ]
     },
     "metadata": {},
     "output_type": "display_data"
    }
   ],
   "source": [
    "plot_history(history)"
   ]
  },
  {
   "cell_type": "code",
   "execution_count": 21,
   "id": "2262c15c",
   "metadata": {},
   "outputs": [
    {
     "name": "stdout",
     "output_type": "stream",
     "text": [
      "Epoch 1/50\n",
      "7/7 [==============================] - 6s 694ms/step - loss: 256063.4219 - mse: 256063.4219 - val_loss: 180216.5156 - val_mse: 180216.5156\n",
      "Epoch 2/50\n",
      "7/7 [==============================] - 6s 841ms/step - loss: 103774.3984 - mse: 103774.3984 - val_loss: 101867.2891 - val_mse: 101867.2891\n",
      "Epoch 3/50\n",
      "7/7 [==============================] - 6s 838ms/step - loss: 76445.7500 - mse: 76445.7500 - val_loss: 49757.1445 - val_mse: 49757.1445\n",
      "Epoch 4/50\n",
      "7/7 [==============================] - 4s 822ms/step - loss: 62984.0938 - mse: 62984.0938 - val_loss: 46531.4297 - val_mse: 46531.4297\n",
      "Epoch 5/50\n",
      "7/7 [==============================] - 7s 935ms/step - loss: 52201.3945 - mse: 52201.3945 - val_loss: 46171.2031 - val_mse: 46171.2031\n",
      "Epoch 6/50\n",
      "7/7 [==============================] - 6s 833ms/step - loss: 49641.2070 - mse: 49641.2070 - val_loss: 42378.2773 - val_mse: 42378.2773\n",
      "Epoch 7/50\n",
      "7/7 [==============================] - 6s 820ms/step - loss: 49859.9219 - mse: 49859.9219 - val_loss: 39265.3047 - val_mse: 39265.3047\n",
      "Epoch 8/50\n",
      "7/7 [==============================] - 6s 810ms/step - loss: 45455.8555 - mse: 45455.8555 - val_loss: 44691.4805 - val_mse: 44691.4805\n",
      "Epoch 9/50\n",
      "7/7 [==============================] - 4s 563ms/step - loss: 42949.2656 - mse: 42949.2656 - val_loss: 36955.9062 - val_mse: 36955.9062\n",
      "Epoch 10/50\n",
      "7/7 [==============================] - 6s 875ms/step - loss: 40401.9961 - mse: 40401.9961 - val_loss: 41003.6523 - val_mse: 41003.6523\n",
      "Epoch 11/50\n",
      "7/7 [==============================] - 6s 803ms/step - loss: 42060.9883 - mse: 42060.9883 - val_loss: 34128.2305 - val_mse: 34128.2305\n",
      "Epoch 12/50\n",
      "7/7 [==============================] - 6s 859ms/step - loss: 40198.1484 - mse: 40198.1484 - val_loss: 35084.5547 - val_mse: 35084.5547\n",
      "Epoch 13/50\n",
      "7/7 [==============================] - 6s 834ms/step - loss: 41110.4062 - mse: 41110.4062 - val_loss: 34898.3867 - val_mse: 34898.3867\n",
      "Epoch 14/50\n",
      "7/7 [==============================] - 6s 796ms/step - loss: 38858.8047 - mse: 38858.8047 - val_loss: 34191.4492 - val_mse: 34191.4492\n",
      "Epoch 15/50\n",
      "7/7 [==============================] - 4s 790ms/step - loss: 39235.5469 - mse: 39235.5469 - val_loss: 47468.9297 - val_mse: 47468.9297\n",
      "Epoch 16/50\n",
      "7/7 [==============================] - 6s 815ms/step - loss: 39572.5078 - mse: 39572.5078 - val_loss: 40837.8555 - val_mse: 40837.8555\n"
     ]
    }
   ],
   "source": [
    "from keras.callbacks import EarlyStopping\n",
    "\n",
    "es = EarlyStopping(patience=5,\n",
    "                    restore_best_weights=True)\n",
    "\n",
    "history = model_compi.fit(X_train,\n",
    "                    y_train,\n",
    "                    batch_size=32,\n",
    "                    epochs=50,\n",
    "                    validation_data=[X_val, y_val],\n",
    "                    callbacks=[es],\n",
    "                    verbose=1)"
   ]
  },
  {
   "cell_type": "code",
   "execution_count": 80,
   "id": "9b8c8f08",
   "metadata": {},
   "outputs": [
    {
     "name": "stdout",
     "output_type": "stream",
     "text": [
      "2/2 [==============================] - 0s 72ms/step\n"
     ]
    }
   ],
   "source": [
    "y_pred = model_compi.predict(X_test)"
   ]
  },
  {
   "cell_type": "code",
   "execution_count": 81,
   "id": "06290e33",
   "metadata": {},
   "outputs": [
    {
     "data": {
      "text/plain": [
       "((61, 2), (61, 2))"
      ]
     },
     "execution_count": 81,
     "metadata": {},
     "output_type": "execute_result"
    }
   ],
   "source": [
    "y_pred.shape, y_test.shape"
   ]
  },
  {
   "cell_type": "code",
   "execution_count": 22,
   "id": "af075951",
   "metadata": {},
   "outputs": [
    {
     "name": "stdout",
     "output_type": "stream",
     "text": [
      "2/2 [==============================] - 0s 126ms/step - loss: 35911.9922 - mse: 35911.9922\n"
     ]
    },
    {
     "data": {
      "text/plain": [
       "[35911.9921875, 35911.9921875]"
      ]
     },
     "execution_count": 22,
     "metadata": {},
     "output_type": "execute_result"
    }
   ],
   "source": [
    "model.evaluate(X_test, y_test)"
   ]
  }
 ],
 "metadata": {
  "kernelspec": {
   "display_name": "new_flag_mot",
   "language": "python",
   "name": "python3"
  },
  "language_info": {
   "codemirror_mode": {
    "name": "ipython",
    "version": 3
   },
   "file_extension": ".py",
   "mimetype": "text/x-python",
   "name": "python",
   "nbconvert_exporter": "python",
   "pygments_lexer": "ipython3",
   "version": "3.10.6"
  }
 },
 "nbformat": 4,
 "nbformat_minor": 5
}
