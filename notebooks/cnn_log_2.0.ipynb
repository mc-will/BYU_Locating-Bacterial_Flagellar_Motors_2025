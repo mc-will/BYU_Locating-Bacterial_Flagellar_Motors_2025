{
 "cells": [
  {
   "cell_type": "code",
   "execution_count": null,
   "metadata": {},
   "outputs": [],
   "source": [
    "import sys\n",
    "sys.path.append('../src')\n",
    "\n",
    "import os\n",
    "import pandas as pd\n",
    "import numpy as np\n",
    "import matplotlib.pyplot as plt\n",
    "from pathlib import Path\n",
    "from PIL import Image\n",
    "from sklearn.model_selection import train_test_split\n",
    "from tensorflow.keras import Sequential, Input, layers\n",
    "from keras.callbacks import EarlyStopping\n",
    "from tensorflow.keras.preprocessing.image import load_img, img_to_array\n",
    "from tensorflow_addons.metrics import FBetaScore\n",
    "from tensorflow.keras.applications import DenseNet121\n",
    "from tensorflow.keras.layers import GlobalAveragePooling2D, Dense, Dropout, Input, Lambda\n",
    "from tensorflow.keras.models import Model\n",
    "from tensorflow.keras.optimizers import Adam\n",
    "from tensorflow.keras.metrics import Recall\n",
    "import tensorflow as tf\n",
    "# from tensorflow.keras.metrics import Recall, Precision\n",
    "\n",
    "from utils.data import get_best_slice, select_tomo_ids, get_csv_from_bq\n",
    "from utils.render_motor_position import get_motor_coordinates, get_slice_file_path\n",
    "from ml_logic.interface import train_classification\n"
   ]
  },
  {
   "cell_type": "code",
   "execution_count": 2,
   "metadata": {},
   "outputs": [],
   "source": [
    "path_train_csv= '../data/csv_raw/train_labels.csv'\n",
    "# path_image= '../data/pictures_raw/train'\n",
    "path_image = '../data/pictures_process/adaptequal_1_padded'\n",
    "\n",
    "\n",
    "df = pd.read_csv(path_train_csv).copy()\n"
   ]
  },
  {
   "cell_type": "code",
   "execution_count": 3,
   "metadata": {},
   "outputs": [],
   "source": [
    "# pd.serie with list of tomo (tomo_2dd6bd)\n",
    "tomogram_id= select_tomo_ids(df,\n",
    "                             number_of_slices= list(df['Array_shape_axis_0'].unique()) #[500, 800, 600, 300, 400, 494]\n",
    "                             )\n"
   ]
  },
  {
   "cell_type": "code",
   "execution_count": 4,
   "metadata": {},
   "outputs": [],
   "source": [
    "# convert the img in array, ready for input the model\n",
    "\n",
    "def load_images_by_ids(folder_path,\n",
    "                       tomo_ids,\n",
    "                       color_mode='grayscale',\n",
    "                       target_size=None\n",
    "                       ):\n",
    "\n",
    "    images = []\n",
    "    folder = Path(folder_path)\n",
    "\n",
    "    for tomo_id in tomo_ids:\n",
    "        img_file = folder / f\"{tomo_id}.jpg\"\n",
    "        if img_file.exists():\n",
    "            img = load_img(img_file, color_mode=color_mode, target_size=target_size)\n",
    "            img_array = img_to_array(img) / 255.0\n",
    "            images.append(img_array)\n",
    "        else:\n",
    "            print(f\"[⚠️] Imagen no encontrada: {img_file}\")\n",
    "\n",
    "    return np.array(images)\n"
   ]
  },
  {
   "cell_type": "code",
   "execution_count": 5,
   "metadata": {},
   "outputs": [],
   "source": [
    "# X and y\n",
    "X = load_images_by_ids(path_image, tomogram_id)\n",
    "\n",
    "df_filtered = df[df['tomo_id'].isin(tomogram_id)]\n",
    "y = df_filtered['Number_of_motors']\n"
   ]
  },
  {
   "cell_type": "code",
   "execution_count": 6,
   "metadata": {},
   "outputs": [],
   "source": [
    "# train - Val - test\n",
    "\n",
    "random_state=42\n",
    "\n",
    "X_train, X_test, y_train, y_test = train_test_split(X, y,\n",
    "                                                    test_size=0.1,\n",
    "                                                    random_state=random_state)\n",
    "\n",
    "X_train, X_val, y_train, y_val = train_test_split(X_train, y_train,\n",
    "                                                  test_size=0.1,\n",
    "                                                  random_state=random_state)"
   ]
  },
  {
   "cell_type": "code",
   "execution_count": 7,
   "metadata": {},
   "outputs": [],
   "source": [
    "\n",
    "def init_model_densenet(X):\n",
    "    original_input_shape = X.shape[1:]\n",
    "\n",
    "    # Forzar input a 3 canales si es gris (1 canal)\n",
    "    if original_input_shape[-1] == 1:\n",
    "        base_input_shape = original_input_shape[:-1] + (3,)\n",
    "    else:\n",
    "        base_input_shape = original_input_shape\n",
    "\n",
    "    # Cargar modelo base DenseNet121 sin la capa de clasificación final\n",
    "    base_model = DenseNet121(include_top=False,\n",
    "                             weights='imagenet',\n",
    "                             input_shape=base_input_shape\n",
    "                             )\n",
    "    base_model.trainable = False\n",
    "\n",
    "    # Input layer\n",
    "    inputs = Input(shape=original_input_shape)\n",
    "\n",
    "    # Convertir a RGB si es necesario\n",
    "    if original_input_shape[-1] == 1:\n",
    "        x = Lambda(lambda x: tf.image.grayscale_to_rgb(x))(inputs)\n",
    "    else:\n",
    "        x = inputs\n",
    "\n",
    "\n",
    "    x = base_model(x, training=False)\n",
    "    x = GlobalAveragePooling2D()(x)\n",
    "    x = Dropout(0.5)(x)\n",
    "    x = Dense(128, activation='relu')(x)\n",
    "    x = Dropout(0.3)(x)\n",
    "    outputs = Dense(1, activation='sigmoid')(x)\n",
    "\n",
    "    model = Model(inputs, outputs)\n",
    "\n",
    "    model.compile(\n",
    "        loss='binary_crossentropy',\n",
    "        optimizer=Adam(learning_rate=1e-4),\n",
    "        metrics=[\n",
    "            'accuracy',\n",
    "            FBetaScore(num_classes=1, average='micro', beta=2.0),\n",
    "            Recall()\n",
    "        ]\n",
    "    )\n",
    "\n",
    "    return model\n"
   ]
  },
  {
   "cell_type": "code",
   "execution_count": null,
   "metadata": {},
   "outputs": [],
   "source": [
    "model_densenet = init_model_densenet(X_train)\n",
    "history_densenet = train_classification(model=model_densenet,\n",
    "                                        X_train = X_train,\n",
    "                                        y_train = y_train,\n",
    "                                        X_val = X_val,\n",
    "                                        y_val = y_val,\n",
    "                                        model_type = 'classification',\n",
    "                                        preprocess_type ='adaptequela_1',\n",
    "                                        model_name= 'model_densenet121',\n",
    "                                        batch_size= 16,\n",
    "                                        patience = 2\n",
    "                                        )\n"
   ]
  },
  {
   "cell_type": "code",
   "execution_count": null,
   "metadata": {},
   "outputs": [],
   "source": [
    "model_densenet.evaluate(X_test,y_test)"
   ]
  },
  {
   "cell_type": "code",
   "execution_count": null,
   "metadata": {},
   "outputs": [],
   "source": [
    "history_densenet.history"
   ]
  },
  {
   "cell_type": "code",
   "execution_count": null,
   "metadata": {},
   "outputs": [],
   "source": [
    "# Fonction of grafic all the metrics and its val's\n",
    "def plot_training_metrics(history):\n",
    "    \"\"\"\n",
    "   plot the metrics, even if there is not one of them into 'history'\n",
    "    \"\"\"\n",
    "    history_dict = history.history\n",
    "    plotted = False\n",
    "\n",
    "    def safe_plot(metric_name, color, linestyle='-'):\n",
    "        nonlocal plotted\n",
    "        if metric_name in history_dict:\n",
    "            label = metric_name.replace('_', ' ')\n",
    "            plt.plot(history_dict[metric_name], c=color, linestyle=linestyle, label=label)\n",
    "            plotted = True\n",
    "\n",
    "    # fbeta\n",
    "    safe_plot('fbeta_score', 'r')\n",
    "    safe_plot('val_fbeta_score', 'r', '--')\n",
    "\n",
    "    # recall\n",
    "    safe_plot('recall', 'g')\n",
    "    safe_plot('val_recall', 'g', '--')\n",
    "    safe_plot('recall_1', 'g')  # alternativa por si usa nombre automático\n",
    "    safe_plot('val_recall_1', 'g', '--')\n",
    "\n",
    "    # accuracy\n",
    "    safe_plot('accuracy', 'black')\n",
    "    safe_plot('val_accuracy', 'black', '--')\n",
    "\n",
    "    # precision\n",
    "    safe_plot('precision', 'blue')\n",
    "    safe_plot('val_precision', 'blue', '--')\n",
    "\n",
    "    if plotted:\n",
    "        plt.title(\"Training Metrics\")\n",
    "        plt.xlabel(\"Epoch\")\n",
    "        plt.ylabel(\"Metric Value\")\n",
    "        plt.legend()\n",
    "        plt.grid(True)\n",
    "        plt.show()\n",
    "    else:\n",
    "        print(\"⚠️ No se encontró ninguna métrica conocida para graficar.\")\n",
    "\n",
    "# Ejemplo de uso\n",
    "plot_training_metrics(history_densenet)"
   ]
  },
  {
   "cell_type": "code",
   "execution_count": null,
   "metadata": {},
   "outputs": [],
   "source": []
  },
  {
   "cell_type": "code",
   "execution_count": null,
   "metadata": {},
   "outputs": [],
   "source": [
    "from sklearn.metrics import fbeta_score\n",
    "\n",
    "y_pred= model_densenet.predict(X_test )\n",
    "y_pred\n",
    "# fbeta_score(y_test, y_pred, beta=2, average='binary')\n"
   ]
  },
  {
   "cell_type": "code",
   "execution_count": null,
   "metadata": {},
   "outputs": [],
   "source": []
  },
  {
   "cell_type": "code",
   "execution_count": null,
   "metadata": {},
   "outputs": [],
   "source": []
  }
 ],
 "metadata": {
  "kernelspec": {
   "display_name": "byu",
   "language": "python",
   "name": "python3"
  },
  "language_info": {
   "codemirror_mode": {
    "name": "ipython",
    "version": 3
   },
   "file_extension": ".py",
   "mimetype": "text/x-python",
   "name": "python",
   "nbconvert_exporter": "python",
   "pygments_lexer": "ipython3",
   "version": "3.10.6"
  }
 },
 "nbformat": 4,
 "nbformat_minor": 2
}
