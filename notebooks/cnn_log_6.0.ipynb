{
 "cells": [
  {
   "cell_type": "markdown",
   "metadata": {},
   "source": [
    "# Trop loud, pas faisable  \n"
   ]
  },
  {
   "cell_type": "code",
   "execution_count": null,
   "metadata": {},
   "outputs": [],
   "source": [
    "import os\n",
    "import numpy as np\n",
    "import pandas as pd\n",
    "from tqdm import tqdm\n",
    "import cv2\n",
    "from sklearn.model_selection import train_test_split\n",
    "from tensorflow.keras.applications import DenseNet121\n",
    "from tensorflow.keras.models import Model\n",
    "from tensorflow.keras.layers import Input, GlobalAveragePooling2D, Dropout, Dense, Lambda\n",
    "from tensorflow.keras.optimizers import Adam\n",
    "from tensorflow.keras.callbacks import EarlyStopping\n",
    "from tensorflow.keras.metrics import Recall, Precision\n",
    "import tensorflow as tf\n",
    "from tensorflow.image import flip_left_right, rot90\n",
    "\n",
    "# === Config ===\n",
    "# path_light = '/Volumes/DiskMorgane/light_data'\n",
    "path_light ='/Volumes/DiskMorgane/bach_32/bach_1'\n",
    "path_train_csv = '../data/csv_raw/train_labels.csv'\n",
    "\n",
    "# === Cargar y procesar DataFrame ===\n",
    "df = pd.read_csv(path_train_csv).copy()\n",
    "df['motor_place'] = np.where(df['Motor_axis_0'] < 0, -1, (df['Motor_axis_0'] / df['Array_shape_axis_0'] * 32).astype(int))\n",
    "df = df.groupby('tomo_id').first().reset_index()\n",
    "#######################\n",
    "# tomo_ids = ['tomo_00e047', 'tomo_0fe63f', 'tomo_1e9980']\n",
    "# df = df[df['tomo_id'].isin(tomo_ids)]\n",
    "# ##################\n",
    "df"
   ]
  },
  {
   "cell_type": "code",
   "execution_count": null,
   "metadata": {},
   "outputs": [],
   "source": [
    "expanded_rows = []\n",
    "for _, row in df.iterrows():\n",
    "    for i in range(32):\n",
    "        new_row = row.copy()\n",
    "        new_row['image_index'] = i\n",
    "        new_row['motor_place'] = 1 if i == int(row['motor_place']) else 0\n",
    "        expanded_rows.append(new_row)\n",
    "df = pd.DataFrame(expanded_rows)\n",
    "df"
   ]
  },
  {
   "cell_type": "code",
   "execution_count": null,
   "metadata": {},
   "outputs": [
    {
     "name": "stderr",
     "output_type": "stream",
     "text": [
      "Loading images:   5%|▌         | 1122/20736 [01:09<21:37, 15.12it/s]"
     ]
    }
   ],
   "source": [
    "\n",
    "# === Cargar imágenes y aplicar augmentación solo a positivos ===\n",
    "def load_images(df, path_light_data, size=512, id_column='tomo_id'):\n",
    "    images = []\n",
    "    labels = []\n",
    "\n",
    "    for _, row in tqdm(df.iterrows(), total=len(df), desc=\"Loading images\"):\n",
    "        tomo_id = row[id_column]\n",
    "        idx = row['image_index']\n",
    "        label = row['motor_place']\n",
    "\n",
    "        tomo_path = os.path.join(path_light_data, tomo_id)\n",
    "        if not os.path.exists(tomo_path):\n",
    "            continue\n",
    "\n",
    "        image_files = sorted([\n",
    "            f for f in os.listdir(tomo_path)\n",
    "            if f.lower().endswith(('.png', '.jpg')) and not f.startswith(\"._\")\n",
    "        ])[:32]\n",
    "\n",
    "        if idx >= len(image_files):\n",
    "            continue\n",
    "\n",
    "        img_path = os.path.join(tomo_path, image_files[idx])\n",
    "        img = cv2.imread(img_path, cv2.IMREAD_GRAYSCALE)\n",
    "        if img is None:\n",
    "            continue\n",
    "\n",
    "        img = cv2.resize(img, (size, size))\n",
    "        img = np.expand_dims(img, axis=-1)\n",
    "        images.append(img)\n",
    "        labels.append(label)\n",
    "\n",
    "        if label == 1:\n",
    "            for _ in range(20):\n",
    "                aug_img = img.copy()\n",
    "                if np.random.rand() > 0.5:\n",
    "                    aug_img = flip_left_right(aug_img).numpy()\n",
    "                if np.random.rand() > 0.5:\n",
    "                    aug_img = rot90(aug_img, k=np.random.randint(1, 4)).numpy()\n",
    "                images.append(aug_img)\n",
    "                labels.append(label)\n",
    "\n",
    "    X = np.array(images, dtype=np.float32) / 255.0\n",
    "    y = np.array(labels)\n",
    "    return X, y\n",
    "\n",
    "X, y = load_images(df, path_light_data=path_light, size=512)\n"
   ]
  },
  {
   "cell_type": "code",
   "execution_count": 5,
   "metadata": {},
   "outputs": [],
   "source": [
    "\n",
    "# === División del dataset ===\n",
    "X_train, X_test, y_train, y_test = train_test_split(X, y, test_size=0.05, random_state=42)\n",
    "X_train, X_val, y_train, y_val = train_test_split(X_train, y_train, test_size=0.2, random_state=42)"
   ]
  },
  {
   "cell_type": "code",
   "execution_count": null,
   "metadata": {},
   "outputs": [],
   "source": [
    "# === Modelo con DenseNet ===\n",
    "def init_model_densenet(X):\n",
    "    original_input_shape = X.shape[1:]\n",
    "    base_input_shape = original_input_shape[:-1] + (3,) if original_input_shape[-1] == 1 else original_input_shape\n",
    "    base_model = DenseNet121(include_top=False, weights='imagenet', input_shape=base_input_shape)\n",
    "    base_model.trainable = False\n",
    "\n",
    "    inputs = Input(shape=original_input_shape)\n",
    "    x = Lambda(lambda x: tf.image.grayscale_to_rgb(x))(inputs) if original_input_shape[-1] == 1 else inputs\n",
    "    x = base_model(x, training=False)\n",
    "    x = GlobalAveragePooling2D()(x)\n",
    "    x = Dropout(0.5)(x)\n",
    "    x = Dense(128, activation='relu')(x)\n",
    "    x = Dropout(0.3)(x)\n",
    "    outputs = Dense(1, activation='sigmoid')(x)\n",
    "\n",
    "    model = Model(inputs, outputs)\n",
    "    model.compile(\n",
    "        loss='binary_crossentropy',\n",
    "        optimizer=Adam(learning_rate=1e-4),\n",
    "        metrics=['accuracy', Recall(), Precision()]\n",
    "    )\n",
    "    return model\n",
    "\n",
    "# === Entrenamiento ===\n",
    "def model_train(model, X_train, y_train, batch_size=16, epochs=5):\n",
    "    es = EarlyStopping(patience=3, restore_best_weights=True)\n",
    "    history = model.fit(\n",
    "        X_train, y_train,\n",
    "        batch_size=batch_size,\n",
    "        epochs=epochs,\n",
    "        validation_data=(X_val, y_val),\n",
    "        callbacks=[es],\n",
    "        verbose=1\n",
    "    )\n",
    "    return history\n",
    "\n",
    "# Inicializa y entrena\n",
    "model = init_model_densenet(X)\n",
    "history = model_train(model, X_train, y_train)"
   ]
  },
  {
   "cell_type": "code",
   "execution_count": null,
   "metadata": {},
   "outputs": [],
   "source": []
  }
 ],
 "metadata": {
  "kernelspec": {
   "display_name": "byu",
   "language": "python",
   "name": "python3"
  },
  "language_info": {
   "codemirror_mode": {
    "name": "ipython",
    "version": 3
   },
   "file_extension": ".py",
   "mimetype": "text/x-python",
   "name": "python",
   "nbconvert_exporter": "python",
   "pygments_lexer": "ipython3",
   "version": "3.10.6"
  }
 },
 "nbformat": 4,
 "nbformat_minor": 2
}
