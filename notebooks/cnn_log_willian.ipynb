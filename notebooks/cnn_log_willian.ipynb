{
 "cells": [
  {
   "cell_type": "markdown",
   "metadata": {},
   "source": [
    "## CNN logistic\n"
   ]
  },
  {
   "cell_type": "markdown",
   "metadata": {},
   "source": [
    "Only photos with max 960 in axis X and Y\n",
    "\n",
    "MSE \n",
    "\n"
   ]
  },
  {
   "cell_type": "code",
   "execution_count": 1,
   "metadata": {},
   "outputs": [],
   "source": [
    "# !pip install keras"
   ]
  },
  {
   "cell_type": "code",
   "execution_count": 10,
   "metadata": {},
   "outputs": [],
   "source": [
    "import sys\n",
    "sys.path.append('../src')\n",
    "\n",
    "import os\n",
    "import matplotlib.pyplot as plt\n",
    "import pandas as pd\n",
    "import numpy as np\n",
    "\n",
    "from tensorflow.keras import Sequential, Input, layers\n",
    "from keras.callbacks import EarlyStopping\n",
    "from tensorflow.keras.preprocessing.image import load_img, img_to_array\n",
    "from tensorflow.keras.metrics import Precision, Recall\n",
    "\n",
    "from utils.data import get_best_slice, select_tomo_ids"
   ]
  },
  {
   "cell_type": "code",
   "execution_count": 11,
   "metadata": {},
   "outputs": [],
   "source": [
    "path_train_csv= '/Users/wm/code/mc-will/bacterial_motor/BYU_Locating-Bacterial_Flagellar_Motors_2025/data/train_labels.csv'\n",
    "path_image= '/Users/wm/code/mc-will/bacterial_motor/BYU_Locating-Bacterial_Flagellar_Motors_2025/data/pictures_raw/train'\n",
    "\n",
    "df = pd.read_csv (path_train_csv).copy()\n",
    "\n",
    "# Sorting only motors 1 or 0\n",
    "df= df[df['Number of motors']<=1]\n",
    "\n",
    "# df.head(3)\n",
    "# Describe the CSV\n",
    "# col = [i.replace(' ','_').replace('(','').replace(')','') for i in df.columns]\n",
    "\n",
    "# df[col]= df\n",
    "# df= df.drop(columns = ['Motor axis 0','Motor axis 1','Motor axis 2','Array shape (axis 0)','Array shape (axis 1)','Array shape (axis 2)','Voxel spacing','Number of motors'])\n",
    "# df\n"
   ]
  },
  {
   "cell_type": "code",
   "execution_count": 12,
   "metadata": {},
   "outputs": [],
   "source": [
    "# id_list= select_tomo_ids(df, )\n",
    "# id_list\n",
    "# # best= get_best_slice(df, id_list)\n",
    "\n"
   ]
  },
  {
   "cell_type": "code",
   "execution_count": 13,
   "metadata": {},
   "outputs": [],
   "source": [
    "\"\"\"\n",
    "Function look the foto 72 in each 'tomo'\n",
    "* Img size is too heavy at 960*960 pixel, so se test on 256*256\n",
    "\n",
    "\"\"\"\n",
    "def load_from_each_tomo(parent_folder,\n",
    "                        img_size=(960, 960),\n",
    "                        # img_size=(256,256),\n",
    "                        # img_size=(128, 128),\n",
    "                        ):\n",
    "\n",
    "    slices = []\n",
    "    # select the column of 'tomo_id' with only 1/0 Motors\n",
    "    tomo_ids = df['tomo_id']\n",
    "    # print (tomo_ids)\n",
    "\n",
    "    # Loop to look each foto per Tomo_id\n",
    "    for id in tomo_ids:\n",
    "        # make the path btw parent_path and tomo_id\n",
    "        tomo_path = os.path.join(parent_folder, id)\n",
    "        # print(tomo_path)\n",
    "\n",
    "        # Check if it is a real directory\n",
    "        if os.path.isdir(tomo_path):\n",
    "            # make a liste of all the photo per tomo\n",
    "            all_slices = sorted([f for f in os.listdir(tomo_path)])\n",
    "            # print(' all slices:',len(all_slices), type(all_slices), all_slices)\n",
    "\n",
    "            number = 72 ### mean where the best photo is\n",
    "\n",
    "            slice_path =os.path.join(tomo_path, all_slices[number])\n",
    "            # load the img from slice_path with same size , in 1 chanel = W/B\n",
    "            img = load_img(slice_path,\n",
    "                           target_size=img_size,\n",
    "                           color_mode='grayscale',\n",
    "                           )\n",
    "            # Normalization btw 0/1 divide by 255\n",
    "            img_array = img_to_array(img) / 255\n",
    "\n",
    "            # append to the slice list\n",
    "            slices.append(img_array)\n",
    "\n",
    "    # return un array to be used\n",
    "    return np.array(slices)\n",
    "\n"
   ]
  },
  {
   "cell_type": "code",
   "execution_count": 14,
   "metadata": {},
   "outputs": [],
   "source": [
    "# selection of y= 1 or 0 Motors\n",
    "\n",
    "X =load_from_each_tomo(path_image, )\n",
    "y= df['Number of motors']"
   ]
  },
  {
   "cell_type": "code",
   "execution_count": 7,
   "metadata": {},
   "outputs": [],
   "source": [
    "def init_model_cnnlog(X):\n",
    "    model = Sequential()\n",
    "    model.add(Input(shape= X.shape[1:]))\n",
    "\n",
    "    model.add(layers.Conv2D(32, (3, 3),\n",
    "                            padding='same',\n",
    "                            activation=\"relu\"))\n",
    "    model.add(layers.MaxPool2D(pool_size=(2, 2)))\n",
    "    #\n",
    "    model.add(layers.Conv2D(64, (3, 3),\n",
    "                            padding='same',\n",
    "                            activation=\"relu\"))\n",
    "    model.add(layers.MaxPool2D(pool_size=(2, 2)))\n",
    "\n",
    "    model.add(layers.Flatten())\n",
    "\n",
    "    model.add(layers.Dense(256,activation= 'relu'))\n",
    "\n",
    "    model.add(layers.Dense(1, activation='sigmoid'))\n",
    "    \n",
    "    \n",
    "    ########\n",
    "    \n",
    "    model.compile(loss= 'binary_crossentropy',\n",
    "                  optimizer = 'adam',\n",
    "                #   metrics=['mse', 'F1Score'], \n",
    "                  metrics=['accuracy',\n",
    "                        #    'recall', \n",
    "                           'precision', \n",
    "                           'F1Score'\n",
    "                           ],)\n",
    "    \n",
    "    return model\n"
   ]
  },
  {
   "cell_type": "code",
   "execution_count": 8,
   "metadata": {},
   "outputs": [],
   "source": [
    "model = init_model_cnnlog(X)"
   ]
  },
  {
   "cell_type": "code",
   "execution_count": 9,
   "metadata": {},
   "outputs": [
    {
     "name": "stdout",
     "output_type": "stream",
     "text": [
      "Epoch 1/50\n"
     ]
    },
    {
     "name": "stderr",
     "output_type": "stream",
     "text": [
      "2025-06-04 13:38:02.668747: W tensorflow/core/platform/profile_utils/cpu_utils.cc:128] Failed to get CPU frequency: 0 Hz\n"
     ]
    },
    {
     "ename": "ValueError",
     "evalue": "in user code:\n\n    File \"/Users/wm/.pyenv/versions/bacterial_motor/lib/python3.10/site-packages/keras/engine/training.py\", line 1160, in train_function  *\n        return step_function(self, iterator)\n    File \"/Users/wm/.pyenv/versions/bacterial_motor/lib/python3.10/site-packages/keras/engine/training.py\", line 1146, in step_function  **\n        outputs = model.distribute_strategy.run(run_step, args=(data,))\n    File \"/Users/wm/.pyenv/versions/bacterial_motor/lib/python3.10/site-packages/keras/engine/training.py\", line 1135, in run_step  **\n        outputs = model.train_step(data)\n    File \"/Users/wm/.pyenv/versions/bacterial_motor/lib/python3.10/site-packages/keras/engine/training.py\", line 998, in train_step\n        return self.compute_metrics(x, y, y_pred, sample_weight)\n    File \"/Users/wm/.pyenv/versions/bacterial_motor/lib/python3.10/site-packages/keras/engine/training.py\", line 1092, in compute_metrics\n        self.compiled_metrics.update_state(y, y_pred, sample_weight)\n    File \"/Users/wm/.pyenv/versions/bacterial_motor/lib/python3.10/site-packages/keras/engine/compile_utils.py\", line 577, in update_state\n        self.build(y_pred, y_true)\n    File \"/Users/wm/.pyenv/versions/bacterial_motor/lib/python3.10/site-packages/keras/engine/compile_utils.py\", line 483, in build\n        self._metrics = tf.__internal__.nest.map_structure_up_to(\n    File \"/Users/wm/.pyenv/versions/bacterial_motor/lib/python3.10/site-packages/keras/engine/compile_utils.py\", line 631, in _get_metric_objects\n        return [self._get_metric_object(m, y_t, y_p) for m in metrics]\n    File \"/Users/wm/.pyenv/versions/bacterial_motor/lib/python3.10/site-packages/keras/engine/compile_utils.py\", line 631, in <listcomp>\n        return [self._get_metric_object(m, y_t, y_p) for m in metrics]\n    File \"/Users/wm/.pyenv/versions/bacterial_motor/lib/python3.10/site-packages/keras/engine/compile_utils.py\", line 650, in _get_metric_object\n        metric_obj = metrics_mod.get(metric)\n    File \"/Users/wm/.pyenv/versions/bacterial_motor/lib/python3.10/site-packages/keras/metrics/__init__.py\", line 181, in get\n        return deserialize(str(identifier))\n    File \"/Users/wm/.pyenv/versions/bacterial_motor/lib/python3.10/site-packages/keras/metrics/__init__.py\", line 136, in deserialize\n        return deserialize_keras_object(\n    File \"/Users/wm/.pyenv/versions/bacterial_motor/lib/python3.10/site-packages/keras/utils/generic_utils.py\", line 769, in deserialize_keras_object\n        raise ValueError(\n\n    ValueError: Unknown metric function: precision. Please ensure this object is passed to the `custom_objects` argument. See https://www.tensorflow.org/guide/keras/save_and_serialize#registering_the_custom_object for details.\n",
     "output_type": "error",
     "traceback": [
      "\u001b[0;31m---------------------------------------------------------------------------\u001b[0m",
      "\u001b[0;31mValueError\u001b[0m                                Traceback (most recent call last)",
      "Cell \u001b[0;32mIn[9], line 15\u001b[0m\n\u001b[1;32m      7\u001b[0m     history \u001b[38;5;241m=\u001b[39m model\u001b[38;5;241m.\u001b[39mfit(X_train_processed,\n\u001b[1;32m      8\u001b[0m                         y_train,\n\u001b[1;32m      9\u001b[0m                         batch_size\u001b[38;5;241m=\u001b[39mbatch_size,\n\u001b[0;32m   (...)\u001b[0m\n\u001b[1;32m     12\u001b[0m                         callbacks\u001b[38;5;241m=\u001b[39m[es],\n\u001b[1;32m     13\u001b[0m                         verbose\u001b[38;5;241m=\u001b[39mverbose)\n\u001b[1;32m     14\u001b[0m     \u001b[38;5;28;01mreturn\u001b[39;00m history\n\u001b[0;32m---> 15\u001b[0m history \u001b[38;5;241m=\u001b[39m \u001b[43mmodel_train\u001b[49m\u001b[43m(\u001b[49m\u001b[43mmodel\u001b[49m\u001b[43m,\u001b[49m\u001b[43m \u001b[49m\u001b[43mX\u001b[49m\u001b[43m,\u001b[49m\u001b[43my\u001b[49m\u001b[43m)\u001b[49m\n\u001b[1;32m     16\u001b[0m history\n",
      "Cell \u001b[0;32mIn[9], line 7\u001b[0m, in \u001b[0;36mmodel_train\u001b[0;34m(model, X_train_processed, y_train, batch_size, epochs)\u001b[0m\n\u001b[1;32m      3\u001b[0m validation_split\u001b[38;5;241m=\u001b[39m\u001b[38;5;241m0.1\u001b[39m\n\u001b[1;32m      4\u001b[0m es \u001b[38;5;241m=\u001b[39m EarlyStopping(patience\u001b[38;5;241m=\u001b[39m\u001b[38;5;241m5\u001b[39m,\n\u001b[1;32m      5\u001b[0m                    restore_best_weights\u001b[38;5;241m=\u001b[39m\u001b[38;5;28;01mTrue\u001b[39;00m)\n\u001b[0;32m----> 7\u001b[0m history \u001b[38;5;241m=\u001b[39m \u001b[43mmodel\u001b[49m\u001b[38;5;241;43m.\u001b[39;49m\u001b[43mfit\u001b[49m\u001b[43m(\u001b[49m\u001b[43mX_train_processed\u001b[49m\u001b[43m,\u001b[49m\n\u001b[1;32m      8\u001b[0m \u001b[43m                    \u001b[49m\u001b[43my_train\u001b[49m\u001b[43m,\u001b[49m\n\u001b[1;32m      9\u001b[0m \u001b[43m                    \u001b[49m\u001b[43mbatch_size\u001b[49m\u001b[38;5;241;43m=\u001b[39;49m\u001b[43mbatch_size\u001b[49m\u001b[43m,\u001b[49m\n\u001b[1;32m     10\u001b[0m \u001b[43m                    \u001b[49m\u001b[43mepochs\u001b[49m\u001b[38;5;241;43m=\u001b[39;49m\u001b[43mepochs\u001b[49m\u001b[43m,\u001b[49m\n\u001b[1;32m     11\u001b[0m \u001b[43m                    \u001b[49m\u001b[43mvalidation_split\u001b[49m\u001b[38;5;241;43m=\u001b[39;49m\u001b[43mvalidation_split\u001b[49m\u001b[43m,\u001b[49m\n\u001b[1;32m     12\u001b[0m \u001b[43m                    \u001b[49m\u001b[43mcallbacks\u001b[49m\u001b[38;5;241;43m=\u001b[39;49m\u001b[43m[\u001b[49m\u001b[43mes\u001b[49m\u001b[43m]\u001b[49m\u001b[43m,\u001b[49m\n\u001b[1;32m     13\u001b[0m \u001b[43m                    \u001b[49m\u001b[43mverbose\u001b[49m\u001b[38;5;241;43m=\u001b[39;49m\u001b[43mverbose\u001b[49m\u001b[43m)\u001b[49m\n\u001b[1;32m     14\u001b[0m \u001b[38;5;28;01mreturn\u001b[39;00m history\n",
      "File \u001b[0;32m~/.pyenv/versions/bacterial_motor/lib/python3.10/site-packages/keras/utils/traceback_utils.py:70\u001b[0m, in \u001b[0;36mfilter_traceback.<locals>.error_handler\u001b[0;34m(*args, **kwargs)\u001b[0m\n\u001b[1;32m     67\u001b[0m     filtered_tb \u001b[38;5;241m=\u001b[39m _process_traceback_frames(e\u001b[38;5;241m.\u001b[39m__traceback__)\n\u001b[1;32m     68\u001b[0m     \u001b[38;5;66;03m# To get the full stack trace, call:\u001b[39;00m\n\u001b[1;32m     69\u001b[0m     \u001b[38;5;66;03m# `tf.debugging.disable_traceback_filtering()`\u001b[39;00m\n\u001b[0;32m---> 70\u001b[0m     \u001b[38;5;28;01mraise\u001b[39;00m e\u001b[38;5;241m.\u001b[39mwith_traceback(filtered_tb) \u001b[38;5;28;01mfrom\u001b[39;00m\u001b[38;5;250m \u001b[39m\u001b[38;5;28;01mNone\u001b[39;00m\n\u001b[1;32m     71\u001b[0m \u001b[38;5;28;01mfinally\u001b[39;00m:\n\u001b[1;32m     72\u001b[0m     \u001b[38;5;28;01mdel\u001b[39;00m filtered_tb\n",
      "File \u001b[0;32m/var/folders/nr/0rc2wzzd26zd1tptqppt9kjr0000gn/T/__autograph_generated_filejb56b4vx.py:15\u001b[0m, in \u001b[0;36mouter_factory.<locals>.inner_factory.<locals>.tf__train_function\u001b[0;34m(iterator)\u001b[0m\n\u001b[1;32m     13\u001b[0m \u001b[38;5;28;01mtry\u001b[39;00m:\n\u001b[1;32m     14\u001b[0m     do_return \u001b[38;5;241m=\u001b[39m \u001b[38;5;28;01mTrue\u001b[39;00m\n\u001b[0;32m---> 15\u001b[0m     retval_ \u001b[38;5;241m=\u001b[39m ag__\u001b[38;5;241m.\u001b[39mconverted_call(ag__\u001b[38;5;241m.\u001b[39mld(step_function), (ag__\u001b[38;5;241m.\u001b[39mld(\u001b[38;5;28mself\u001b[39m), ag__\u001b[38;5;241m.\u001b[39mld(iterator)), \u001b[38;5;28;01mNone\u001b[39;00m, fscope)\n\u001b[1;32m     16\u001b[0m \u001b[38;5;28;01mexcept\u001b[39;00m:\n\u001b[1;32m     17\u001b[0m     do_return \u001b[38;5;241m=\u001b[39m \u001b[38;5;28;01mFalse\u001b[39;00m\n",
      "\u001b[0;31mValueError\u001b[0m: in user code:\n\n    File \"/Users/wm/.pyenv/versions/bacterial_motor/lib/python3.10/site-packages/keras/engine/training.py\", line 1160, in train_function  *\n        return step_function(self, iterator)\n    File \"/Users/wm/.pyenv/versions/bacterial_motor/lib/python3.10/site-packages/keras/engine/training.py\", line 1146, in step_function  **\n        outputs = model.distribute_strategy.run(run_step, args=(data,))\n    File \"/Users/wm/.pyenv/versions/bacterial_motor/lib/python3.10/site-packages/keras/engine/training.py\", line 1135, in run_step  **\n        outputs = model.train_step(data)\n    File \"/Users/wm/.pyenv/versions/bacterial_motor/lib/python3.10/site-packages/keras/engine/training.py\", line 998, in train_step\n        return self.compute_metrics(x, y, y_pred, sample_weight)\n    File \"/Users/wm/.pyenv/versions/bacterial_motor/lib/python3.10/site-packages/keras/engine/training.py\", line 1092, in compute_metrics\n        self.compiled_metrics.update_state(y, y_pred, sample_weight)\n    File \"/Users/wm/.pyenv/versions/bacterial_motor/lib/python3.10/site-packages/keras/engine/compile_utils.py\", line 577, in update_state\n        self.build(y_pred, y_true)\n    File \"/Users/wm/.pyenv/versions/bacterial_motor/lib/python3.10/site-packages/keras/engine/compile_utils.py\", line 483, in build\n        self._metrics = tf.__internal__.nest.map_structure_up_to(\n    File \"/Users/wm/.pyenv/versions/bacterial_motor/lib/python3.10/site-packages/keras/engine/compile_utils.py\", line 631, in _get_metric_objects\n        return [self._get_metric_object(m, y_t, y_p) for m in metrics]\n    File \"/Users/wm/.pyenv/versions/bacterial_motor/lib/python3.10/site-packages/keras/engine/compile_utils.py\", line 631, in <listcomp>\n        return [self._get_metric_object(m, y_t, y_p) for m in metrics]\n    File \"/Users/wm/.pyenv/versions/bacterial_motor/lib/python3.10/site-packages/keras/engine/compile_utils.py\", line 650, in _get_metric_object\n        metric_obj = metrics_mod.get(metric)\n    File \"/Users/wm/.pyenv/versions/bacterial_motor/lib/python3.10/site-packages/keras/metrics/__init__.py\", line 181, in get\n        return deserialize(str(identifier))\n    File \"/Users/wm/.pyenv/versions/bacterial_motor/lib/python3.10/site-packages/keras/metrics/__init__.py\", line 136, in deserialize\n        return deserialize_keras_object(\n    File \"/Users/wm/.pyenv/versions/bacterial_motor/lib/python3.10/site-packages/keras/utils/generic_utils.py\", line 769, in deserialize_keras_object\n        raise ValueError(\n\n    ValueError: Unknown metric function: precision. Please ensure this object is passed to the `custom_objects` argument. See https://www.tensorflow.org/guide/keras/save_and_serialize#registering_the_custom_object for details.\n"
     ]
    }
   ],
   "source": [
    "def model_train (model, X_train_processed, y_train, batch_size=16 ,epochs=50):\n",
    "    verbose=1\n",
    "    validation_split=0.1\n",
    "    es = EarlyStopping(patience=5,\n",
    "                       restore_best_weights=True)\n",
    "\n",
    "    history = model.fit(X_train_processed,\n",
    "                        y_train,\n",
    "                        batch_size=batch_size,\n",
    "                        epochs=epochs,\n",
    "                        validation_split=validation_split,\n",
    "                        callbacks=[es],\n",
    "                        verbose=verbose)\n",
    "    return history\n",
    "history = model_train(model, X,y)\n",
    "history"
   ]
  },
  {
   "cell_type": "code",
   "execution_count": 10,
   "metadata": {},
   "outputs": [],
   "source": [
    "# history.history['']\n"
   ]
  },
  {
   "cell_type": "code",
   "execution_count": null,
   "metadata": {},
   "outputs": [],
   "source": [
    "# plt.plot(history.history['mse'],c='b');\n",
    "# plt.plot(history.history['loss'], c='r');\n",
    "# plt.plot(history.history['val_loss'],c='g');\n",
    "plt.plot(history.history['F1Score'], c='r');\n",
    "# plt.plot(history.history['accuracy'],c='black');\n",
    "# plt.plot(history.history['val_accuracy'],'b');\n",
    "plt.plot(history.history['recall'], c= 'r');\n",
    "# plt.plot(history.history['val_recall']);\n",
    "plt.plot(history.history['precision'], c='g');\n",
    "# plt.plot(history.history['val_precision'], c='b');\n"
   ]
  },
  {
   "cell_type": "code",
   "execution_count": null,
   "metadata": {},
   "outputs": [],
   "source": [
    "model.summary()"
   ]
  },
  {
   "cell_type": "code",
   "execution_count": null,
   "metadata": {},
   "outputs": [],
   "source": []
  }
 ],
 "metadata": {
  "kernelspec": {
   "display_name": "bacterial_motor",
   "language": "python",
   "name": "python3"
  },
  "language_info": {
   "codemirror_mode": {
    "name": "ipython",
    "version": 3
   },
   "file_extension": ".py",
   "mimetype": "text/x-python",
   "name": "python",
   "nbconvert_exporter": "python",
   "pygments_lexer": "ipython3",
   "version": "3.10.6"
  }
 },
 "nbformat": 4,
 "nbformat_minor": 2
}
