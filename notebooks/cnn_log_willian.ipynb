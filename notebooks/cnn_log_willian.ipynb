{
 "cells": [
  {
   "cell_type": "markdown",
   "metadata": {},
   "source": [
    "## CNN logistic\n"
   ]
  },
  {
   "cell_type": "markdown",
   "metadata": {},
   "source": [
    "Only photos with max 960 in axis X and Y\n",
    "\n",
    "MSE \n",
    "\n"
   ]
  },
  {
   "cell_type": "code",
   "execution_count": 1,
   "metadata": {},
   "outputs": [],
   "source": [
    "# !pip install keras\n",
    "# !pip install tensorflow-addons"
   ]
  },
  {
   "cell_type": "code",
   "execution_count": null,
   "metadata": {},
   "outputs": [
    {
     "name": "stderr",
     "output_type": "stream",
     "text": [
      "/Users/wm/.pyenv/versions/3.10.6/envs/byu/lib/python3.10/site-packages/tensorflow_addons/utils/tfa_eol_msg.py:23: UserWarning: \n",
      "\n",
      "TensorFlow Addons (TFA) has ended development and introduction of new features.\n",
      "TFA has entered a minimal maintenance and release mode until a planned end of life in May 2024.\n",
      "Please modify downstream libraries to take dependencies from other repositories in our TensorFlow community (e.g. Keras, Keras-CV, and Keras-NLP). \n",
      "\n",
      "For more information see: https://github.com/tensorflow/addons/issues/2807 \n",
      "\n",
      "  warnings.warn(\n",
      "/Users/wm/.pyenv/versions/3.10.6/envs/byu/lib/python3.10/site-packages/tensorflow_addons/utils/ensure_tf_install.py:53: UserWarning: Tensorflow Addons supports using Python ops for all Tensorflow versions above or equal to 2.13.0 and strictly below 2.16.0 (nightly versions are not supported). \n",
      " The versions of TensorFlow you are currently using is 2.10.0 and is not supported. \n",
      "Some things might work, some things might not.\n",
      "If you were to encounter a bug, do not file an issue.\n",
      "If you want to make sure you're using a tested and supported configuration, either change the TensorFlow version or the TensorFlow Addons's version. \n",
      "You can find the compatibility matrix in TensorFlow Addon's readme:\n",
      "https://github.com/tensorflow/addons\n",
      "  warnings.warn(\n"
     ]
    }
   ],
   "source": [
    "import sys\n",
    "sys.path.append('../src')\n",
    "\n",
    "import os\n",
    "import pandas as pd\n",
    "import numpy as np\n",
    "import matplotlib.pyplot as plt\n",
    "from pathlib import Path\n",
    "from PIL import Image\n",
    "\n",
    "from tensorflow.keras import Sequential, Input, layers\n",
    "from keras.callbacks import EarlyStopping\n",
    "from tensorflow.keras.preprocessing.image import load_img, img_to_array\n",
    "from tensorflow_addons.metrics import FBetaScore\n",
    "\n",
    "# from tensorflow.keras.metrics import Recall, Precision\n",
    "# from tensorflow_addons.metrics import F1Score\n",
    "\n",
    "from utils.data import get_best_slice, select_tomo_ids, get_csv_from_bq\n",
    "from utils.render_motor_position import get_motor_coordinates, get_slice_file_path\n"
   ]
  },
  {
   "cell_type": "code",
   "execution_count": 3,
   "metadata": {},
   "outputs": [
    {
     "data": {
      "text/html": [
       "<div>\n",
       "<style scoped>\n",
       "    .dataframe tbody tr th:only-of-type {\n",
       "        vertical-align: middle;\n",
       "    }\n",
       "\n",
       "    .dataframe tbody tr th {\n",
       "        vertical-align: top;\n",
       "    }\n",
       "\n",
       "    .dataframe thead th {\n",
       "        text-align: right;\n",
       "    }\n",
       "</style>\n",
       "<table border=\"1\" class=\"dataframe\">\n",
       "  <thead>\n",
       "    <tr style=\"text-align: right;\">\n",
       "      <th></th>\n",
       "      <th>Unnamed: 0</th>\n",
       "      <th>row_id</th>\n",
       "      <th>tomo_id</th>\n",
       "      <th>Motor_axis_0</th>\n",
       "      <th>Motor_axis_1</th>\n",
       "      <th>Motor_axis_2</th>\n",
       "      <th>Array_shape_axis_0</th>\n",
       "      <th>Array_shape_axis_1</th>\n",
       "      <th>Array_shape_axis_2</th>\n",
       "      <th>Voxel_spacing</th>\n",
       "      <th>Number_of_motors</th>\n",
       "    </tr>\n",
       "  </thead>\n",
       "  <tbody>\n",
       "    <tr>\n",
       "      <th>0</th>\n",
       "      <td>0</td>\n",
       "      <td>16</td>\n",
       "      <td>tomo_049310</td>\n",
       "      <td>-1.0</td>\n",
       "      <td>-1.0</td>\n",
       "      <td>-1.0</td>\n",
       "      <td>500</td>\n",
       "      <td>924</td>\n",
       "      <td>956</td>\n",
       "      <td>19.7</td>\n",
       "      <td>0</td>\n",
       "    </tr>\n",
       "    <tr>\n",
       "      <th>1</th>\n",
       "      <td>1</td>\n",
       "      <td>30</td>\n",
       "      <td>tomo_098751</td>\n",
       "      <td>-1.0</td>\n",
       "      <td>-1.0</td>\n",
       "      <td>-1.0</td>\n",
       "      <td>500</td>\n",
       "      <td>924</td>\n",
       "      <td>956</td>\n",
       "      <td>16.1</td>\n",
       "      <td>0</td>\n",
       "    </tr>\n",
       "    <tr>\n",
       "      <th>2</th>\n",
       "      <td>2</td>\n",
       "      <td>54</td>\n",
       "      <td>tomo_136c8d</td>\n",
       "      <td>-1.0</td>\n",
       "      <td>-1.0</td>\n",
       "      <td>-1.0</td>\n",
       "      <td>500</td>\n",
       "      <td>924</td>\n",
       "      <td>956</td>\n",
       "      <td>19.7</td>\n",
       "      <td>0</td>\n",
       "    </tr>\n",
       "    <tr>\n",
       "      <th>3</th>\n",
       "      <td>3</td>\n",
       "      <td>59</td>\n",
       "      <td>tomo_146de2</td>\n",
       "      <td>-1.0</td>\n",
       "      <td>-1.0</td>\n",
       "      <td>-1.0</td>\n",
       "      <td>500</td>\n",
       "      <td>924</td>\n",
       "      <td>956</td>\n",
       "      <td>16.1</td>\n",
       "      <td>0</td>\n",
       "    </tr>\n",
       "    <tr>\n",
       "      <th>4</th>\n",
       "      <td>4</td>\n",
       "      <td>84</td>\n",
       "      <td>tomo_1dc5f9</td>\n",
       "      <td>-1.0</td>\n",
       "      <td>-1.0</td>\n",
       "      <td>-1.0</td>\n",
       "      <td>500</td>\n",
       "      <td>924</td>\n",
       "      <td>956</td>\n",
       "      <td>19.7</td>\n",
       "      <td>0</td>\n",
       "    </tr>\n",
       "    <tr>\n",
       "      <th>...</th>\n",
       "      <td>...</td>\n",
       "      <td>...</td>\n",
       "      <td>...</td>\n",
       "      <td>...</td>\n",
       "      <td>...</td>\n",
       "      <td>...</td>\n",
       "      <td>...</td>\n",
       "      <td>...</td>\n",
       "      <td>...</td>\n",
       "      <td>...</td>\n",
       "      <td>...</td>\n",
       "    </tr>\n",
       "    <tr>\n",
       "      <th>732</th>\n",
       "      <td>732</td>\n",
       "      <td>99</td>\n",
       "      <td>tomo_226cd8</td>\n",
       "      <td>366.0</td>\n",
       "      <td>693.0</td>\n",
       "      <td>269.0</td>\n",
       "      <td>500</td>\n",
       "      <td>928</td>\n",
       "      <td>960</td>\n",
       "      <td>13.1</td>\n",
       "      <td>10</td>\n",
       "    </tr>\n",
       "    <tr>\n",
       "      <th>733</th>\n",
       "      <td>733</td>\n",
       "      <td>100</td>\n",
       "      <td>tomo_226cd8</td>\n",
       "      <td>386.0</td>\n",
       "      <td>693.0</td>\n",
       "      <td>319.0</td>\n",
       "      <td>500</td>\n",
       "      <td>928</td>\n",
       "      <td>960</td>\n",
       "      <td>13.1</td>\n",
       "      <td>10</td>\n",
       "    </tr>\n",
       "    <tr>\n",
       "      <th>734</th>\n",
       "      <td>734</td>\n",
       "      <td>101</td>\n",
       "      <td>tomo_226cd8</td>\n",
       "      <td>388.0</td>\n",
       "      <td>671.0</td>\n",
       "      <td>433.0</td>\n",
       "      <td>500</td>\n",
       "      <td>928</td>\n",
       "      <td>960</td>\n",
       "      <td>13.1</td>\n",
       "      <td>10</td>\n",
       "    </tr>\n",
       "    <tr>\n",
       "      <th>735</th>\n",
       "      <td>735</td>\n",
       "      <td>102</td>\n",
       "      <td>tomo_226cd8</td>\n",
       "      <td>411.0</td>\n",
       "      <td>318.0</td>\n",
       "      <td>740.0</td>\n",
       "      <td>500</td>\n",
       "      <td>928</td>\n",
       "      <td>960</td>\n",
       "      <td>13.1</td>\n",
       "      <td>10</td>\n",
       "    </tr>\n",
       "    <tr>\n",
       "      <th>736</th>\n",
       "      <td>736</td>\n",
       "      <td>103</td>\n",
       "      <td>tomo_226cd8</td>\n",
       "      <td>354.0</td>\n",
       "      <td>277.0</td>\n",
       "      <td>756.0</td>\n",
       "      <td>500</td>\n",
       "      <td>928</td>\n",
       "      <td>960</td>\n",
       "      <td>13.1</td>\n",
       "      <td>10</td>\n",
       "    </tr>\n",
       "  </tbody>\n",
       "</table>\n",
       "<p>737 rows × 11 columns</p>\n",
       "</div>"
      ],
      "text/plain": [
       "     Unnamed: 0  row_id      tomo_id  Motor_axis_0  Motor_axis_1  \\\n",
       "0             0      16  tomo_049310          -1.0          -1.0   \n",
       "1             1      30  tomo_098751          -1.0          -1.0   \n",
       "2             2      54  tomo_136c8d          -1.0          -1.0   \n",
       "3             3      59  tomo_146de2          -1.0          -1.0   \n",
       "4             4      84  tomo_1dc5f9          -1.0          -1.0   \n",
       "..          ...     ...          ...           ...           ...   \n",
       "732         732      99  tomo_226cd8         366.0         693.0   \n",
       "733         733     100  tomo_226cd8         386.0         693.0   \n",
       "734         734     101  tomo_226cd8         388.0         671.0   \n",
       "735         735     102  tomo_226cd8         411.0         318.0   \n",
       "736         736     103  tomo_226cd8         354.0         277.0   \n",
       "\n",
       "     Motor_axis_2  Array_shape_axis_0  Array_shape_axis_1  Array_shape_axis_2  \\\n",
       "0            -1.0                 500                 924                 956   \n",
       "1            -1.0                 500                 924                 956   \n",
       "2            -1.0                 500                 924                 956   \n",
       "3            -1.0                 500                 924                 956   \n",
       "4            -1.0                 500                 924                 956   \n",
       "..            ...                 ...                 ...                 ...   \n",
       "732         269.0                 500                 928                 960   \n",
       "733         319.0                 500                 928                 960   \n",
       "734         433.0                 500                 928                 960   \n",
       "735         740.0                 500                 928                 960   \n",
       "736         756.0                 500                 928                 960   \n",
       "\n",
       "     Voxel_spacing  Number_of_motors  \n",
       "0             19.7                 0  \n",
       "1             16.1                 0  \n",
       "2             19.7                 0  \n",
       "3             16.1                 0  \n",
       "4             19.7                 0  \n",
       "..             ...               ...  \n",
       "732           13.1                10  \n",
       "733           13.1                10  \n",
       "734           13.1                10  \n",
       "735           13.1                10  \n",
       "736           13.1                10  \n",
       "\n",
       "[737 rows x 11 columns]"
      ]
     },
     "execution_count": 3,
     "metadata": {},
     "output_type": "execute_result"
    }
   ],
   "source": [
    "path_train_csv= '../data/csv_raw/train_labels.csv'\n",
    "# /Users/wm/code/mc-will/bacterial_motor/BYU_Locating-Bacterial_Flagellar_Motors_2025/data/csv_raw/train_labels.csv\n",
    "path_image= '../data/pictures_raw/train'\n",
    "\n",
    "df = pd.read_csv(path_train_csv).copy()\n",
    "df"
   ]
  },
  {
   "cell_type": "code",
   "execution_count": 5,
   "metadata": {},
   "outputs": [],
   "source": [
    "tomogram_id= select_tomo_ids(df, );\n"
   ]
  },
  {
   "cell_type": "code",
   "execution_count": 6,
   "metadata": {},
   "outputs": [],
   "source": [
    "# df['tomo_id'].reset_index(drop = True)==tomogram_id.reset_index(drop = True)\n",
    "def get_best_slice(df, tomogram_id):\n",
    "    '''\n",
    "    Find the coordinates of the motor (only work with 1 motor tomogram), the use the z to get the picture_path where\n",
    "    the motor is located, i.e. the 'best slice'\n",
    "\n",
    "            Parameters:\n",
    "                df (pd.Dataframe): the dataset to find coordinates\n",
    "                tomogram_id (string): the tomogram id\n",
    "\n",
    "            Returns:\n",
    "                best_slice_path (string): the path of the picture of the 'best slice' (where the motor is located)\n",
    "\n",
    "    '''\n",
    "    x, y, z = get_motor_coordinates(df, tomogram_id)\n",
    "    if z <0:\n",
    "        best_slice = 150\n",
    "        best_slice_path = get_slice_file_path(tomogram_id, int(best_slice))\n",
    "    else:\n",
    "        best_slice_path = get_slice_file_path(tomogram_id, int(z))\n",
    "    return best_slice_path"
   ]
  },
  {
   "cell_type": "code",
   "execution_count": 7,
   "metadata": {},
   "outputs": [],
   "source": [
    "#  /Users/wm/code/mc-will/bacterial_motor/BYU_Locating-Bacterial_Flagellar_Motors_2025/data/pictures_raw/train/tomo_0a8f05/slice_0000.jpg\n",
    "best_slice =[get_best_slice(df,tomo) for tomo in tomogram_id]\n"
   ]
  },
  {
   "cell_type": "code",
   "execution_count": 8,
   "metadata": {},
   "outputs": [],
   "source": [
    "\n",
    "def load_slices(best_slice):\n",
    "    slices = []\n",
    "    for i in best_slice:\n",
    "        relative_path = i.lstrip('./')\n",
    "        img_path = Path('..') / relative_path\n",
    "\n",
    "\n",
    "        img = load_img(img_path, color_mode='grayscale')\n",
    "        img_array = img_to_array(img) / 255.0\n",
    "        slices.append(img_array)\n",
    "\n",
    "    return np.array(slices)\n"
   ]
  },
  {
   "cell_type": "code",
   "execution_count": 9,
   "metadata": {},
   "outputs": [
    {
     "name": "stderr",
     "output_type": "stream",
     "text": [
      "/var/folders/nr/0rc2wzzd26zd1tptqppt9kjr0000gn/T/ipykernel_26944/1099614466.py:14: VisibleDeprecationWarning: Creating an ndarray from ragged nested sequences (which is a list-or-tuple of lists-or-tuples-or ndarrays with different lengths or shapes) is deprecated. If you meant to do this, you must specify 'dtype=object' when creating the ndarray.\n",
      "  return np.array(slices)\n"
     ]
    }
   ],
   "source": [
    "# \"\"\"\n",
    "# Function look the foto 72 in each 'tomo'\n",
    "# * Img size is too heavy at 960*960 pixel, so se test on 256*256\n",
    "\n",
    "# \"\"\"\n",
    "# def load_from_each_tomo(parent_folder,\n",
    "#                         img_size=(960, 960),\n",
    "#                         # img_size=(256,256),\n",
    "#                         # img_size=(128, 128),\n",
    "#                         ):\n",
    "\n",
    "#     slices = []\n",
    "#     # select the column of 'tomo_id' with only 1/0 Motors\n",
    "#     tomo_ids = df['tomo_id']\n",
    "#     # print (tomo_ids)\n",
    "\n",
    "#     # Loop to look each foto per Tomo_id\n",
    "#     for id in tomo_ids:\n",
    "#         # make the path btw parent_path and tomo_id\n",
    "#         tomo_path = os.path.join(parent_folder, id)\n",
    "#         # print(tomo_path)\n",
    "\n",
    "#         # Check if it is a real directory\n",
    "#         if os.path.isdir(tomo_path):\n",
    "#             # make a liste of all the photo per tomo\n",
    "#             all_slices = sorted([f for f in os.listdir(tomo_path)])\n",
    "#             # print(' all slices:',len(all_slices), type(all_slices), all_slices)\n",
    "\n",
    "#             number = 72 ### mean where the best photo is\n",
    "\n",
    "#             slice_path =os.path.join(tomo_path, all_slices[number])\n",
    "#             # load the img from slice_path with same size , in 1 chanel = W/B\n",
    "#             img = load_img(slice_path,\n",
    "#                            target_size=img_size,\n",
    "#                            color_mode='grayscale',\n",
    "#                            )\n",
    "#             # Normalization btw 0/1 divide by 255\n",
    "#             img_array = img_to_array(img) / 255\n",
    "\n",
    "#             # append to the slice list\n",
    "#             slices.append(img_array)\n",
    "\n",
    "#     # return un array to be used\n",
    "#     return np.array(slices)\n"
   ]
  },
  {
   "cell_type": "code",
   "execution_count": 10,
   "metadata": {},
   "outputs": [
    {
     "name": "stderr",
     "output_type": "stream",
     "text": [
      "/var/folders/nr/0rc2wzzd26zd1tptqppt9kjr0000gn/T/ipykernel_18218/1305404653.py:12: VisibleDeprecationWarning: Creating an ndarray from ragged nested sequences (which is a list-or-tuple of lists-or-tuples-or ndarrays with different lengths or shapes) is deprecated. If you meant to do this, you must specify 'dtype=object' when creating the ndarray.\n",
      "  return np.array(slices)\n"
     ]
    }
   ],
   "source": [
    "# selection of y= 1 or 0 Motors\n",
    "\n",
    "X =load_slices(best_slice);\n",
    "y= df['Number_of_motors']"
   ]
  },
  {
   "cell_type": "code",
   "execution_count": 11,
   "metadata": {},
   "outputs": [],
   "source": [
    "\n",
    "target_size = (928, 928)\n",
    "slices_resized = []\n",
    "\n",
    "for i, img in enumerate(X):\n",
    "\n",
    "    pil_img = Image.fromarray((img * 255).astype('uint8').squeeze())  # out one canal if it is 1\n",
    "    pil_img = pil_img.resize(target_size)\n",
    "    img_array = img_to_array(pil_img) / 255.0\n",
    "    if img_array.ndim == 2:  # si vuelve a perder canal\n",
    "        img_array = np.expand_dims(img_array, axis=-1)\n",
    "    slices_resized.append(img_array)\n",
    "\n",
    "X = np.stack(slices_resized)\n"
   ]
  },
  {
   "cell_type": "code",
   "execution_count": 12,
   "metadata": {},
   "outputs": [],
   "source": [
    "\n",
    "def init_model_cnnlog(X):\n",
    "    model = Sequential()\n",
    "    model.add(Input(shape= X.shape[1:]))\n",
    "\n",
    "    model.add(layers.Conv2D(32, (3, 3),\n",
    "                            padding='same',\n",
    "                            activation=\"relu\"))\n",
    "    model.add(layers.MaxPool2D(pool_size=(2, 2)))\n",
    "    #\n",
    "    model.add(layers.Conv2D(64, (3, 3),\n",
    "                            padding='same',\n",
    "                            activation=\"relu\"))\n",
    "    model.add(layers.MaxPool2D(pool_size=(2, 2)))\n",
    "\n",
    "    model.add(layers.Conv2D(128, (3, 3),\n",
    "                            padding='same',\n",
    "                            activation=\"relu\"))\n",
    "    model.add(layers.BatchNormalization())\n",
    "\n",
    "    model.add(layers.MaxPooling2D(pool_size=(2, 2)))\n",
    "\n",
    "    model.add(layers.Flatten())\n",
    "    model.add(layers.Dropout(0.5))\n",
    "\n",
    "    model.add(layers.Dense(128, activation='relu'))\n",
    "    model.add(layers.Dropout(0.3))\n",
    "\n",
    "\n",
    "    model.add(layers.Dense(1, activation='sigmoid'))\n",
    "\n",
    "\n",
    "    ########\n",
    "\n",
    "    model.compile(loss= 'binary_crossentropy',\n",
    "                  optimizer = 'adam',\n",
    "                #   metrics=['mse', 'F1Score'],\n",
    "                  metrics=['rsme',\n",
    "                           FBetaScore(num_classes=1,\n",
    "                                      average='micro',\n",
    "                                      beta=2.0),\n",
    "                        #    Recall(),\n",
    "                        #    'precision',\n",
    "                        #    'F1Score'\n",
    "                           ],)\n",
    "\n",
    "    return model\n"
   ]
  },
  {
   "cell_type": "code",
   "execution_count": 13,
   "metadata": {},
   "outputs": [],
   "source": [
    "model = init_model_cnnlog(X_train)"
   ]
  },
  {
   "cell_type": "code",
   "execution_count": null,
   "metadata": {},
   "outputs": [
    {
     "name": "stdout",
     "output_type": "stream",
     "text": [
      "Epoch 1/10\n"
     ]
    },
    {
     "name": "stderr",
     "output_type": "stream",
     "text": [
      "2025-06-04 17:50:53.893406: W tensorflow/core/platform/profile_utils/cpu_utils.cc:128] Failed to get CPU frequency: 0 Hz\n"
     ]
    },
    {
     "name": "stdout",
     "output_type": "stream",
     "text": [
      "10/47 [=====>........................] - ETA: 1:31:22 - loss: 42.9112 - accuracy: 0.6750 - fbeta_score: 0.4124"
     ]
    },
    {
     "data": {
      "text/plain": [
       "<keras.callbacks.History at 0x33c5fd480>"
      ]
     },
     "execution_count": 16,
     "metadata": {},
     "output_type": "execute_result"
    }
   ],
   "source": [
    "def model_train (model, X_train_processed, y_train, batch_size=8 ,epochs=10):\n",
    "    verbose=1\n",
    "    validation_split=0.1\n",
    "    es = EarlyStopping(patience=5,\n",
    "                       restore_best_weights=True)\n",
    "\n",
    "history = model_train(model, X_train,y_train)\n",
    "history"
   ]
  },
  {
   "cell_type": "code",
   "execution_count": 1,
   "metadata": {},
   "outputs": [
    {
     "ename": "NameError",
     "evalue": "name 'history' is not defined",
     "output_type": "error",
     "traceback": [
      "\u001b[0;31m---------------------------------------------------------------------------\u001b[0m",
      "\u001b[0;31mNameError\u001b[0m                                 Traceback (most recent call last)",
      "Cell \u001b[0;32mIn[1], line 1\u001b[0m\n\u001b[0;32m----> 1\u001b[0m \u001b[43mhistory\u001b[49m\u001b[38;5;241m.\u001b[39mhistory\n",
      "\u001b[0;31mNameError\u001b[0m: name 'history' is not defined"
     ]
    }
   ],
   "source": [
    "history.history\n"
   ]
  },
  {
   "cell_type": "code",
   "execution_count": null,
   "metadata": {},
   "outputs": [],
   "source": [
    "\n",
    "\n",
    "path_test_csv = '../data/csv_raw/sample_submission.csv'\n",
    "path_image_test = '../data/pictures_raw/test'\n",
    "\n",
    "\n",
    "df_test = pd.read_csv(path_test_csv).copy()\n",
    "\n",
    "# Obtener los tomogramas únicos\n",
    "tomogram_ids = df_test['tomo_id'].unique()\n",
    "\n",
    "# Parámetros\n",
    "slice_number = 1\n",
    "target_size = (928, 928)\n",
    "X_test_kaggel = []\n",
    "\n",
    "for tomo_id in tomogram_ids:\n",
    "    folder_path = os.path.join(path_image_test, tomo_id)\n",
    "    slice_name = f\"slice_{slice_number:04d}.jpg\"\n",
    "    slice_path = os.path.join(folder_path, slice_name)\n",
    "\n",
    "    if not os.path.exists(slice_path):\n",
    "        print(f\"⚠️ Slice not found: {slice_path}\")\n",
    "        continue\n",
    "\n",
    "    # Cargar y procesar imagen\n",
    "    img = load_img(slice_path, color_mode='grayscale')\n",
    "    pil_img = img.resize(target_size)\n",
    "    img_array = img_to_array(pil_img) / 255.0\n",
    "    X_test_kaggel.append(img_array)\n",
    "\n",
    "# Convertir a np.array\n",
    "X_test_kaggel = np.array(X_test_kaggel)\n"
   ]
  },
  {
   "cell_type": "code",
   "execution_count": null,
   "metadata": {},
   "outputs": [],
   "source": [
    "y_pred = model.predict(X_test_kaggel)\n",
    "\n",
    "y_pred\n"
   ]
  },
  {
   "cell_type": "code",
   "execution_count": null,
   "metadata": {},
   "outputs": [],
   "source": []
  },
  {
   "cell_type": "code",
   "execution_count": 8,
   "metadata": {},
   "outputs": [],
   "source": [
    "# \"\"\"\n",
    "# Function look the foto 72 in each 'tomo'\n",
    "# * Img size is too heavy at 960*960 pixel, so se test on 256*256\n",
    "\n",
    "# \"\"\"\n",
    "# def load_from_each_tomo(parent_folder,\n",
    "#                         img_size=(960, 960),\n",
    "#                         # img_size=(256,256),\n",
    "#                         # img_size=(128, 128),\n",
    "#                         ):\n",
    "\n",
    "#     slices = []\n",
    "#     # select the column of 'tomo_id' with only 1/0 Motors\n",
    "#     tomo_ids = df['tomo_id']\n",
    "#     # print (tomo_ids)\n",
    "\n",
    "#     # Loop to look each foto per Tomo_id\n",
    "#     for id in tomo_ids:\n",
    "#         # make the path btw parent_path and tomo_id\n",
    "#         tomo_path = os.path.join(parent_folder, id)\n",
    "#         # print(tomo_path)\n",
    "\n",
    "#         # Check if it is a real directory\n",
    "#         if os.path.isdir(tomo_path):\n",
    "#             # make a liste of all the photo per tomo\n",
    "#             all_slices = sorted([f for f in os.listdir(tomo_path)])\n",
    "#             # print(' all slices:',len(all_slices), type(all_slices), all_slices)\n",
    "\n",
    "#             number = 72 ### mean where the best photo is\n",
    "\n",
    "#             slice_path =os.path.join(tomo_path, all_slices[number])\n",
    "#             # load the img from slice_path with same size , in 1 chanel = W/B\n",
    "#             img = load_img(slice_path,\n",
    "#                            target_size=img_size,\n",
    "#                            color_mode='grayscale',\n",
    "#                            )\n",
    "#             # Normalization btw 0/1 divide by 255\n",
    "#             img_array = img_to_array(img) / 255\n",
    "\n",
    "#             # append to the slice list\n",
    "#             slices.append(img_array)\n",
    "\n",
    "#     # return un array to be used\n",
    "#     return np.array(slices)\n"
   ]
  },
  {
   "cell_type": "code",
   "execution_count": 29,
   "metadata": {},
   "outputs": [
    {
     "name": "stdout",
     "output_type": "stream",
     "text": [
      "Epoch 1/5\n",
      "21/21 [==============================] - 234s 11s/step - loss: 0.7322 - accuracy: 0.5893 - fbeta_score: 0.9375 - recall_2: 0.6905 - val_loss: 0.6120 - val_accuracy: 0.7105 - val_fbeta_score: 0.9247 - val_recall_2: 1.0000\n",
      "Epoch 2/5\n",
      "21/21 [==============================] - 330s 16s/step - loss: 0.5910 - accuracy: 0.7411 - fbeta_score: 0.9375 - recall_2: 0.9484 - val_loss: 0.5999 - val_accuracy: 0.7105 - val_fbeta_score: 0.9247 - val_recall_2: 1.0000\n",
      "Epoch 3/5\n",
      "21/21 [==============================] - 307s 15s/step - loss: 0.6347 - accuracy: 0.7202 - fbeta_score: 0.9375 - recall_2: 0.9365 - val_loss: 0.5751 - val_accuracy: 0.7105 - val_fbeta_score: 0.9247 - val_recall_2: 1.0000\n",
      "Epoch 4/5\n",
      "21/21 [==============================] - 327s 16s/step - loss: 0.6184 - accuracy: 0.7024 - fbeta_score: 0.9375 - recall_2: 0.9008 - val_loss: 0.5633 - val_accuracy: 0.7105 - val_fbeta_score: 0.9247 - val_recall_2: 1.0000\n",
      "Epoch 5/5\n",
      "21/21 [==============================] - 348s 17s/step - loss: 0.5900 - accuracy: 0.6964 - fbeta_score: 0.9375 - recall_2: 0.8929 - val_loss: 0.5556 - val_accuracy: 0.7105 - val_fbeta_score: 0.9247 - val_recall_2: 1.0000\n"
     ]
    },
    {
     "data": {
      "text/plain": [
       "<keras.callbacks.History at 0x16264c4c0>"
      ]
     },
     "execution_count": 29,
     "metadata": {},
     "output_type": "execute_result"
    }
   ],
   "source": [
    "from tensorflow.keras.applications import DenseNet121\n",
    "from tensorflow.keras.layers import GlobalAveragePooling2D, Dense, Dropout, Input, Lambda\n",
    "from tensorflow.keras.models import Model\n",
    "from tensorflow.keras.optimizers import Adam\n",
    "from tensorflow.keras.metrics import Recall\n",
    "import tensorflow as tf\n",
    "from tensorflow_addons.metrics import FBetaScore\n",
    "\n",
    "def init_model_densenet(X):\n",
    "    original_input_shape = X.shape[1:]\n",
    "\n",
    "    # Forzar input a 3 canales si es gris (1 canal)\n",
    "    if original_input_shape[-1] == 1:\n",
    "        base_input_shape = original_input_shape[:-1] + (3,)\n",
    "    else:\n",
    "        base_input_shape = original_input_shape\n",
    "\n",
    "    # Cargar modelo base DenseNet121 sin la capa de clasificación final\n",
    "    base_model = DenseNet121(include_top=False, weights='imagenet', input_shape=base_input_shape)\n",
    "    base_model.trainable = False\n",
    "\n",
    "    # Input layer\n",
    "    inputs = Input(shape=original_input_shape)\n",
    "\n",
    "    # Convertir a RGB si es necesario\n",
    "    if original_input_shape[-1] == 1:\n",
    "        x = Lambda(lambda x: tf.image.grayscale_to_rgb(x))(inputs)\n",
    "    else:\n",
    "        x = inputs\n",
    "\n",
    "    # Aplicar modelo base\n",
    "    x = base_model(x, training=False)\n",
    "    x = GlobalAveragePooling2D()(x)\n",
    "    x = Dropout(0.5)(x)\n",
    "    x = Dense(128, activation='relu')(x)\n",
    "    x = Dropout(0.3)(x)\n",
    "    outputs = Dense(1, activation='sigmoid')(x)\n",
    "\n",
    "    model = Model(inputs, outputs)\n",
    "\n",
    "    # Compilar\n",
    "    model.compile(\n",
    "        loss='binary_crossentropy',\n",
    "        optimizer=Adam(learning_rate=1e-4),\n",
    "        metrics=[\n",
    "            'accuracy',\n",
    "            FBetaScore(num_classes=1, average='micro', beta=2.0),\n",
    "            Recall()\n",
    "        ]\n",
    "    )\n",
    "\n",
    "    return model\n",
    "\n",
    "\n",
    "model_densenet = init_model_densenet(X_train)\n",
    "\n",
    "\n",
    "history_densenet = model_train(model_densenet, X_train,y_train)\n",
    "history_densenet"
   ]
  },
  {
   "cell_type": "code",
   "execution_count": 32,
   "metadata": {},
   "outputs": [
    {
     "data": {
      "text/plain": [
       "<matplotlib.legend.Legend at 0x3479bab90>"
      ]
     },
     "execution_count": 32,
     "metadata": {},
     "output_type": "execute_result"
    },
    {
     "data": {
      "image/png": "[encoded data removed]",
      "text/plain": [
       "<Figure size 640x480 with 1 Axes>"
      ]
     },
     "metadata": {},
     "output_type": "display_data"
    }
   ],
   "source": [
    "history_densenet.history\n",
    "\n",
    "\n",
    "plt.plot(history_densenet.history['fbeta_score'], c='r', label=\"fbeta_score\")\n",
    "plt.plot(history_densenet.history['val_fbeta_score'], c='r', linestyle='--', label=\"val_fbeta_score\")\n",
    "\n",
    "plt.plot(history_densenet.history['accuracy'],c='black', label=\"accuracy\")\n",
    "plt.plot(history_densenet.history['val_accuracy'],c='black', linestyle='--', label=\"val_accuracy\")\n",
    "\n",
    "\n",
    "# plt.plot(history_densenet.history['recall_1'], c= 'g', label=\"recall\");\n",
    "# plt.plot(history_densenet.history['val_recall_1'], c= 'g', linestyle='--', label=\"val_recall\");\n",
    "\n",
    "# plt.plot(history.history['precision'], c='g');\n",
    "# plt.plot(history.history['val_precision'], c='b');\n",
    "\n",
    "plt.legend()"
   ]
  },
  {
   "cell_type": "code",
   "execution_count": 33,
   "metadata": {},
   "outputs": [
    {
     "name": "stdout",
     "output_type": "stream",
     "text": [
      "2/2 [==============================] - 19s 4s/step - loss: 0.6487 - accuracy: 0.6190 - fbeta_score: 0.8904 - recall_2: 1.0000\n"
     ]
    },
    {
     "data": {
      "text/plain": [
       "[0.6486611366271973, 0.6190476417541504, 0.8904110193252563, 1.0]"
      ]
     },
     "execution_count": 33,
     "metadata": {},
     "output_type": "execute_result"
    }
   ],
   "source": [
    "model_densenet.evaluate(X_test_kaggel,y_test)"
   ]
  },
  {
   "cell_type": "code",
   "execution_count": 34,
   "metadata": {},
   "outputs": [
    {
     "name": "stdout",
     "output_type": "stream",
     "text": [
      "2/2 [==============================] - 5s 650ms/step - loss: 0.7017 - accuracy: 0.3810 - fbeta_score: 0.8904 - recall_1: 0.0000e+00\n"
     ]
    },
    {
     "data": {
      "text/plain": [
       "[0.7016727924346924, 0.380952388048172, 0.8904110193252563, 0.0]"
      ]
     },
     "execution_count": 34,
     "metadata": {},
     "output_type": "execute_result"
    }
   ],
   "source": [
    "model.evaluate(X_test_kaggel,y_test)"
   ]
  },
  {
   "cell_type": "code",
   "execution_count": 4,
   "metadata": {},
   "outputs": [],
   "source": [
    "from tensorflow.keras.preprocessing.image import ImageDataGenerator\n",
    "datagen = ImageDataGenerator(\n",
    "    rotation_range=20,\n",
    "    width_shift_range=0.1,\n",
    "    height_shift_range=0.1,\n",
    "    zoom_range=0.2,\n",
    "    horizontal_flip=True,\n",
    "    fill_mode='nearest'\n",
    ")"
   ]
  },
  {
   "cell_type": "code",
   "execution_count": 5,
   "metadata": {},
   "outputs": [
    {
     "data": {
      "text/plain": [
       "<keras.preprocessing.image.ImageDataGenerator at 0x31129baf0>"
      ]
     },
     "execution_count": 5,
     "metadata": {},
     "output_type": "execute_result"
    }
   ],
   "source": [
    "datagen"
   ]
  },
  {
   "cell_type": "code",
   "execution_count": null,
   "metadata": {},
   "outputs": [],
   "source": []
  }
 ],
 "metadata": {
  "kernelspec": {
   "display_name": "byu",
   "language": "python",
   "name": "python3"
  },
  "language_info": {
   "codemirror_mode": {
    "name": "ipython",
    "version": 3
   },
   "file_extension": ".py",
   "mimetype": "text/x-python",
   "name": "python",
   "nbconvert_exporter": "python",
   "pygments_lexer": "ipython3",
   "version": "3.10.6"
  }
 },
 "nbformat": 4,
 "nbformat_minor": 2
}
