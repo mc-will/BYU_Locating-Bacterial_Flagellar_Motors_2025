{
 "cells": [
  {
   "cell_type": "markdown",
   "metadata": {},
   "source": [
    "## CNN logistic\n"
   ]
  },
  {
   "cell_type": "markdown",
   "metadata": {},
   "source": [
    "Only photos with max 960 in axis X and Y\n",
    "\n",
    "MSE \n",
    "\n"
   ]
  },
  {
   "cell_type": "code",
   "execution_count": 1,
   "metadata": {},
   "outputs": [],
   "source": [
    "# !pip install keras"
   ]
  },
  {
   "cell_type": "code",
   "execution_count": 21,
   "metadata": {},
   "outputs": [],
   "source": [
    "from tensorflow.keras import Sequential, Input, layers\n",
    "from keras.callbacks import EarlyStopping\n",
    "import pandas as pd\n",
    "import numpy as np\n",
    "import os\n",
    "from tensorflow.keras.preprocessing.image import load_img, img_to_array\n",
    "import matplotlib.pyplot as plt"
   ]
  },
  {
   "cell_type": "code",
   "execution_count": 22,
   "metadata": {},
   "outputs": [
    {
     "data": {
      "text/html": [
       "<div>\n",
       "<style scoped>\n",
       "    .dataframe tbody tr th:only-of-type {\n",
       "        vertical-align: middle;\n",
       "    }\n",
       "\n",
       "    .dataframe tbody tr th {\n",
       "        vertical-align: top;\n",
       "    }\n",
       "\n",
       "    .dataframe thead th {\n",
       "        text-align: right;\n",
       "    }\n",
       "</style>\n",
       "<table border=\"1\" class=\"dataframe\">\n",
       "  <thead>\n",
       "    <tr style=\"text-align: right;\">\n",
       "      <th></th>\n",
       "      <th>row_id</th>\n",
       "      <th>Motor axis 0</th>\n",
       "      <th>Motor axis 1</th>\n",
       "      <th>Motor axis 2</th>\n",
       "      <th>Array shape (axis 0)</th>\n",
       "      <th>Array shape (axis 1)</th>\n",
       "      <th>Array shape (axis 2)</th>\n",
       "      <th>Voxel spacing</th>\n",
       "      <th>Number of motors</th>\n",
       "    </tr>\n",
       "  </thead>\n",
       "  <tbody>\n",
       "    <tr>\n",
       "      <th>count</th>\n",
       "      <td>599.000000</td>\n",
       "      <td>599.000000</td>\n",
       "      <td>599.000000</td>\n",
       "      <td>599.000000</td>\n",
       "      <td>599.000000</td>\n",
       "      <td>599.000000</td>\n",
       "      <td>599.000000</td>\n",
       "      <td>599.000000</td>\n",
       "      <td>599.000000</td>\n",
       "    </tr>\n",
       "    <tr>\n",
       "      <th>mean</th>\n",
       "      <td>370.559265</td>\n",
       "      <td>71.956594</td>\n",
       "      <td>258.968280</td>\n",
       "      <td>247.873122</td>\n",
       "      <td>412.510851</td>\n",
       "      <td>955.130217</td>\n",
       "      <td>955.181970</td>\n",
       "      <td>14.919699</td>\n",
       "      <td>0.522538</td>\n",
       "    </tr>\n",
       "    <tr>\n",
       "      <th>std</th>\n",
       "      <td>213.831043</td>\n",
       "      <td>79.521214</td>\n",
       "      <td>284.648696</td>\n",
       "      <td>276.867706</td>\n",
       "      <td>188.618812</td>\n",
       "      <td>70.874328</td>\n",
       "      <td>107.751581</td>\n",
       "      <td>1.984829</td>\n",
       "      <td>0.499909</td>\n",
       "    </tr>\n",
       "    <tr>\n",
       "      <th>min</th>\n",
       "      <td>0.000000</td>\n",
       "      <td>-1.000000</td>\n",
       "      <td>-1.000000</td>\n",
       "      <td>-1.000000</td>\n",
       "      <td>300.000000</td>\n",
       "      <td>924.000000</td>\n",
       "      <td>924.000000</td>\n",
       "      <td>6.500000</td>\n",
       "      <td>0.000000</td>\n",
       "    </tr>\n",
       "    <tr>\n",
       "      <th>25%</th>\n",
       "      <td>191.500000</td>\n",
       "      <td>-1.000000</td>\n",
       "      <td>-1.000000</td>\n",
       "      <td>-1.000000</td>\n",
       "      <td>300.000000</td>\n",
       "      <td>928.000000</td>\n",
       "      <td>928.000000</td>\n",
       "      <td>13.100000</td>\n",
       "      <td>0.000000</td>\n",
       "    </tr>\n",
       "    <tr>\n",
       "      <th>50%</th>\n",
       "      <td>367.000000</td>\n",
       "      <td>43.000000</td>\n",
       "      <td>158.000000</td>\n",
       "      <td>140.000000</td>\n",
       "      <td>300.000000</td>\n",
       "      <td>960.000000</td>\n",
       "      <td>928.000000</td>\n",
       "      <td>15.600000</td>\n",
       "      <td>1.000000</td>\n",
       "    </tr>\n",
       "    <tr>\n",
       "      <th>75%</th>\n",
       "      <td>560.500000</td>\n",
       "      <td>143.000000</td>\n",
       "      <td>519.000000</td>\n",
       "      <td>491.500000</td>\n",
       "      <td>500.000000</td>\n",
       "      <td>960.000000</td>\n",
       "      <td>956.000000</td>\n",
       "      <td>16.100000</td>\n",
       "      <td>1.000000</td>\n",
       "    </tr>\n",
       "    <tr>\n",
       "      <th>max</th>\n",
       "      <td>736.000000</td>\n",
       "      <td>364.000000</td>\n",
       "      <td>904.000000</td>\n",
       "      <td>896.000000</td>\n",
       "      <td>800.000000</td>\n",
       "      <td>1912.000000</td>\n",
       "      <td>1847.000000</td>\n",
       "      <td>19.700000</td>\n",
       "      <td>1.000000</td>\n",
       "    </tr>\n",
       "  </tbody>\n",
       "</table>\n",
       "</div>"
      ],
      "text/plain": [
       "           row_id  Motor axis 0  Motor axis 1  Motor axis 2  \\\n",
       "count  599.000000    599.000000    599.000000    599.000000   \n",
       "mean   370.559265     71.956594    258.968280    247.873122   \n",
       "std    213.831043     79.521214    284.648696    276.867706   \n",
       "min      0.000000     -1.000000     -1.000000     -1.000000   \n",
       "25%    191.500000     -1.000000     -1.000000     -1.000000   \n",
       "50%    367.000000     43.000000    158.000000    140.000000   \n",
       "75%    560.500000    143.000000    519.000000    491.500000   \n",
       "max    736.000000    364.000000    904.000000    896.000000   \n",
       "\n",
       "       Array shape (axis 0)  Array shape (axis 1)  Array shape (axis 2)  \\\n",
       "count            599.000000            599.000000            599.000000   \n",
       "mean             412.510851            955.130217            955.181970   \n",
       "std              188.618812             70.874328            107.751581   \n",
       "min              300.000000            924.000000            924.000000   \n",
       "25%              300.000000            928.000000            928.000000   \n",
       "50%              300.000000            960.000000            928.000000   \n",
       "75%              500.000000            960.000000            956.000000   \n",
       "max              800.000000           1912.000000           1847.000000   \n",
       "\n",
       "       Voxel spacing  Number of motors  \n",
       "count     599.000000        599.000000  \n",
       "mean       14.919699          0.522538  \n",
       "std         1.984829          0.499909  \n",
       "min         6.500000          0.000000  \n",
       "25%        13.100000          0.000000  \n",
       "50%        15.600000          1.000000  \n",
       "75%        16.100000          1.000000  \n",
       "max        19.700000          1.000000  "
      ]
     },
     "execution_count": 22,
     "metadata": {},
     "output_type": "execute_result"
    }
   ],
   "source": [
    "train_label_csv= '/Users/wm/code/mc-will/bacterial_motor/BYU_Locating-Bacterial_Flagellar_Motors_2025/data/train_labels.csv'\n",
    "df_train_label_csv = pd.read_csv (train_label_csv).copy()\n",
    "\n",
    "# Sorting only motors 1 or 0\n",
    "df_train_label_csv= df_train_label_csv[df_train_label_csv['Number of motors']<=1]\n",
    "\n",
    "df_train_label_csv.head(3)\n",
    "# Describe the CSV\n",
    "df_train_label_csv.describe()"
   ]
  },
  {
   "cell_type": "code",
   "execution_count": 4,
   "metadata": {},
   "outputs": [
    {
     "name": "stdout",
     "output_type": "stream",
     "text": [
      "0      tomo_003acc\n",
      "1      tomo_00e047\n",
      "8      tomo_01a877\n",
      "9      tomo_02862f\n",
      "10     tomo_0308c5\n",
      "          ...     \n",
      "732    tomo_fe050c\n",
      "733    tomo_fe85f6\n",
      "734    tomo_fea6e8\n",
      "735    tomo_ff505c\n",
      "736    tomo_ff7c20\n",
      "Name: tomo_id, Length: 599, dtype: object\n"
     ]
    }
   ],
   "source": [
    "\"\"\"\n",
    "Function look the foto 72 in each 'tomo'\n",
    "* Img size is too heavy at 960*960 pixel, so se test on 256*256\n",
    "\n",
    "\"\"\"\n",
    "def load_from_each_tomo(parent_folder,\n",
    "                        # img_size=(960, 960),\n",
    "                        img_size=(256,256),\n",
    "                        # img_size=(128, 128),\n",
    "                        ):\n",
    "\n",
    "    slices = []\n",
    "    # select the column of 'tomo_id' with only 1/0 Motors\n",
    "    tomo_ids = df_train_label_csv['tomo_id']\n",
    "    # print (tomo_ids)\n",
    "\n",
    "    # Loop to look each foto per Tomo_id\n",
    "    for id in tomo_ids:\n",
    "        # make the path btw parent_path and tomo_id\n",
    "        tomo_path = os.path.join(parent_folder, id)\n",
    "        # print(tomo_path)\n",
    "\n",
    "        # Check if it is a real directory\n",
    "        if os.path.isdir(tomo_path):\n",
    "            # make a liste of all the photo per tomo\n",
    "            all_slices = sorted([f for f in os.listdir(tomo_path)])\n",
    "            # print(' all slices:',len(all_slices), type(all_slices), all_slices)\n",
    "\n",
    "            number = 72 ### mean where the best photo is\n",
    "\n",
    "            slice_path =os.path.join(tomo_path, all_slices[number])\n",
    "            # load the img from slice_path with same size , in 1 chanel = W/B\n",
    "            img = load_img(slice_path,\n",
    "                           target_size=img_size,\n",
    "                           color_mode='grayscale',\n",
    "                           )\n",
    "            # Normalization btw 0/1 divide by 255\n",
    "            img_array = img_to_array(img) / 255\n",
    "\n",
    "            # append to the slice list\n",
    "            slices.append(img_array)\n",
    "\n",
    "    # return un array to be used\n",
    "    return np.array(slices)\n",
    "\n",
    "path= '/Users/wm/code/mc-will/bacterial_motor/BYU_Locating-Bacterial_Flagellar_Motors_2025/data/pictures_raw/train'\n",
    "X =load_from_each_tomo(path, )\n"
   ]
  },
  {
   "cell_type": "code",
   "execution_count": null,
   "metadata": {},
   "outputs": [],
   "source": [
    "def init_model_cnnlog(X):\n",
    "    model = Sequential()\n",
    "    model.add(Input(shape= X.shape[1:]))\n",
    "\n",
    "    model.add(layers.Conv2D(32, (3, 3),\n",
    "                            padding='same',\n",
    "                            activation=\"relu\"))\n",
    "    model.add(layers.MaxPool2D(pool_size=(2, 2)))\n",
    "    #\n",
    "    model.add(layers.Conv2D(64, (3, 3),\n",
    "                            padding='same',\n",
    "                            activation=\"relu\"))\n",
    "    model.add(layers.MaxPool2D(pool_size=(2, 2)))\n",
    "\n",
    "    model.add(layers.Flatten())\n",
    "\n",
    "    model.add(layers.Dense(256,activation= 'relu'))\n",
    "\n",
    "    model.add(layers.Dense(1, activation='sigmoid'))\n",
    "    return model\n",
    "model = init_model_cnnlog(X)"
   ]
  },
  {
   "cell_type": "code",
   "execution_count": null,
   "metadata": {},
   "outputs": [],
   "source": [
    "def init_model_cnnlog(X):\n",
    "    model = Sequential()\n",
    "    model.add(Input(shape= X.shape[1:]))\n",
    "\n",
    "    model.add(layers.Conv2D(32, (3, 3),\n",
    "                            padding='same',\n",
    "                            activation=\"relu\"))\n",
    "    model.add(layers.MaxPool2D(pool_size=(2, 2)))\n",
    "    #\n",
    "    model.add(layers.Conv2D(64, (3, 3),\n",
    "                            padding='same',\n",
    "                            activation=\"relu\"))\n",
    "    model.add(layers.MaxPool2D(pool_size=(2, 2)))\n",
    "\n",
    "    model.add(layers.Flatten())\n",
    "\n",
    "    model.add(layers.Dense(256,activation= 'relu'))\n",
    "\n",
    "    model.add(layers.Dense(1, activation='sigmoid'))\n",
    "    return model\n",
    "model = init_model_cnnlog(X)"
   ]
  },
  {
   "cell_type": "code",
   "execution_count": null,
   "metadata": {},
   "outputs": [],
   "source": [
    "def init_model_cnnlog(X):\n",
    "    model = Sequential()\n",
    "    model.add(Input(shape= X.shape[1:]))\n",
    "\n",
    "    model.add(layers.Conv2D(32, (3, 3),\n",
    "                            padding='same',\n",
    "                            activation=\"relu\"))\n",
    "    model.add(layers.MaxPool2D(pool_size=(2, 2)))\n",
    "    #\n",
    "    model.add(layers.Conv2D(64, (3, 3),\n",
    "                            padding='same',\n",
    "                            activation=\"relu\"))\n",
    "    model.add(layers.MaxPool2D(pool_size=(2, 2)))\n",
    "\n",
    "    model.add(layers.Flatten())\n",
    "\n",
    "    model.add(layers.Dense(256,activation= 'relu'))\n",
    "\n",
    "    model.add(layers.Dense(1, activation='sigmoid'))\n",
    "    return model\n",
    "model = init_model_cnnlog(X)"
   ]
  },
  {
   "cell_type": "code",
   "execution_count": null,
   "metadata": {},
   "outputs": [],
   "source": [
    "def init_model_cnnlog(X):\n",
    "    model = Sequential()\n",
    "    model.add(Input(shape= X.shape[1:]))\n",
    "\n",
    "    model.add(layers.Conv2D(32, (3, 3),\n",
    "                            padding='same',\n",
    "                            activation=\"relu\"))\n",
    "    model.add(layers.MaxPool2D(pool_size=(2, 2)))\n",
    "    #\n",
    "    model.add(layers.Conv2D(64, (3, 3),\n",
    "                            padding='same',\n",
    "                            activation=\"relu\"))\n",
    "    model.add(layers.MaxPool2D(pool_size=(2, 2)))\n",
    "\n",
    "    model.add(layers.Flatten())\n",
    "\n",
    "    model.add(layers.Dense(256,activation= 'relu'))\n",
    "\n",
    "    model.add(layers.Dense(1, activation='sigmoid'))\n",
    "    return model\n",
    "model = init_model_cnnlog(X)"
   ]
  },
  {
   "cell_type": "code",
   "execution_count": 5,
   "metadata": {},
   "outputs": [],
   "source": [
    "# selection of y= 1 or 0 Motors\n",
    "y= df_train_label_csv['Number of motors']"
   ]
  },
  {
   "cell_type": "code",
   "execution_count": 6,
   "metadata": {},
   "outputs": [],
   "source": [
    "def init_model_cnnlog(X):\n",
    "    model = Sequential()\n",
    "    model.add(Input(shape= X.shape[1:]))\n",
    "\n",
    "    model.add(layers.Conv2D(32, (3, 3),\n",
    "                            padding='same',\n",
    "                            activation=\"relu\"))\n",
    "    model.add(layers.MaxPool2D(pool_size=(2, 2)))\n",
    "    #\n",
    "    model.add(layers.Conv2D(64, (3, 3),\n",
    "                            padding='same',\n",
    "                            activation=\"relu\"))\n",
    "    model.add(layers.MaxPool2D(pool_size=(2, 2)))\n",
    "\n",
    "    model.add(layers.Flatten())\n",
    "\n",
    "    model.add(layers.Dense(256,activation= 'relu'))\n",
    "\n",
    "    model.add(layers.Dense(1, activation='sigmoid'))\n",
    "    return model\n",
    "model = init_model_cnnlog(X)"
   ]
  },
  {
   "cell_type": "code",
   "execution_count": 9,
   "metadata": {},
   "outputs": [],
   "source": [
    "def model_compiled(model):\n",
    "    model.compile(loss= 'binary_crossentropy',\n",
    "                  optimizer = 'adam',\n",
    "                  metrics=['mse', 'F1Score'] )\n",
    "    return model\n",
    "model_compi = model_compiled(model)"
   ]
  },
  {
   "cell_type": "code",
   "execution_count": null,
   "metadata": {},
   "outputs": [
    {
     "data": {
      "text/plain": [
       "<keras.src.callbacks.history.History at 0x143ac72b0>"
      ]
     },
     "execution_count": 10,
     "metadata": {},
     "output_type": "execute_result"
    }
   ],
   "source": [
    "\n",
    "# validation_data = (X_val_trans,y_val)\n",
    "\n",
    "\n",
    "def model_train (model, X_train_processed, y_train, batch_size=16 ,epochs=50):\n",
    "    verbose=0\n",
    "    validation_split=0.2\n",
    "    es = EarlyStopping(patience=5,\n",
    "                       restore_best_weights=True)\n",
    "\n",
    "    history = model.fit(X_train_processed,\n",
    "                        y_train,\n",
    "                        batch_size=batch_size,\n",
    "                        epochs=epochs,\n",
    "                        validation_split=validation_split,\n",
    "                        callbacks=[es],\n",
    "                        verbose=verbose)\n",
    "    return history\n",
    "history = model_train(model_compi, X,y)\n",
    "history"
   ]
  },
  {
   "cell_type": "code",
   "execution_count": 11,
   "metadata": {},
   "outputs": [
    {
     "data": {
      "text/plain": [
       "{'F1Score': [0.6842836737632751,\n",
       "  0.6894664168357849,\n",
       "  0.6894664168357849,\n",
       "  0.6913579702377319,\n",
       "  0.696132481098175,\n",
       "  0.6913579702377319,\n",
       "  0.696132481098175,\n",
       "  0.6951723694801331,\n",
       "  0.6990290880203247,\n",
       "  0.699999988079071,\n",
       "  0.6990290880203247],\n",
       " 'loss': [1.8266921043395996,\n",
       "  0.6306701302528381,\n",
       "  0.5454867482185364,\n",
       "  0.43943482637405396,\n",
       "  0.3367079794406891,\n",
       "  0.20754411816596985,\n",
       "  0.21199344098567963,\n",
       "  0.191396564245224,\n",
       "  0.06307656317949295,\n",
       "  0.028969455510377884,\n",
       "  0.014887923374772072],\n",
       " 'mse': [0.29208219051361084,\n",
       "  0.22139766812324524,\n",
       "  0.18250395357608795,\n",
       "  0.14452388882637024,\n",
       "  0.10242535173892975,\n",
       "  0.05752027779817581,\n",
       "  0.059952422976493835,\n",
       "  0.05589993670582771,\n",
       "  0.012021944858133793,\n",
       "  0.004224410280585289,\n",
       "  0.0008454910712316632],\n",
       " 'val_F1Score': [0.6740331053733826,\n",
       "  0.6740331053733826,\n",
       "  0.6740331053733826,\n",
       "  0.6777777671813965,\n",
       "  0.6740331053733826,\n",
       "  0.6777777671813965,\n",
       "  0.681564211845398,\n",
       "  0.6777777671813965,\n",
       "  0.681564211845398,\n",
       "  0.681564211845398,\n",
       "  0.681564211845398],\n",
       " 'val_loss': [0.6086403727531433,\n",
       "  0.6155323386192322,\n",
       "  0.5310524106025696,\n",
       "  0.48821142315864563,\n",
       "  0.6116048097610474,\n",
       "  0.46777626872062683,\n",
       "  0.5914110541343689,\n",
       "  0.6051967144012451,\n",
       "  0.5523269772529602,\n",
       "  0.5495592951774597,\n",
       "  0.7355818152427673],\n",
       " 'val_mse': [0.20906345546245575,\n",
       "  0.22117303311824799,\n",
       "  0.17342521250247955,\n",
       "  0.1654704362154007,\n",
       "  0.20234903693199158,\n",
       "  0.15302181243896484,\n",
       "  0.20137839019298553,\n",
       "  0.19429567456245422,\n",
       "  0.16123300790786743,\n",
       "  0.1559632420539856,\n",
       "  0.20350690186023712]}"
      ]
     },
     "execution_count": 11,
     "metadata": {},
     "output_type": "execute_result"
    }
   ],
   "source": [
    "history.history"
   ]
  },
  {
   "cell_type": "code",
   "execution_count": 20,
   "metadata": {},
   "outputs": [
    {
     "data": {
      "image/png": "[encoded data removed]",
      "text/plain": [
       "<Figure size 640x480 with 1 Axes>"
      ]
     },
     "metadata": {},
     "output_type": "display_data"
    }
   ],
   "source": [
    "plt.plot(history.history['loss'], c='r');\n",
    "plt.plot(history.history['mse'],c='b');\n",
    "plt.plot(history.history['val_loss'],c='g');\n",
    "plt.plot(history.history['F1Score']);\n"
   ]
  },
  {
   "cell_type": "code",
   "execution_count": 13,
   "metadata": {},
   "outputs": [
    {
     "data": {
      "text/html": [
       "<pre style=\"white-space:pre;overflow-x:auto;line-height:normal;font-family:Menlo,'DejaVu Sans Mono',consolas,'Courier New',monospace\"><span style=\"font-weight: bold\">Model: \"sequential\"</span>\n",
       "</pre>\n"
      ],
      "text/plain": [
       "\u001b[1mModel: \"sequential\"\u001b[0m\n"
      ]
     },
     "metadata": {},
     "output_type": "display_data"
    },
    {
     "data": {
      "text/html": [
       "<pre style=\"white-space:pre;overflow-x:auto;line-height:normal;font-family:Menlo,'DejaVu Sans Mono',consolas,'Courier New',monospace\">┏━━━━━━━━━━━━━━━━━━━━━━━━━━━━━━━━━┳━━━━━━━━━━━━━━━━━━━━━━━━┳━━━━━━━━━━━━━━━┓\n",
       "┃<span style=\"font-weight: bold\"> Layer (type)                    </span>┃<span style=\"font-weight: bold\"> Output Shape           </span>┃<span style=\"font-weight: bold\">       Param # </span>┃\n",
       "┡━━━━━━━━━━━━━━━━━━━━━━━━━━━━━━━━━╇━━━━━━━━━━━━━━━━━━━━━━━━╇━━━━━━━━━━━━━━━┩\n",
       "│ conv2d (<span style=\"color: #0087ff; text-decoration-color: #0087ff\">Conv2D</span>)                 │ (<span style=\"color: #00d7ff; text-decoration-color: #00d7ff\">None</span>, <span style=\"color: #00af00; text-decoration-color: #00af00\">256</span>, <span style=\"color: #00af00; text-decoration-color: #00af00\">256</span>, <span style=\"color: #00af00; text-decoration-color: #00af00\">32</span>)   │           <span style=\"color: #00af00; text-decoration-color: #00af00\">320</span> │\n",
       "├─────────────────────────────────┼────────────────────────┼───────────────┤\n",
       "│ max_pooling2d (<span style=\"color: #0087ff; text-decoration-color: #0087ff\">MaxPooling2D</span>)    │ (<span style=\"color: #00d7ff; text-decoration-color: #00d7ff\">None</span>, <span style=\"color: #00af00; text-decoration-color: #00af00\">128</span>, <span style=\"color: #00af00; text-decoration-color: #00af00\">128</span>, <span style=\"color: #00af00; text-decoration-color: #00af00\">32</span>)   │             <span style=\"color: #00af00; text-decoration-color: #00af00\">0</span> │\n",
       "├─────────────────────────────────┼────────────────────────┼───────────────┤\n",
       "│ conv2d_1 (<span style=\"color: #0087ff; text-decoration-color: #0087ff\">Conv2D</span>)               │ (<span style=\"color: #00d7ff; text-decoration-color: #00d7ff\">None</span>, <span style=\"color: #00af00; text-decoration-color: #00af00\">128</span>, <span style=\"color: #00af00; text-decoration-color: #00af00\">128</span>, <span style=\"color: #00af00; text-decoration-color: #00af00\">64</span>)   │        <span style=\"color: #00af00; text-decoration-color: #00af00\">18,496</span> │\n",
       "├─────────────────────────────────┼────────────────────────┼───────────────┤\n",
       "│ max_pooling2d_1 (<span style=\"color: #0087ff; text-decoration-color: #0087ff\">MaxPooling2D</span>)  │ (<span style=\"color: #00d7ff; text-decoration-color: #00d7ff\">None</span>, <span style=\"color: #00af00; text-decoration-color: #00af00\">64</span>, <span style=\"color: #00af00; text-decoration-color: #00af00\">64</span>, <span style=\"color: #00af00; text-decoration-color: #00af00\">64</span>)     │             <span style=\"color: #00af00; text-decoration-color: #00af00\">0</span> │\n",
       "├─────────────────────────────────┼────────────────────────┼───────────────┤\n",
       "│ flatten (<span style=\"color: #0087ff; text-decoration-color: #0087ff\">Flatten</span>)               │ (<span style=\"color: #00d7ff; text-decoration-color: #00d7ff\">None</span>, <span style=\"color: #00af00; text-decoration-color: #00af00\">262144</span>)         │             <span style=\"color: #00af00; text-decoration-color: #00af00\">0</span> │\n",
       "├─────────────────────────────────┼────────────────────────┼───────────────┤\n",
       "│ dense (<span style=\"color: #0087ff; text-decoration-color: #0087ff\">Dense</span>)                   │ (<span style=\"color: #00d7ff; text-decoration-color: #00d7ff\">None</span>, <span style=\"color: #00af00; text-decoration-color: #00af00\">256</span>)            │    <span style=\"color: #00af00; text-decoration-color: #00af00\">67,109,120</span> │\n",
       "├─────────────────────────────────┼────────────────────────┼───────────────┤\n",
       "│ dense_1 (<span style=\"color: #0087ff; text-decoration-color: #0087ff\">Dense</span>)                 │ (<span style=\"color: #00d7ff; text-decoration-color: #00d7ff\">None</span>, <span style=\"color: #00af00; text-decoration-color: #00af00\">1</span>)              │           <span style=\"color: #00af00; text-decoration-color: #00af00\">257</span> │\n",
       "└─────────────────────────────────┴────────────────────────┴───────────────┘\n",
       "</pre>\n"
      ],
      "text/plain": [
       "┏━━━━━━━━━━━━━━━━━━━━━━━━━━━━━━━━━┳━━━━━━━━━━━━━━━━━━━━━━━━┳━━━━━━━━━━━━━━━┓\n",
       "┃\u001b[1m \u001b[0m\u001b[1mLayer (type)                   \u001b[0m\u001b[1m \u001b[0m┃\u001b[1m \u001b[0m\u001b[1mOutput Shape          \u001b[0m\u001b[1m \u001b[0m┃\u001b[1m \u001b[0m\u001b[1m      Param #\u001b[0m\u001b[1m \u001b[0m┃\n",
       "┡━━━━━━━━━━━━━━━━━━━━━━━━━━━━━━━━━╇━━━━━━━━━━━━━━━━━━━━━━━━╇━━━━━━━━━━━━━━━┩\n",
       "│ conv2d (\u001b[38;5;33mConv2D\u001b[0m)                 │ (\u001b[38;5;45mNone\u001b[0m, \u001b[38;5;34m256\u001b[0m, \u001b[38;5;34m256\u001b[0m, \u001b[38;5;34m32\u001b[0m)   │           \u001b[38;5;34m320\u001b[0m │\n",
       "├─────────────────────────────────┼────────────────────────┼───────────────┤\n",
       "│ max_pooling2d (\u001b[38;5;33mMaxPooling2D\u001b[0m)    │ (\u001b[38;5;45mNone\u001b[0m, \u001b[38;5;34m128\u001b[0m, \u001b[38;5;34m128\u001b[0m, \u001b[38;5;34m32\u001b[0m)   │             \u001b[38;5;34m0\u001b[0m │\n",
       "├─────────────────────────────────┼────────────────────────┼───────────────┤\n",
       "│ conv2d_1 (\u001b[38;5;33mConv2D\u001b[0m)               │ (\u001b[38;5;45mNone\u001b[0m, \u001b[38;5;34m128\u001b[0m, \u001b[38;5;34m128\u001b[0m, \u001b[38;5;34m64\u001b[0m)   │        \u001b[38;5;34m18,496\u001b[0m │\n",
       "├─────────────────────────────────┼────────────────────────┼───────────────┤\n",
       "│ max_pooling2d_1 (\u001b[38;5;33mMaxPooling2D\u001b[0m)  │ (\u001b[38;5;45mNone\u001b[0m, \u001b[38;5;34m64\u001b[0m, \u001b[38;5;34m64\u001b[0m, \u001b[38;5;34m64\u001b[0m)     │             \u001b[38;5;34m0\u001b[0m │\n",
       "├─────────────────────────────────┼────────────────────────┼───────────────┤\n",
       "│ flatten (\u001b[38;5;33mFlatten\u001b[0m)               │ (\u001b[38;5;45mNone\u001b[0m, \u001b[38;5;34m262144\u001b[0m)         │             \u001b[38;5;34m0\u001b[0m │\n",
       "├─────────────────────────────────┼────────────────────────┼───────────────┤\n",
       "│ dense (\u001b[38;5;33mDense\u001b[0m)                   │ (\u001b[38;5;45mNone\u001b[0m, \u001b[38;5;34m256\u001b[0m)            │    \u001b[38;5;34m67,109,120\u001b[0m │\n",
       "├─────────────────────────────────┼────────────────────────┼───────────────┤\n",
       "│ dense_1 (\u001b[38;5;33mDense\u001b[0m)                 │ (\u001b[38;5;45mNone\u001b[0m, \u001b[38;5;34m1\u001b[0m)              │           \u001b[38;5;34m257\u001b[0m │\n",
       "└─────────────────────────────────┴────────────────────────┴───────────────┘\n"
      ]
     },
     "metadata": {},
     "output_type": "display_data"
    },
    {
     "data": {
      "text/html": [
       "<pre style=\"white-space:pre;overflow-x:auto;line-height:normal;font-family:Menlo,'DejaVu Sans Mono',consolas,'Courier New',monospace\"><span style=\"font-weight: bold\"> Total params: </span><span style=\"color: #00af00; text-decoration-color: #00af00\">201,384,581</span> (768.22 MB)\n",
       "</pre>\n"
      ],
      "text/plain": [
       "\u001b[1m Total params: \u001b[0m\u001b[38;5;34m201,384,581\u001b[0m (768.22 MB)\n"
      ]
     },
     "metadata": {},
     "output_type": "display_data"
    },
    {
     "data": {
      "text/html": [
       "<pre style=\"white-space:pre;overflow-x:auto;line-height:normal;font-family:Menlo,'DejaVu Sans Mono',consolas,'Courier New',monospace\"><span style=\"font-weight: bold\"> Trainable params: </span><span style=\"color: #00af00; text-decoration-color: #00af00\">67,128,193</span> (256.07 MB)\n",
       "</pre>\n"
      ],
      "text/plain": [
       "\u001b[1m Trainable params: \u001b[0m\u001b[38;5;34m67,128,193\u001b[0m (256.07 MB)\n"
      ]
     },
     "metadata": {},
     "output_type": "display_data"
    },
    {
     "data": {
      "text/html": [
       "<pre style=\"white-space:pre;overflow-x:auto;line-height:normal;font-family:Menlo,'DejaVu Sans Mono',consolas,'Courier New',monospace\"><span style=\"font-weight: bold\"> Non-trainable params: </span><span style=\"color: #00af00; text-decoration-color: #00af00\">0</span> (0.00 B)\n",
       "</pre>\n"
      ],
      "text/plain": [
       "\u001b[1m Non-trainable params: \u001b[0m\u001b[38;5;34m0\u001b[0m (0.00 B)\n"
      ]
     },
     "metadata": {},
     "output_type": "display_data"
    },
    {
     "data": {
      "text/html": [
       "<pre style=\"white-space:pre;overflow-x:auto;line-height:normal;font-family:Menlo,'DejaVu Sans Mono',consolas,'Courier New',monospace\"><span style=\"font-weight: bold\"> Optimizer params: </span><span style=\"color: #00af00; text-decoration-color: #00af00\">134,256,388</span> (512.15 MB)\n",
       "</pre>\n"
      ],
      "text/plain": [
       "\u001b[1m Optimizer params: \u001b[0m\u001b[38;5;34m134,256,388\u001b[0m (512.15 MB)\n"
      ]
     },
     "metadata": {},
     "output_type": "display_data"
    }
   ],
   "source": [
    "model.summary()"
   ]
  },
  {
   "cell_type": "code",
   "execution_count": null,
   "metadata": {},
   "outputs": [],
   "source": []
  }
 ],
 "metadata": {
  "kernelspec": {
   "display_name": "bacterial_motor",
   "language": "python",
   "name": "python3"
  },
  "language_info": {
   "codemirror_mode": {
    "name": "ipython",
    "version": 3
   },
   "file_extension": ".py",
   "mimetype": "text/x-python",
   "name": "python",
   "nbconvert_exporter": "python",
   "pygments_lexer": "ipython3",
   "version": "3.10.6"
  }
 },
 "nbformat": 4,
 "nbformat_minor": 2
}
