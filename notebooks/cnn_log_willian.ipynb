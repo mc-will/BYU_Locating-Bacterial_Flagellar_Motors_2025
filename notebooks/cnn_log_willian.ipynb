{
 "cells": [
  {
   "cell_type": "markdown",
   "metadata": {},
   "source": [
    "## CNN logistic\n"
   ]
  },
  {
   "cell_type": "markdown",
   "metadata": {},
   "source": [
    "Only photos with max 960 in axis X and Y\n",
    "\n",
    "MSE \n",
    "\n"
   ]
  },
  {
   "cell_type": "code",
   "execution_count": 1,
   "metadata": {},
   "outputs": [],
   "source": [
    "# !pip install keras\n",
    "# !pip install tensorflow-addons"
   ]
  },
  {
   "cell_type": "code",
   "execution_count": 2,
   "metadata": {},
   "outputs": [
    {
     "name": "stderr",
     "output_type": "stream",
     "text": [
      "/Users/wm/.pyenv/versions/3.10.6/envs/byu/lib/python3.10/site-packages/tensorflow_addons/utils/tfa_eol_msg.py:23: UserWarning: \n",
      "\n",
      "TensorFlow Addons (TFA) has ended development and introduction of new features.\n",
      "TFA has entered a minimal maintenance and release mode until a planned end of life in May 2024.\n",
      "Please modify downstream libraries to take dependencies from other repositories in our TensorFlow community (e.g. Keras, Keras-CV, and Keras-NLP). \n",
      "\n",
      "For more information see: https://github.com/tensorflow/addons/issues/2807 \n",
      "\n",
      "  warnings.warn(\n",
      "/Users/wm/.pyenv/versions/3.10.6/envs/byu/lib/python3.10/site-packages/tensorflow_addons/utils/ensure_tf_install.py:53: UserWarning: Tensorflow Addons supports using Python ops for all Tensorflow versions above or equal to 2.13.0 and strictly below 2.16.0 (nightly versions are not supported). \n",
      " The versions of TensorFlow you are currently using is 2.10.0 and is not supported. \n",
      "Some things might work, some things might not.\n",
      "If you were to encounter a bug, do not file an issue.\n",
      "If you want to make sure you're using a tested and supported configuration, either change the TensorFlow version or the TensorFlow Addons's version. \n",
      "You can find the compatibility matrix in TensorFlow Addon's readme:\n",
      "https://github.com/tensorflow/addons\n",
      "  warnings.warn(\n"
     ]
    }
   ],
   "source": [
    "import sys\n",
    "sys.path.append('../src')\n",
    "\n",
    "import os\n",
    "import pandas as pd\n",
    "import numpy as np\n",
    "import matplotlib.pyplot as plt\n",
    "from pathlib import Path\n",
    "from PIL import Image\n",
    "\n",
    "from tensorflow.keras import Sequential, Input, layers\n",
    "from keras.callbacks import EarlyStopping\n",
    "from tensorflow.keras.preprocessing.image import load_img, img_to_array\n",
    "from tensorflow_addons.metrics import FBetaScore\n",
    "\n",
    "from tensorflow.keras.metrics import Recall, Precision\n",
    "# from tensorflow_addons.metrics import F1Score\n",
    "\n",
    "from utils.data import get_best_slice, select_tomo_ids, get_csv_from_bq\n",
    "from utils.render_motor_position import get_motor_coordinates, get_slice_file_path\n"
   ]
  },
  {
   "cell_type": "code",
   "execution_count": 35,
   "metadata": {},
   "outputs": [
    {
     "data": {
      "text/plain": [
       "[500, 800, 600, 300, 400, 494]"
      ]
     },
     "execution_count": 35,
     "metadata": {},
     "output_type": "execute_result"
    }
   ],
   "source": [
    "path_train_csv= '../data/csv_raw/train_labels.csv'\n",
    "# /Users/wm/code/mc-will/bacterial_motor/BYU_Locating-Bacterial_Flagellar_Motors_2025/data/csv_raw/train_labels.csv\n",
    "path_image= '../data/pictures_raw/train'\n",
    "\n",
    "df = pd.read_csv(path_train_csv).copy()\n"
   ]
  },
  {
   "cell_type": "code",
   "execution_count": 4,
   "metadata": {},
   "outputs": [],
   "source": [
    "# pd.serie with list of tomo (tomo_2dd6bd)\n",
    "tomogram_id= select_tomo_ids(df,)\n"
   ]
  },
  {
   "cell_type": "code",
   "execution_count": 5,
   "metadata": {},
   "outputs": [],
   "source": [
    "# adding the IF on Thomas's fonction\n",
    "\n",
    "def get_best_slice(df, tomogram_id):\n",
    "    '''\n",
    "    Find the coordinates of the motor (only work with 1 motor tomogram), the use the z to get the picture_path where\n",
    "    the motor is located, i.e. the 'best slice'\n",
    "\n",
    "            Parameters:\n",
    "                df (pd.Dataframe): the dataset to find coordinates\n",
    "                tomogram_id (string): the tomogram id\n",
    "\n",
    "            Returns:\n",
    "                best_slice_path (string): the path of the picture of the 'best slice' (where the motor is located)\n",
    "\n",
    "    '''\n",
    "    x, y, z = get_motor_coordinates(df, tomogram_id)\n",
    "    if z <0:\n",
    "        best_slice = 150\n",
    "        best_slice_path = get_slice_file_path(tomogram_id, int(best_slice))\n",
    "    else:\n",
    "        best_slice_path = get_slice_file_path(tomogram_id, int(z))\n",
    "    return best_slice_path"
   ]
  },
  {
   "cell_type": "code",
   "execution_count": 24,
   "metadata": {},
   "outputs": [],
   "source": [
    "# list of paths : ['./data/pictures_raw/train/tomo_2dd6bd/slice_0150.jpg',    './data/pictures_raw/train/tomo_3264bc/slice_0150.jpg',...)\n",
    "best_slice =[get_best_slice(df,tomo) for tomo in tomogram_id]\n",
    "best_slice;\n"
   ]
  },
  {
   "cell_type": "code",
   "execution_count": 7,
   "metadata": {},
   "outputs": [],
   "source": [
    "# give an arrary of (416,) into this X[0].shape= (928, 928, 1)\n",
    "\n",
    "def load_slices(best_slice):\n",
    "    slices = []\n",
    "    for i in best_slice:\n",
    "        relative_path = i.lstrip('./')\n",
    "        img_path = Path('..') / relative_path\n",
    "\n",
    "\n",
    "        img = load_img(img_path, color_mode='grayscale')\n",
    "        img_array = img_to_array(img) / 255.0\n",
    "        slices.append(img_array)\n",
    "\n",
    "    return np.array(slices)\n"
   ]
  },
  {
   "cell_type": "code",
   "execution_count": 8,
   "metadata": {},
   "outputs": [
    {
     "name": "stderr",
     "output_type": "stream",
     "text": [
      "/var/folders/nr/0rc2wzzd26zd1tptqppt9kjr0000gn/T/ipykernel_26944/1099614466.py:14: VisibleDeprecationWarning: Creating an ndarray from ragged nested sequences (which is a list-or-tuple of lists-or-tuples-or ndarrays with different lengths or shapes) is deprecated. If you meant to do this, you must specify 'dtype=object' when creating the ndarray.\n",
      "  return np.array(slices)\n"
     ]
    }
   ],
   "source": [
    "# selection of y= 1 or 0 Motors\n",
    "\n",
    "X =load_slices(best_slice);\n",
    "\n",
    "df_filtered = df[df['tomo_id'].isin(tomogram_id)]\n",
    "y = df_filtered['Number_of_motors']"
   ]
  },
  {
   "cell_type": "code",
   "execution_count": 9,
   "metadata": {},
   "outputs": [
    {
     "data": {
      "text/plain": [
       "(416, 928, 928, 1)"
      ]
     },
     "execution_count": 9,
     "metadata": {},
     "output_type": "execute_result"
    }
   ],
   "source": [
    "\n",
    "target_size = (928, 928)\n",
    "slices_resized = []\n",
    "\n",
    "for i, img in enumerate(X):\n",
    "\n",
    "    pil_img = Image.fromarray((img * 255).astype('uint8').squeeze())  # out one canal if it is 1\n",
    "    pil_img = pil_img.resize(target_size)\n",
    "    img_array = img_to_array(pil_img) / 255.0\n",
    "    if img_array.ndim == 2:  # si vuelve a perder canal\n",
    "        img_array = np.expand_dims(img_array, axis=-1)\n",
    "    slices_resized.append(img_array)\n",
    "\n",
    "X = np.stack(slices_resized)\n",
    "X.shape\n"
   ]
  },
  {
   "cell_type": "code",
   "execution_count": 10,
   "metadata": {},
   "outputs": [],
   "source": [
    "from sklearn.model_selection import train_test_split\n",
    "\n",
    "X_train, X_test_kaggel, y_train, y_test = train_test_split(X, y, test_size=0.1, random_state=42)\n",
    "X_train, X_val, y_train, y_val = train_test_split(X_train, y_train, test_size=0.1, random_state=42)"
   ]
  },
  {
   "cell_type": "code",
   "execution_count": 11,
   "metadata": {},
   "outputs": [],
   "source": [
    "# CNN build\n",
    "def init_model_cnnlog(X):\n",
    "    model = Sequential()\n",
    "    model.add(Input(shape= X.shape[1:]))\n",
    "\n",
    "    model.add(layers.Conv2D(32, (3, 3),\n",
    "                            padding='same',\n",
    "                            activation=\"relu\"))\n",
    "    model.add(layers.MaxPool2D(pool_size=(2, 2)))\n",
    "    #\n",
    "    model.add(layers.Conv2D(64, (3, 3),\n",
    "                            padding='same',\n",
    "                            activation=\"relu\"))\n",
    "    model.add(layers.MaxPool2D(pool_size=(2, 2)))\n",
    "\n",
    "    model.add(layers.Conv2D(128, (3, 3),\n",
    "                            padding='same',\n",
    "                            activation=\"relu\"))\n",
    "    model.add(layers.BatchNormalization())\n",
    "\n",
    "    model.add(layers.MaxPooling2D(pool_size=(2, 2)))\n",
    "\n",
    "    model.add(layers.Flatten())\n",
    "    model.add(layers.Dropout(0.5))\n",
    "\n",
    "    model.add(layers.Dense(128, activation='relu'))\n",
    "    model.add(layers.Dropout(0.3))\n",
    "\n",
    "\n",
    "    model.add(layers.Dense(1, activation='sigmoid'))\n",
    "\n",
    "\n",
    "    ########\n",
    "\n",
    "    model.compile(loss= 'binary_crossentropy',\n",
    "                  optimizer = 'adam',\n",
    "                  metrics=['accuracy',\n",
    "                           FBetaScore(num_classes=1,\n",
    "                                      average='micro',\n",
    "                                      beta=2.0),\n",
    "                           Recall(),\n",
    "                        #    'precision',\n",
    "                           ],)\n",
    "\n",
    "    return model\n"
   ]
  },
  {
   "cell_type": "code",
   "execution_count": 12,
   "metadata": {},
   "outputs": [],
   "source": [
    "def model_train (model, X_train_processed, y_train, batch_size=16 ,epochs=5):\n",
    "    verbose=1\n",
    "    validation_split=0.1\n",
    "    es = EarlyStopping(patience=3,\n",
    "                       restore_best_weights=True)\n",
    "\n",
    "    history = model.fit(X_train_processed,\n",
    "                        y_train,\n",
    "                        batch_size=batch_size,\n",
    "                        epochs=epochs,\n",
    "                        # validation_split=validation_split,\n",
    "                        validation_data=(X_val, y_val),\n",
    "                        callbacks=[es],\n",
    "                        verbose=verbose)\n",
    "    return history\n"
   ]
  },
  {
   "cell_type": "code",
   "execution_count": 15,
   "metadata": {},
   "outputs": [],
   "source": [
    "model = init_model_cnnlog(X_train)"
   ]
  },
  {
   "cell_type": "code",
   "execution_count": 16,
   "metadata": {},
   "outputs": [
    {
     "name": "stdout",
     "output_type": "stream",
     "text": [
      "Epoch 1/5\n"
     ]
    },
    {
     "name": "stderr",
     "output_type": "stream",
     "text": [
      "2025-06-05 12:29:30.676781: W tensorflow/core/platform/profile_utils/cpu_utils.cc:128] Failed to get CPU frequency: 0 Hz\n"
     ]
    },
    {
     "name": "stdout",
     "output_type": "stream",
     "text": [
      "21/21 [==============================] - 773s 37s/step - loss: 21.8772 - accuracy: 0.6250 - fbeta_score: 0.8877 - recall_1: 0.7540 - val_loss: 2.2515 - val_accuracy: 0.2895 - val_fbeta_score: 0.9247 - val_recall_1: 0.0000e+00\n",
      "Epoch 2/5\n",
      "21/21 [==============================] - 616s 29s/step - loss: 0.5763 - accuracy: 0.7619 - fbeta_score: 0.9375 - recall_1: 0.9762 - val_loss: 0.6914 - val_accuracy: 0.3684 - val_fbeta_score: 0.9247 - val_recall_1: 0.2593\n",
      "Epoch 3/5\n",
      "21/21 [==============================] - 813s 38s/step - loss: 0.5010 - accuracy: 0.7619 - fbeta_score: 0.9375 - recall_1: 0.9405 - val_loss: 0.6301 - val_accuracy: 0.7105 - val_fbeta_score: 0.9247 - val_recall_1: 1.0000\n",
      "Epoch 4/5\n",
      "21/21 [==============================] - 1743s 85s/step - loss: 0.4874 - accuracy: 0.7738 - fbeta_score: 0.9375 - recall_1: 0.9722 - val_loss: 0.6299 - val_accuracy: 0.7105 - val_fbeta_score: 0.9247 - val_recall_1: 1.0000\n",
      "Epoch 5/5\n",
      "21/21 [==============================] - 623s 30s/step - loss: 0.4372 - accuracy: 0.7976 - fbeta_score: 0.9375 - recall_1: 0.9762 - val_loss: 0.7204 - val_accuracy: 0.2895 - val_fbeta_score: 0.9247 - val_recall_1: 0.0000e+00\n"
     ]
    },
    {
     "data": {
      "text/plain": [
       "<keras.callbacks.History at 0x33c5fd480>"
      ]
     },
     "execution_count": 16,
     "metadata": {},
     "output_type": "execute_result"
    }
   ],
   "source": [
    "\n",
    "history = model_train(model, X_train,y_train)\n",
    "history"
   ]
  },
  {
   "cell_type": "code",
   "execution_count": 17,
   "metadata": {},
   "outputs": [
    {
     "data": {
      "text/plain": [
       "{'loss': [21.87723159790039,\n",
       "  0.5763416290283203,\n",
       "  0.5009724497795105,\n",
       "  0.48738202452659607,\n",
       "  0.43723270297050476],\n",
       " 'accuracy': [0.625,\n",
       "  0.761904776096344,\n",
       "  0.761904776096344,\n",
       "  0.773809552192688,\n",
       "  0.7976190447807312],\n",
       " 'fbeta_score': [0.8877086639404297, 0.9375, 0.9375, 0.9375, 0.9375],\n",
       " 'recall_1': [0.7539682388305664,\n",
       "  0.976190447807312,\n",
       "  0.9404761791229248,\n",
       "  0.9722222089767456,\n",
       "  0.976190447807312],\n",
       " 'val_loss': [2.2514808177948,\n",
       "  0.6914106607437134,\n",
       "  0.6300923228263855,\n",
       "  0.6299126744270325,\n",
       "  0.7203736901283264],\n",
       " 'val_accuracy': [0.28947368264198303,\n",
       "  0.3684210479259491,\n",
       "  0.7105262875556946,\n",
       "  0.7105262875556946,\n",
       "  0.28947368264198303],\n",
       " 'val_fbeta_score': [0.9246575236320496,\n",
       "  0.9246575236320496,\n",
       "  0.9246575236320496,\n",
       "  0.9246575236320496,\n",
       "  0.9246575236320496],\n",
       " 'val_recall_1': [0.0, 0.25925925374031067, 1.0, 1.0, 0.0]}"
      ]
     },
     "execution_count": 17,
     "metadata": {},
     "output_type": "execute_result"
    }
   ],
   "source": [
    "history.history\n"
   ]
  },
  {
   "cell_type": "code",
   "execution_count": 23,
   "metadata": {},
   "outputs": [
    {
     "data": {
      "text/plain": [
       "<matplotlib.legend.Legend at 0x1601356c0>"
      ]
     },
     "execution_count": 23,
     "metadata": {},
     "output_type": "execute_result"
    },
    {
     "data": {
      "image/png": "[encoded data removed]",
      "text/plain": [
       "<Figure size 640x480 with 1 Axes>"
      ]
     },
     "metadata": {},
     "output_type": "display_data"
    }
   ],
   "source": [
    "# plt.plot(history.history['mse'],c='b');\n",
    "# plt.plot(history.history['val_mse'],c='black');\n",
    "\n",
    "# plt.plot(history.history['loss'], c='b', label ='loss');\n",
    "# plt.plot(history.history['val_loss'],c='b', linestyle='--', label = 'val_loss');\n",
    "\n",
    "\n",
    "plt.plot(history.history['fbeta_score'], c='r', label=\"fbeta_score\")\n",
    "plt.plot(history.history['val_fbeta_score'], c='r', linestyle='--', label=\"val_fbeta_score\")\n",
    "\n",
    "plt.plot(history.history['accuracy'],c='black', label=\"accuracy\")\n",
    "plt.plot(history.history['val_accuracy'],c='black', linestyle='--', label=\"val_accuracy\")\n",
    "\n",
    "\n",
    "plt.plot(history.history['recall_1'], c= 'g', label=\"recall\");\n",
    "plt.plot(history.history['val_recall_1'], c= 'g', linestyle='--', label=\"val_recall\");\n",
    "\n",
    "# plt.plot(history.history['precision'], c='g');\n",
    "# plt.plot(history.history['val_precision'], c='b');\n",
    "\n",
    "plt.legend()"
   ]
  },
  {
   "cell_type": "code",
   "execution_count": null,
   "metadata": {},
   "outputs": [],
   "source": [
    "# from tensorflow.keras.preprocessing.image import ImageDataGenerator\n",
    "# datagen = ImageDataGenerator(\n",
    "#     rotation_range=20,\n",
    "#     width_shift_range=0.1,\n",
    "#     height_shift_range=0.1,\n",
    "#     zoom_range=0.2,\n",
    "#     horizontal_flip=True,\n",
    "#     fill_mode='nearest'\n",
    "# )"
   ]
  },
  {
   "cell_type": "code",
   "execution_count": 21,
   "metadata": {},
   "outputs": [
    {
     "name": "stdout",
     "output_type": "stream",
     "text": [
      "Model: \"sequential_1\"\n",
      "_________________________________________________________________\n",
      " Layer (type)                Output Shape              Param #   \n",
      "=================================================================\n",
      " conv2d_3 (Conv2D)           (None, 928, 928, 32)      320       \n",
      "                                                                 \n",
      " max_pooling2d_3 (MaxPooling  (None, 464, 464, 32)     0         \n",
      " 2D)                                                             \n",
      "                                                                 \n",
      " conv2d_4 (Conv2D)           (None, 464, 464, 64)      18496     \n",
      "                                                                 \n",
      " max_pooling2d_4 (MaxPooling  (None, 232, 232, 64)     0         \n",
      " 2D)                                                             \n",
      "                                                                 \n",
      " conv2d_5 (Conv2D)           (None, 232, 232, 128)     73856     \n",
      "                                                                 \n",
      " batch_normalization_1 (Batc  (None, 232, 232, 128)    512       \n",
      " hNormalization)                                                 \n",
      "                                                                 \n",
      " max_pooling2d_5 (MaxPooling  (None, 116, 116, 128)    0         \n",
      " 2D)                                                             \n",
      "                                                                 \n",
      " flatten_1 (Flatten)         (None, 1722368)           0         \n",
      "                                                                 \n",
      " dropout_2 (Dropout)         (None, 1722368)           0         \n",
      "                                                                 \n",
      " dense_2 (Dense)             (None, 128)               220463232 \n",
      "                                                                 \n",
      " dropout_3 (Dropout)         (None, 128)               0         \n",
      "                                                                 \n",
      " dense_3 (Dense)             (None, 1)                 129       \n",
      "                                                                 \n",
      "=================================================================\n",
      "Total params: 220,556,545\n",
      "Trainable params: 220,556,289\n",
      "Non-trainable params: 256\n",
      "_________________________________________________________________\n"
     ]
    }
   ],
   "source": [
    "model.summary()"
   ]
  },
  {
   "cell_type": "code",
   "execution_count": null,
   "metadata": {},
   "outputs": [],
   "source": [
    "\n",
    "\n",
    "path_test_csv = '../data/csv_raw/sample_submission.csv'\n",
    "path_image_test = '../data/pictures_raw/test'\n",
    "\n",
    "\n",
    "df_test = pd.read_csv(path_test_csv).copy()\n",
    "\n",
    "# Obtener los tomogramas únicos\n",
    "tomogram_ids = df_test['tomo_id'].unique()\n",
    "\n",
    "# Parámetros\n",
    "slice_number = 1\n",
    "target_size = (928, 928)\n",
    "X_test_kaggel = []\n",
    "\n",
    "for tomo_id in tomogram_ids:\n",
    "    folder_path = os.path.join(path_image_test, tomo_id)\n",
    "    slice_name = f\"slice_{slice_number:04d}.jpg\"\n",
    "    slice_path = os.path.join(folder_path, slice_name)\n",
    "\n",
    "    if not os.path.exists(slice_path):\n",
    "        print(f\"⚠️ Slice not found: {slice_path}\")\n",
    "        continue\n",
    "\n",
    "    # Cargar y procesar imagen\n",
    "    img = load_img(slice_path, color_mode='grayscale')\n",
    "    pil_img = img.resize(target_size)\n",
    "    img_array = img_to_array(pil_img) / 255.0\n",
    "    X_test_kaggel.append(img_array)\n",
    "\n",
    "# Convertir a np.array\n",
    "X_test_kaggel = np.array(X_test_kaggel)\n"
   ]
  },
  {
   "cell_type": "code",
   "execution_count": null,
   "metadata": {},
   "outputs": [],
   "source": [
    "y_pred = model.predict(X_test_kaggel)\n",
    "\n",
    "y_pred\n"
   ]
  },
  {
   "cell_type": "code",
   "execution_count": null,
   "metadata": {},
   "outputs": [],
   "source": []
  },
  {
   "cell_type": "code",
   "execution_count": 8,
   "metadata": {},
   "outputs": [],
   "source": [
    "# \"\"\"\n",
    "# Function look the foto 72 in each 'tomo'\n",
    "# * Img size is too heavy at 960*960 pixel, so se test on 256*256\n",
    "\n",
    "# \"\"\"\n",
    "# def load_from_each_tomo(parent_folder,\n",
    "#                         img_size=(960, 960),\n",
    "#                         # img_size=(256,256),\n",
    "#                         # img_size=(128, 128),\n",
    "#                         ):\n",
    "\n",
    "#     slices = []\n",
    "#     # select the column of 'tomo_id' with only 1/0 Motors\n",
    "#     tomo_ids = df['tomo_id']\n",
    "#     # print (tomo_ids)\n",
    "\n",
    "#     # Loop to look each foto per Tomo_id\n",
    "#     for id in tomo_ids:\n",
    "#         # make the path btw parent_path and tomo_id\n",
    "#         tomo_path = os.path.join(parent_folder, id)\n",
    "#         # print(tomo_path)\n",
    "\n",
    "#         # Check if it is a real directory\n",
    "#         if os.path.isdir(tomo_path):\n",
    "#             # make a liste of all the photo per tomo\n",
    "#             all_slices = sorted([f for f in os.listdir(tomo_path)])\n",
    "#             # print(' all slices:',len(all_slices), type(all_slices), all_slices)\n",
    "\n",
    "#             number = 72 ### mean where the best photo is\n",
    "\n",
    "#             slice_path =os.path.join(tomo_path, all_slices[number])\n",
    "#             # load the img from slice_path with same size , in 1 chanel = W/B\n",
    "#             img = load_img(slice_path,\n",
    "#                            target_size=img_size,\n",
    "#                            color_mode='grayscale',\n",
    "#                            )\n",
    "#             # Normalization btw 0/1 divide by 255\n",
    "#             img_array = img_to_array(img) / 255\n",
    "\n",
    "#             # append to the slice list\n",
    "#             slices.append(img_array)\n",
    "\n",
    "#     # return un array to be used\n",
    "#     return np.array(slices)\n"
   ]
  },
  {
   "cell_type": "code",
   "execution_count": 29,
   "metadata": {},
   "outputs": [
    {
     "name": "stdout",
     "output_type": "stream",
     "text": [
      "Epoch 1/5\n",
      "21/21 [==============================] - 234s 11s/step - loss: 0.7322 - accuracy: 0.5893 - fbeta_score: 0.9375 - recall_2: 0.6905 - val_loss: 0.6120 - val_accuracy: 0.7105 - val_fbeta_score: 0.9247 - val_recall_2: 1.0000\n",
      "Epoch 2/5\n",
      "21/21 [==============================] - 330s 16s/step - loss: 0.5910 - accuracy: 0.7411 - fbeta_score: 0.9375 - recall_2: 0.9484 - val_loss: 0.5999 - val_accuracy: 0.7105 - val_fbeta_score: 0.9247 - val_recall_2: 1.0000\n",
      "Epoch 3/5\n",
      "21/21 [==============================] - 307s 15s/step - loss: 0.6347 - accuracy: 0.7202 - fbeta_score: 0.9375 - recall_2: 0.9365 - val_loss: 0.5751 - val_accuracy: 0.7105 - val_fbeta_score: 0.9247 - val_recall_2: 1.0000\n",
      "Epoch 4/5\n",
      "21/21 [==============================] - 327s 16s/step - loss: 0.6184 - accuracy: 0.7024 - fbeta_score: 0.9375 - recall_2: 0.9008 - val_loss: 0.5633 - val_accuracy: 0.7105 - val_fbeta_score: 0.9247 - val_recall_2: 1.0000\n",
      "Epoch 5/5\n",
      "21/21 [==============================] - 348s 17s/step - loss: 0.5900 - accuracy: 0.6964 - fbeta_score: 0.9375 - recall_2: 0.8929 - val_loss: 0.5556 - val_accuracy: 0.7105 - val_fbeta_score: 0.9247 - val_recall_2: 1.0000\n"
     ]
    },
    {
     "data": {
      "text/plain": [
       "<keras.callbacks.History at 0x16264c4c0>"
      ]
     },
     "execution_count": 29,
     "metadata": {},
     "output_type": "execute_result"
    }
   ],
   "source": [
    "from tensorflow.keras.applications import DenseNet121\n",
    "from tensorflow.keras.layers import GlobalAveragePooling2D, Dense, Dropout, Input, Lambda\n",
    "from tensorflow.keras.models import Model\n",
    "from tensorflow.keras.optimizers import Adam\n",
    "from tensorflow.keras.metrics import Recall\n",
    "import tensorflow as tf\n",
    "from tensorflow_addons.metrics import FBetaScore\n",
    "\n",
    "def init_model_densenet(X):\n",
    "    original_input_shape = X.shape[1:]\n",
    "\n",
    "    # Forzar input a 3 canales si es gris (1 canal)\n",
    "    if original_input_shape[-1] == 1:\n",
    "        base_input_shape = original_input_shape[:-1] + (3,)\n",
    "    else:\n",
    "        base_input_shape = original_input_shape\n",
    "\n",
    "    # Cargar modelo base DenseNet121 sin la capa de clasificación final\n",
    "    base_model = DenseNet121(include_top=False, weights='imagenet', input_shape=base_input_shape)\n",
    "    base_model.trainable = False\n",
    "\n",
    "    # Input layer\n",
    "    inputs = Input(shape=original_input_shape)\n",
    "\n",
    "    # Convertir a RGB si es necesario\n",
    "    if original_input_shape[-1] == 1:\n",
    "        x = Lambda(lambda x: tf.image.grayscale_to_rgb(x))(inputs)\n",
    "    else:\n",
    "        x = inputs\n",
    "\n",
    "    # Aplicar modelo base\n",
    "    x = base_model(x, training=False)\n",
    "    x = GlobalAveragePooling2D()(x)\n",
    "    x = Dropout(0.5)(x)\n",
    "    x = Dense(128, activation='relu')(x)\n",
    "    x = Dropout(0.3)(x)\n",
    "    outputs = Dense(1, activation='sigmoid')(x)\n",
    "\n",
    "    model = Model(inputs, outputs)\n",
    "\n",
    "    # Compilar\n",
    "    model.compile(\n",
    "        loss='binary_crossentropy',\n",
    "        optimizer=Adam(learning_rate=1e-4),\n",
    "        metrics=[\n",
    "            'accuracy',\n",
    "            FBetaScore(num_classes=1, average='micro', beta=2.0),\n",
    "            Recall()\n",
    "        ]\n",
    "    )\n",
    "\n",
    "    return model\n",
    "\n",
    "\n",
    "model_densenet = init_model_densenet(X_train)\n",
    "\n",
    "\n",
    "history_densenet = model_train(model_densenet, X_train,y_train)\n",
    "history_densenet"
   ]
  },
  {
   "cell_type": "code",
   "execution_count": 32,
   "metadata": {},
   "outputs": [
    {
     "data": {
      "text/plain": [
       "<matplotlib.legend.Legend at 0x3479bab90>"
      ]
     },
     "execution_count": 32,
     "metadata": {},
     "output_type": "execute_result"
    },
    {
     "data": {
      "image/png": "[encoded data removed]",
      "text/plain": [
       "<Figure size 640x480 with 1 Axes>"
      ]
     },
     "metadata": {},
     "output_type": "display_data"
    }
   ],
   "source": [
    "history_densenet.history\n",
    "\n",
    "\n",
    "plt.plot(history_densenet.history['fbeta_score'], c='r', label=\"fbeta_score\")\n",
    "plt.plot(history_densenet.history['val_fbeta_score'], c='r', linestyle='--', label=\"val_fbeta_score\")\n",
    "\n",
    "plt.plot(history_densenet.history['accuracy'],c='black', label=\"accuracy\")\n",
    "plt.plot(history_densenet.history['val_accuracy'],c='black', linestyle='--', label=\"val_accuracy\")\n",
    "\n",
    "\n",
    "# plt.plot(history_densenet.history['recall_1'], c= 'g', label=\"recall\");\n",
    "# plt.plot(history_densenet.history['val_recall_1'], c= 'g', linestyle='--', label=\"val_recall\");\n",
    "\n",
    "# plt.plot(history.history['precision'], c='g');\n",
    "# plt.plot(history.history['val_precision'], c='b');\n",
    "\n",
    "plt.legend()"
   ]
  },
  {
   "cell_type": "code",
   "execution_count": 33,
   "metadata": {},
   "outputs": [
    {
     "name": "stdout",
     "output_type": "stream",
     "text": [
      "2/2 [==============================] - 19s 4s/step - loss: 0.6487 - accuracy: 0.6190 - fbeta_score: 0.8904 - recall_2: 1.0000\n"
     ]
    },
    {
     "data": {
      "text/plain": [
       "[0.6486611366271973, 0.6190476417541504, 0.8904110193252563, 1.0]"
      ]
     },
     "execution_count": 33,
     "metadata": {},
     "output_type": "execute_result"
    }
   ],
   "source": [
    "model_densenet.evaluate(X_test_kaggel,y_test)"
   ]
  },
  {
   "cell_type": "code",
   "execution_count": 34,
   "metadata": {},
   "outputs": [
    {
     "name": "stdout",
     "output_type": "stream",
     "text": [
      "2/2 [==============================] - 5s 650ms/step - loss: 0.7017 - accuracy: 0.3810 - fbeta_score: 0.8904 - recall_1: 0.0000e+00\n"
     ]
    },
    {
     "data": {
      "text/plain": [
       "[0.7016727924346924, 0.380952388048172, 0.8904110193252563, 0.0]"
      ]
     },
     "execution_count": 34,
     "metadata": {},
     "output_type": "execute_result"
    }
   ],
   "source": [
    "model.evaluate(X_test_kaggel,y_test)"
   ]
  },
  {
   "cell_type": "code",
   "execution_count": null,
   "metadata": {},
   "outputs": [],
   "source": []
  }
 ],
 "metadata": {
  "kernelspec": {
   "display_name": "byu",
   "language": "python",
   "name": "python3"
  },
  "language_info": {
   "codemirror_mode": {
    "name": "ipython",
    "version": 3
   },
   "file_extension": ".py",
   "mimetype": "text/x-python",
   "name": "python",
   "nbconvert_exporter": "python",
   "pygments_lexer": "ipython3",
   "version": "3.10.6"
  }
 },
 "nbformat": 4,
 "nbformat_minor": 2
}
